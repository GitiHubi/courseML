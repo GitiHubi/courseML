{
 "cells": [
  {
   "cell_type": "markdown",
   "metadata": {},
   "source": [
    "<img align=\"right\" style=\"max-width: 200px; height: auto\" src=\"hsg_logo.png\">\n",
    "\n",
    "###  Lab 06 - \"Deep Learning - Convolutional Neural Networks\"\n",
    "\n",
    "Introduction to AI and ML, University of St. Gallen, Autumn Term 2019"
   ]
  },
  {
   "cell_type": "markdown",
   "metadata": {},
   "source": [
    "In the last lab you learned about how to utilize a **supervised** (deep) machine learning technique namely **Artificial Neural Networks (ANNs)** to classify tiny images of handwritten digits contained in the MNIST dataset. \n",
    "\n",
    "In this sixth lab, we will learn how to enhance ANNs using PyTorch to classify even more complex images. Therefore, we use a special type of deep neural network referred to **Convolutional Neural Networks (CNNs)**. CNNs encompass the ability to take advantage of the hierarchical pattern in data and assemble more complex patterns using smaller and simpler patterns. Therefore, CNNs are capable to learn a set of discriminative features 'pattern' and subsequently utilize the learned pattern to classify the content of an image.\n",
    "\n",
    "We will again use the functionality of the **'PyTorch'** library to implement and train an CNN based neural network. The network will be trained on a set of tiny images to learn a model of the image content. Upon successful training, we will utilize the learned CNN model to classify so far unseen tiny images into distinct categories such as aeroplanes, cars, birds, cats, deer, dogs, frogs, horses, ships, and trucks. \n",
    "\n",
    "The figure below illustrates a high-level view on the machine learning process we aim to establish in this lab."
   ]
  },
  {
   "cell_type": "markdown",
   "metadata": {},
   "source": [
    "<img align=\"center\" style=\"max-width: 900px\" src=\"classification.png\">"
   ]
  },
  {
   "cell_type": "markdown",
   "metadata": {},
   "source": [
    "(Image of the CNN architecture created via http://alexlenail.me/)\n",
    "\n",
    "As always, pls. don't hesitate to ask all your questions either during the lab, post them in our CANVAS (StudyNet) forum (https://learning.unisg.ch), or send us an email (using the course email)."
   ]
  },
  {
   "cell_type": "markdown",
   "metadata": {},
   "source": [
    "### Lab Objectives:"
   ]
  },
  {
   "cell_type": "markdown",
   "metadata": {},
   "source": [
    "After today's lab, you should be able to:\n",
    "\n",
    "> 1. Understand the basic concepts, intuitions and major building blocks of **Convolutional Neural Networks (CNNs)**.\n",
    "> 2. Know how to **implement and to train a CNN** to learn a model of tiny image data.\n",
    "> 3. Understand how to apply such a learned model to **classify images** images based on their content into distinct categories.\n",
    "> 4. Know how to **interpret and visualize** the model's classification results."
   ]
  },
  {
   "cell_type": "markdown",
   "metadata": {},
   "source": [
    "### Setup of the Jupyter Notebook Environment"
   ]
  },
  {
   "cell_type": "markdown",
   "metadata": {},
   "source": [
    "Similar to the previous labs, we need to import a couple of Python libraries that allow for data analysis and data visualization. We will mostly use the `PyTorch`, `Numpy`, `Sklearn`, `Matplotlib`, `Seaborn` and a few utility libraries throughout this lab:"
   ]
  },
  {
   "cell_type": "code",
   "execution_count": 1,
   "metadata": {},
   "outputs": [],
   "source": [
    "# import standard python libraries\n",
    "import os\n",
    "from datetime import datetime\n",
    "import numpy as np"
   ]
  },
  {
   "cell_type": "markdown",
   "metadata": {},
   "source": [
    "Import Python machine / deep learning libraries:"
   ]
  },
  {
   "cell_type": "code",
   "execution_count": 2,
   "metadata": {},
   "outputs": [],
   "source": [
    "# import the PyTorch deep learning library\n",
    "import torch, torchvision\n",
    "import torch.nn.functional as F\n",
    "from torch import nn, optim\n",
    "from torch.autograd import Variable"
   ]
  },
  {
   "cell_type": "markdown",
   "metadata": {},
   "source": [
    "Import the sklearn classification metrics:"
   ]
  },
  {
   "cell_type": "code",
   "execution_count": 3,
   "metadata": {},
   "outputs": [],
   "source": [
    "# import sklearn classification evaluation library\n",
    "from sklearn import metrics\n",
    "from sklearn.metrics import classification_report, confusion_matrix"
   ]
  },
  {
   "cell_type": "markdown",
   "metadata": {},
   "source": [
    "Import Python plotting libraries:"
   ]
  },
  {
   "cell_type": "code",
   "execution_count": 4,
   "metadata": {},
   "outputs": [],
   "source": [
    "# import matplotlib, seaborn, and PIL data visualization libary\n",
    "import matplotlib.pyplot as plt\n",
    "import seaborn as sns\n",
    "from PIL import Image"
   ]
  },
  {
   "cell_type": "markdown",
   "metadata": {},
   "source": [
    "Enable notebook matplotlib inline plotting:"
   ]
  },
  {
   "cell_type": "code",
   "execution_count": 5,
   "metadata": {},
   "outputs": [],
   "source": [
    "%matplotlib inline"
   ]
  },
  {
   "cell_type": "markdown",
   "metadata": {},
   "source": [
    "Create notebook folder structure to store the data as well as the trained neural network models:"
   ]
  },
  {
   "cell_type": "code",
   "execution_count": 6,
   "metadata": {},
   "outputs": [],
   "source": [
    "if not os.path.exists('./data'): os.makedirs('./data')  # create data directory\n",
    "if not os.path.exists('./models'): os.makedirs('./models')  # create trained models directory"
   ]
  },
  {
   "cell_type": "markdown",
   "metadata": {},
   "source": [
    "Enable GPU computing by setting the `device` flag and init a `CUDA` seed:"
   ]
  },
  {
   "cell_type": "code",
   "execution_count": null,
   "metadata": {},
   "outputs": [],
   "source": [
    "# set cpu or gpu enabled device\n",
    "device = torch.device('cuda' if torch.cuda.is_available() else 'cpu').type\n",
    "\n",
    "# init deterministic GPU seed\n",
    "torch.cuda.manual_seed(seed_value)\n",
    "\n",
    "# log type of device enabled\n",
    "print('[LOG] notebook with {} computation enabled'.format(str(device)))"
   ]
  },
  {
   "cell_type": "markdown",
   "metadata": {},
   "source": [
    "Let's determine if we have access to a GPU provided by e.g. Google's COLab environment:"
   ]
  },
  {
   "cell_type": "code",
   "execution_count": null,
   "metadata": {},
   "outputs": [],
   "source": [
    "!nvidia-smi"
   ]
  },
  {
   "cell_type": "markdown",
   "metadata": {},
   "source": [
    "### 1. Dataset Download and Data Assessment"
   ]
  },
  {
   "cell_type": "markdown",
   "metadata": {},
   "source": [
    "The **CIFAR-10 database** (**C**anadian **I**nstitute **F**or **A**dvanced **R**esearch) is a collection of images that are commonly used to train machine learning and computer vision algorithms. The database is widely used to conduct computer vision research using machine learning and deep learning methods:"
   ]
  },
  {
   "cell_type": "markdown",
   "metadata": {},
   "source": [
    "<img align=\"center\" style=\"max-width: 500px; height: 500px\" src=\"cifar10.png\">\n",
    "\n",
    "(Source: https://www.kaggle.com/c/cifar-10)"
   ]
  },
  {
   "cell_type": "markdown",
   "metadata": {},
   "source": [
    "Further details on the dataset can be obtained via: *Krizhevsky, A., 2009. \"Learning Multiple Layers of Features from Tiny Images\",  \n",
    "( https://www.cs.toronto.edu/~kriz/learning-features-2009-TR.pdf ).\"*"
   ]
  },
  {
   "cell_type": "markdown",
   "metadata": {},
   "source": [
    "The CIFAR-10 database contains **60,000 color images** (50,000 training images and 10,000 validation images). The size of each image is 32 by 32 pixels. The collection of images encompasses 10 different classes that represent airplanes, cars, birds, cats, deer, dogs, frogs, horses, ships, and trucks. Let's define the distinct classs for further analytics:"
   ]
  },
  {
   "cell_type": "code",
   "execution_count": 7,
   "metadata": {},
   "outputs": [],
   "source": [
    "cifar10_classes = ['plane', 'car', 'bird', 'cat', 'deer', 'dog', 'frog', 'horse', 'ship', 'truck']"
   ]
  },
  {
   "cell_type": "markdown",
   "metadata": {},
   "source": [
    "Thereby the dataset contains 6,000 images for each of the ten classes. The CIFAR-10 is a straightforward dataset that can be used to teach a computer how to recognize objects in images.\n",
    "\n",
    "Let's download, transform and inspect the training images of the dataset. Therefore, we first will define the directory we aim to store the training data:"
   ]
  },
  {
   "cell_type": "code",
   "execution_count": 8,
   "metadata": {},
   "outputs": [],
   "source": [
    "train_path = './data/train_cifar10'"
   ]
  },
  {
   "cell_type": "markdown",
   "metadata": {},
   "source": [
    "Now, let's download the training data accordingly:"
   ]
  },
  {
   "cell_type": "code",
   "execution_count": 9,
   "metadata": {},
   "outputs": [
    {
     "name": "stderr",
     "output_type": "stream",
     "text": [
      "\r",
      "0it [00:00, ?it/s]"
     ]
    },
    {
     "name": "stdout",
     "output_type": "stream",
     "text": [
      "Downloading https://www.cs.toronto.edu/~kriz/cifar-10-python.tar.gz to ./data/train_cifar10/cifar-10-python.tar.gz\n"
     ]
    },
    {
     "name": "stderr",
     "output_type": "stream",
     "text": [
      "100%|█████████▉| 170418176/170498071 [01:41<00:00, 1588652.02it/s]"
     ]
    },
    {
     "name": "stdout",
     "output_type": "stream",
     "text": [
      "Extracting ./data/train_cifar10/cifar-10-python.tar.gz to ./data/train_cifar10\n"
     ]
    },
    {
     "name": "stderr",
     "output_type": "stream",
     "text": [
      "\r",
      "170500096it [02:00, 1588652.02it/s]                               "
     ]
    }
   ],
   "source": [
    "# define pytorch transformation into tensor format\n",
    "transf = torchvision.transforms.Compose([torchvision.transforms.ToTensor(), torchvision.transforms.Normalize((0.5, 0.5, 0.5), (0.5, 0.5, 0.5))])\n",
    "\n",
    "# download and transform training images\n",
    "cifar10_train_data = torchvision.datasets.CIFAR10(root=train_path, train=True, transform=transf, download=True)"
   ]
  },
  {
   "cell_type": "markdown",
   "metadata": {},
   "source": [
    "Verify the volume of training images downloaded:"
   ]
  },
  {
   "cell_type": "code",
   "execution_count": 10,
   "metadata": {},
   "outputs": [
    {
     "data": {
      "text/plain": [
       "50000"
      ]
     },
     "execution_count": 10,
     "metadata": {},
     "output_type": "execute_result"
    }
   ],
   "source": [
    "# get the length of the training data\n",
    "len(cifar10_train_data)"
   ]
  },
  {
   "cell_type": "markdown",
   "metadata": {},
   "source": [
    "Furthermore, let's investigate a couple of the training images:"
   ]
  },
  {
   "cell_type": "code",
   "execution_count": 11,
   "metadata": {},
   "outputs": [
    {
     "data": {
      "text/plain": [
       "(tensor([[[ 0.0118, -0.0039,  0.0118,  ...,  0.0353,  0.0353,  0.0275],\n",
       "          [ 0.0039,  0.0039,  0.0118,  ...,  0.0275,  0.0275,  0.0196],\n",
       "          [ 0.0196,  0.0039,  0.0196,  ...,  0.0431,  0.0353,  0.0353],\n",
       "          ...,\n",
       "          [-0.2000, -0.2627, -0.4745,  ...,  0.0510,  0.0353,  0.0275],\n",
       "          [-0.1529, -0.2471, -0.3725,  ...,  0.0431,  0.0275,  0.0196],\n",
       "          [-0.1373, -0.3725, -0.4902,  ...,  0.0275,  0.0196,  0.0118]],\n",
       " \n",
       "         [[ 0.1922,  0.1765,  0.1922,  ...,  0.2000,  0.2000,  0.1922],\n",
       "          [ 0.1922,  0.1843,  0.1922,  ...,  0.1922,  0.1922,  0.1843],\n",
       "          [ 0.2000,  0.1843,  0.2000,  ...,  0.2078,  0.2000,  0.2000],\n",
       "          ...,\n",
       "          [-0.1137, -0.1843, -0.4667,  ...,  0.2314,  0.2157,  0.2078],\n",
       "          [-0.0667, -0.1451, -0.3569,  ...,  0.2235,  0.2078,  0.2000],\n",
       "          [-0.0588, -0.2471, -0.4588,  ...,  0.2078,  0.2000,  0.1922]],\n",
       " \n",
       "         [[ 0.5451,  0.5216,  0.5373,  ...,  0.5529,  0.5529,  0.5451],\n",
       "          [ 0.5373,  0.5216,  0.5373,  ...,  0.5451,  0.5451,  0.5373],\n",
       "          [ 0.5451,  0.5294,  0.5451,  ...,  0.5608,  0.5529,  0.5529],\n",
       "          ...,\n",
       "          [-0.6863, -0.6235, -0.7020,  ...,  0.5765,  0.5608,  0.5529],\n",
       "          [-0.6314, -0.5765, -0.5922,  ...,  0.5686,  0.5529,  0.5451],\n",
       "          [-0.5608, -0.6627, -0.6941,  ...,  0.5529,  0.5451,  0.5373]]]), 2)"
      ]
     },
     "execution_count": 11,
     "metadata": {},
     "output_type": "execute_result"
    }
   ],
   "source": [
    "# set (random) image id\n",
    "image_id = 1800\n",
    "\n",
    "# retrieve image exhibiting the image id\n",
    "cifar10_train_data[image_id]"
   ]
  },
  {
   "cell_type": "markdown",
   "metadata": {},
   "source": [
    "Ok, that doesn't seem easily interpretable ;) Let's first seperate the image from its label information:"
   ]
  },
  {
   "cell_type": "code",
   "execution_count": 12,
   "metadata": {},
   "outputs": [],
   "source": [
    "cifar10_train_image, cifar10_train_label = cifar10_train_data[image_id]"
   ]
  },
  {
   "cell_type": "markdown",
   "metadata": {},
   "source": [
    "Great, now we are able to visually inspect our sample image: "
   ]
  },
  {
   "cell_type": "code",
   "execution_count": 13,
   "metadata": {},
   "outputs": [
    {
     "data": {
      "text/plain": [
       "<matplotlib.image.AxesImage at 0x1370f5050>"
      ]
     },
     "execution_count": 13,
     "metadata": {},
     "output_type": "execute_result"
    },
    {
     "data": {
      "image/png": "[encoded data removed]",
      "text/plain": [
       "<Figure size 432x288 with 1 Axes>"
      ]
     },
     "metadata": {
      "needs_background": "light"
     },
     "output_type": "display_data"
    }
   ],
   "source": [
    "# define tensor to image transformation\n",
    "trans = torchvision.transforms.ToPILImage()\n",
    "\n",
    "# set image plot title \n",
    "plt.title('Example: {}, Label: \"{}\"'.format(str(image_id), str(cifar10_classes[cifar10_train_label])))\n",
    "\n",
    "# un-normalize cifar 10 image sample\n",
    "cifar10_train_image_plot = cifar10_train_image / 2.0 + 0.5\n",
    "\n",
    "# plot 10 image sample\n",
    "plt.imshow(trans(cifar10_train_image_plot))"
   ]
  },
  {
   "cell_type": "markdown",
   "metadata": {},
   "source": [
    "Fantastic, right? Let's now decide on where we want to store the evaluation data:"
   ]
  },
  {
   "cell_type": "code",
   "execution_count": 14,
   "metadata": {},
   "outputs": [],
   "source": [
    "eval_path = './data/eval_cifar10'"
   ]
  },
  {
   "cell_type": "markdown",
   "metadata": {},
   "source": [
    "And download the evaluation data accordingly:"
   ]
  },
  {
   "cell_type": "code",
   "execution_count": 15,
   "metadata": {},
   "outputs": [
    {
     "name": "stderr",
     "output_type": "stream",
     "text": [
      "\n",
      "0it [00:00, ?it/s]\u001b[A"
     ]
    },
    {
     "name": "stdout",
     "output_type": "stream",
     "text": [
      "Downloading https://www.cs.toronto.edu/~kriz/cifar-10-python.tar.gz to ./data/eval_cifar10/cifar-10-python.tar.gz\n"
     ]
    },
    {
     "name": "stderr",
     "output_type": "stream",
     "text": [
      "\n",
      "  0%|          | 0/170498071 [00:00<?, ?it/s]\u001b[A\n",
      "  0%|          | 24576/170498071 [00:00<11:35, 244949.63it/s]\u001b[A\n",
      "  0%|          | 57344/170498071 [00:00<10:49, 262315.43it/s]\u001b[A\n",
      "  0%|          | 139264/170498071 [00:00<08:38, 328809.76it/s]\u001b[A\n",
      "  0%|          | 221184/170498071 [00:00<07:43, 367212.71it/s]\u001b[A\n",
      "  0%|          | 352256/170498071 [00:01<06:06, 464535.69it/s]\u001b[A\n",
      "  0%|          | 499712/170498071 [00:01<04:50, 584575.60it/s]\u001b[A\n",
      "  0%|          | 663552/170498071 [00:01<03:56, 719010.69it/s]\u001b[A\n",
      "  0%|          | 827392/170498071 [00:01<03:16, 864392.90it/s]\u001b[A\n",
      "  1%|          | 1007616/170498071 [00:01<02:46, 1020144.88it/s]\u001b[A\n",
      "  1%|          | 1204224/170498071 [00:01<02:23, 1180248.61it/s]\u001b[A\n",
      "  1%|          | 1400832/170498071 [00:01<02:06, 1336086.49it/s]\u001b[A\n",
      "  1%|          | 1597440/170498071 [00:01<01:54, 1476387.76it/s]\u001b[A\n",
      "  1%|          | 1810432/170498071 [00:01<01:44, 1621392.41it/s]\u001b[A\n",
      "  1%|          | 2031616/170498071 [00:01<01:35, 1762523.40it/s]\u001b[A\n",
      "  1%|▏         | 2252800/170498071 [00:02<01:29, 1873748.99it/s]\u001b[A\n",
      "  1%|▏         | 2457600/170498071 [00:02<01:32, 1824558.66it/s]\u001b[A\n",
      "  2%|▏         | 2678784/170498071 [00:02<01:27, 1919395.60it/s]\u001b[A\n",
      "  2%|▏         | 2883584/170498071 [00:02<01:37, 1726559.58it/s]\u001b[A\n",
      "  2%|▏         | 3072000/170498071 [00:02<01:39, 1688674.77it/s]\u001b[A\n",
      "  2%|▏         | 3252224/170498071 [00:02<01:37, 1718307.98it/s]\u001b[A\n",
      "  2%|▏         | 3448832/170498071 [00:02<01:34, 1776438.71it/s]\u001b[A\n",
      "  2%|▏         | 3645440/170498071 [00:02<01:32, 1812037.78it/s]\u001b[A\n",
      "  2%|▏         | 3842048/170498071 [00:02<01:31, 1821699.42it/s]\u001b[A\n",
      "  2%|▏         | 4038656/170498071 [00:03<01:30, 1845869.37it/s]\u001b[A\n",
      "  2%|▏         | 4235264/170498071 [00:03<01:28, 1879142.12it/s]\u001b[A\n",
      "  3%|▎         | 4448256/170498071 [00:03<01:25, 1940143.14it/s]\u001b[A\n",
      "  3%|▎         | 4661248/170498071 [00:03<01:23, 1989167.19it/s]\u001b[A\n",
      "  3%|▎         | 4866048/170498071 [00:03<01:22, 2003708.97it/s]\u001b[A\n",
      "  3%|▎         | 5070848/170498071 [00:03<01:47, 1545432.03it/s]\u001b[A\n",
      "  3%|▎         | 5382144/170498071 [00:03<01:31, 1808698.25it/s]\u001b[A\n",
      "  3%|▎         | 5595136/170498071 [00:03<01:28, 1858812.44it/s]\u001b[A\n",
      "  3%|▎         | 5808128/170498071 [00:04<01:44, 1575138.82it/s]\u001b[A\n",
      "  4%|▎         | 5988352/170498071 [00:04<01:41, 1612846.98it/s]\u001b[A\n",
      "  4%|▎         | 6168576/170498071 [00:04<01:39, 1646823.47it/s]\u001b[A\n",
      "  4%|▎         | 6348800/170498071 [00:04<01:40, 1625842.77it/s]\u001b[A\n",
      "  4%|▍         | 6520832/170498071 [00:04<01:41, 1608276.93it/s]\u001b[A\n",
      "  4%|▍         | 6692864/170498071 [00:04<01:40, 1633061.27it/s]\u001b[A\n",
      "  4%|▍         | 6864896/170498071 [00:04<01:38, 1657131.28it/s]\u001b[A\n",
      "  4%|▍         | 7036928/170498071 [00:04<01:38, 1663188.41it/s]\u001b[A\n",
      "  4%|▍         | 7208960/170498071 [00:04<01:53, 1442067.05it/s]\u001b[A\n",
      "  4%|▍         | 7380992/170498071 [00:05<01:49, 1491912.48it/s]\u001b[A\n",
      "  4%|▍         | 7536640/170498071 [00:05<01:51, 1467549.71it/s]\u001b[A\n",
      "  5%|▍         | 7692288/170498071 [00:05<01:57, 1381243.78it/s]\u001b[A\n",
      "  5%|▍         | 7839744/170498071 [00:05<02:10, 1249259.15it/s]\u001b[A\n",
      "  5%|▍         | 7970816/170498071 [00:05<02:09, 1252119.93it/s]\u001b[A\n",
      "  5%|▍         | 8101888/170498071 [00:05<02:08, 1268176.52it/s]\u001b[A\n",
      "  5%|▍         | 8232960/170498071 [00:05<02:06, 1280485.11it/s]\u001b[A\n",
      "  5%|▍         | 8380416/170498071 [00:05<02:05, 1287770.01it/s]\u001b[A\n",
      "  5%|▌         | 8527872/170498071 [00:05<02:02, 1327179.67it/s]\u001b[A\n",
      "  5%|▌         | 8675328/170498071 [00:06<02:06, 1277596.17it/s]\u001b[A\n",
      "  5%|▌         | 8806400/170498071 [00:06<02:06, 1281965.62it/s]\u001b[A\n",
      "  5%|▌         | 8953856/170498071 [00:06<02:01, 1330568.38it/s]\u001b[A\n",
      "  5%|▌         | 9093120/170498071 [00:06<02:34, 1044738.78it/s]\u001b[A\n",
      "  5%|▌         | 9297920/170498071 [00:06<02:12, 1220066.73it/s]\u001b[A\n",
      "  6%|▌         | 9445376/170498071 [00:06<02:21, 1139169.59it/s]\u001b[A\n",
      "  6%|▌         | 9576448/170498071 [00:06<02:20, 1143619.58it/s]\u001b[A\n",
      "  6%|▌         | 9707520/170498071 [00:06<02:28, 1081680.68it/s]\u001b[A\n",
      "  6%|▌         | 9830400/170498071 [00:07<02:24, 1114749.33it/s]\u001b[A\n",
      "  6%|▌         | 9953280/170498071 [00:07<02:39, 1008542.49it/s]\u001b[A\n",
      "  6%|▌         | 10067968/170498071 [00:07<02:34, 1040580.46it/s]\u001b[A\n",
      "  6%|▌         | 10182656/170498071 [00:07<02:30, 1068173.38it/s]\u001b[A\n",
      "  6%|▌         | 10297344/170498071 [00:07<02:27, 1088726.61it/s]\u001b[A\n",
      "  6%|▌         | 10412032/170498071 [00:07<02:25, 1103513.44it/s]\u001b[A\n",
      "  6%|▌         | 10526720/170498071 [00:07<02:26, 1089830.92it/s]\u001b[A\n",
      "  6%|▌         | 10641408/170498071 [00:07<02:35, 1028132.79it/s]\u001b[A\n",
      "  6%|▋         | 10756096/170498071 [00:07<02:31, 1054585.51it/s]\u001b[A\n",
      "  6%|▋         | 10887168/170498071 [00:08<03:12, 831176.13it/s] \u001b[A\n",
      "  6%|▋         | 11001856/170498071 [00:08<02:57, 899535.80it/s]\u001b[A\n",
      "  7%|▋         | 11116544/170498071 [00:08<02:46, 954749.85it/s]\u001b[A\n",
      "  7%|▋         | 11231232/170498071 [00:08<02:39, 1000258.00it/s]\u001b[A\n",
      "  7%|▋         | 11362304/170498071 [00:08<02:29, 1067791.16it/s]\u001b[A\n",
      "  7%|▋         | 11476992/170498071 [00:08<02:26, 1088907.65it/s]\u001b[A\n",
      "  7%|▋         | 11608064/170498071 [00:08<02:21, 1122603.21it/s]\u001b[A\n",
      "  7%|▋         | 11739136/170498071 [00:08<02:15, 1169796.98it/s]\u001b[A\n",
      "  7%|▋         | 11862016/170498071 [00:09<02:14, 1176307.12it/s]\u001b[A\n",
      "  7%|▋         | 11984896/170498071 [00:09<02:13, 1184205.83it/s]\u001b[A\n",
      "  7%|▋         | 12115968/170498071 [00:09<02:10, 1217252.95it/s]\u001b[A\n",
      "  7%|▋         | 12238848/170498071 [00:09<02:10, 1214515.77it/s]\u001b[A\n",
      "  7%|▋         | 12361728/170498071 [00:09<02:31, 1044528.75it/s]\u001b[A\n",
      "  7%|▋         | 12492800/170498071 [00:09<02:26, 1077853.19it/s]\u001b[A\n",
      "  7%|▋         | 12623872/170498071 [00:09<02:20, 1124392.14it/s]\u001b[A\n",
      "  7%|▋         | 12754944/170498071 [00:09<02:16, 1156924.44it/s]\u001b[A\n",
      "  8%|▊         | 12886016/170498071 [00:09<02:13, 1184023.38it/s]\u001b[A\n",
      "  8%|▊         | 13017088/170498071 [00:10<02:16, 1156063.88it/s]\u001b[A\n",
      "  8%|▊         | 13148160/170498071 [00:10<02:12, 1191697.48it/s]\u001b[A\n",
      "  8%|▊         | 13271040/170498071 [00:10<02:11, 1196509.66it/s]\u001b[A\n",
      "  8%|▊         | 13393920/170498071 [00:10<02:11, 1193694.35it/s]\u001b[A\n",
      "  8%|▊         | 13516800/170498071 [00:10<02:10, 1200934.35it/s]\u001b[A\n",
      "  8%|▊         | 13639680/170498071 [00:10<02:22, 1102748.71it/s]\u001b[A\n",
      "  8%|▊         | 13770752/170498071 [00:10<02:22, 1103415.54it/s]\u001b[A\n",
      "  8%|▊         | 13901824/170498071 [00:10<02:18, 1132936.68it/s]\u001b[A\n",
      "  8%|▊         | 14032896/170498071 [00:10<02:12, 1180696.45it/s]\u001b[A\n",
      "  8%|▊         | 14163968/170498071 [00:10<02:08, 1214834.77it/s]\u001b[A\n",
      "  8%|▊         | 14311424/170498071 [00:11<02:12, 1177677.65it/s]\u001b[A\n",
      "  8%|▊         | 14458880/170498071 [00:11<02:05, 1242738.46it/s]\u001b[A\n",
      "  9%|▊         | 14606336/170498071 [00:11<02:08, 1215265.80it/s]\u001b[A\n",
      "  9%|▊         | 14753792/170498071 [00:11<02:02, 1274601.60it/s]\u001b[A\n",
      "  9%|▊         | 14901248/170498071 [00:11<02:03, 1261366.87it/s]\u001b[A\n",
      "  9%|▉         | 15048704/170498071 [00:11<01:59, 1303629.00it/s]\u001b[A\n",
      "  9%|▉         | 15187968/170498071 [00:11<01:58, 1315804.06it/s]\u001b[A\n",
      "  9%|▉         | 15327232/170498071 [00:11<01:56, 1332289.41it/s]\u001b[A\n",
      "  9%|▉         | 15466496/170498071 [00:11<01:54, 1348293.39it/s]\u001b[A\n",
      "  9%|▉         | 15605760/170498071 [00:12<02:05, 1238909.41it/s]\u001b[A\n",
      "  9%|▉         | 15736832/170498071 [00:12<02:02, 1258694.96it/s]\u001b[A\n",
      "  9%|▉         | 15884288/170498071 [00:12<02:04, 1238953.64it/s]\u001b[A\n",
      "  9%|▉         | 16031744/170498071 [00:12<02:00, 1280848.75it/s]\u001b[A\n",
      "  9%|▉         | 16162816/170498071 [00:12<02:00, 1284003.43it/s]\u001b[A\n",
      " 10%|▉         | 16310272/170498071 [00:12<01:58, 1303238.23it/s]\u001b[A\n",
      " 10%|▉         | 16474112/170498071 [00:12<01:53, 1360445.18it/s]\u001b[A\n",
      " 10%|▉         | 16621568/170498071 [00:12<01:50, 1390833.51it/s]\u001b[A\n",
      " 10%|▉         | 16769024/170498071 [00:12<01:48, 1413817.38it/s]\u001b[A\n",
      " 10%|▉         | 16916480/170498071 [00:13<01:51, 1378424.54it/s]\u001b[A\n",
      " 10%|█         | 17063936/170498071 [00:13<01:49, 1404251.04it/s]\u001b[A\n",
      " 10%|█         | 17211392/170498071 [00:13<01:47, 1424079.79it/s]\u001b[A\n",
      " 10%|█         | 17358848/170498071 [00:13<01:46, 1431547.94it/s]\u001b[A\n",
      " 10%|█         | 17506304/170498071 [00:13<01:51, 1373137.30it/s]\u001b[A\n",
      " 10%|█         | 17670144/170498071 [00:13<01:55, 1328796.45it/s]\u001b[A\n",
      " 10%|█         | 17833984/170498071 [00:13<01:50, 1380811.83it/s]\u001b[A\n",
      " 11%|█         | 17997824/170498071 [00:13<01:45, 1443021.02it/s]\u001b[A\n"
     ]
    },
    {
     "name": "stderr",
     "output_type": "stream",
     "text": [
      " 11%|█         | 18161664/170498071 [00:13<01:43, 1478299.00it/s]\u001b[A\n",
      " 11%|█         | 18325504/170498071 [00:14<01:39, 1521968.62it/s]\u001b[A\n",
      " 11%|█         | 18489344/170498071 [00:14<01:42, 1487613.50it/s]\u001b[A\n",
      " 11%|█         | 18669568/170498071 [00:14<01:40, 1514025.31it/s]\u001b[A\n",
      " 11%|█         | 18849792/170498071 [00:14<01:35, 1582956.89it/s]\u001b[A\n",
      " 11%|█         | 19030016/170498071 [00:14<01:32, 1638719.31it/s]\u001b[A\n",
      " 11%|█▏        | 19226624/170498071 [00:14<01:30, 1667758.94it/s]\u001b[A\n",
      " 11%|█▏        | 19423232/170498071 [00:14<01:26, 1745862.78it/s]\u001b[A\n",
      " 12%|█▏        | 19619840/170498071 [00:14<01:30, 1661750.01it/s]\u001b[A\n",
      " 12%|█▏        | 19816448/170498071 [00:14<01:26, 1738407.76it/s]\u001b[A\n",
      " 12%|█▏        | 20013056/170498071 [00:15<01:23, 1799876.21it/s]\u001b[A\n",
      " 12%|█▏        | 20209664/170498071 [00:15<01:21, 1844652.08it/s]\u001b[A\n",
      " 12%|█▏        | 20398080/170498071 [00:15<01:24, 1778286.69it/s]\u001b[A\n",
      " 12%|█▏        | 20635648/170498071 [00:15<01:22, 1814621.19it/s]\u001b[A\n",
      " 12%|█▏        | 20824064/170498071 [00:15<01:23, 1793511.33it/s]\u001b[A\n",
      " 12%|█▏        | 21012480/170498071 [00:15<01:26, 1736615.35it/s]\u001b[A\n",
      " 12%|█▏        | 21192704/170498071 [00:15<01:33, 1599723.28it/s]\u001b[A\n",
      " 13%|█▎        | 21372928/170498071 [00:15<01:31, 1637201.13it/s]\u001b[A\n",
      " 13%|█▎        | 21553152/170498071 [00:15<01:30, 1653101.55it/s]\u001b[A\n",
      " 13%|█▎        | 21733376/170498071 [00:16<01:31, 1617540.55it/s]\u001b[A\n",
      " 13%|█▎        | 21913600/170498071 [00:16<01:32, 1612956.86it/s]\u001b[A\n",
      " 13%|█▎        | 22077440/170498071 [00:16<01:32, 1609957.89it/s]\u001b[A\n",
      " 13%|█▎        | 22257664/170498071 [00:16<01:29, 1660406.43it/s]\u001b[A\n",
      " 13%|█▎        | 22437888/170498071 [00:16<01:28, 1682410.46it/s]\u001b[A\n",
      " 13%|█▎        | 22618112/170498071 [00:16<01:26, 1714116.11it/s]\u001b[A\n",
      " 13%|█▎        | 22798336/170498071 [00:16<01:25, 1729622.47it/s]\u001b[A\n",
      " 13%|█▎        | 22978560/170498071 [00:16<01:24, 1749888.92it/s]\u001b[A\n",
      " 14%|█▎        | 23158784/170498071 [00:16<01:33, 1574436.94it/s]\u001b[A\n",
      " 14%|█▎        | 23355392/170498071 [00:17<01:28, 1669524.29it/s]\u001b[A\n",
      " 14%|█▍        | 23552000/170498071 [00:17<01:24, 1744155.64it/s]\u001b[A\n",
      " 14%|█▍        | 23764992/170498071 [00:17<01:19, 1838937.11it/s]\u001b[A\n",
      " 14%|█▍        | 23961600/170498071 [00:17<01:18, 1862353.55it/s]\u001b[A\n",
      " 14%|█▍        | 24158208/170498071 [00:17<01:17, 1891435.82it/s]\u001b[A\n",
      " 14%|█▍        | 24371200/170498071 [00:17<01:21, 1799932.36it/s]\u001b[A\n",
      " 14%|█▍        | 24584192/170498071 [00:17<01:17, 1884481.24it/s]\u001b[A\n",
      " 15%|█▍        | 24797184/170498071 [00:17<01:15, 1935950.26it/s]\u001b[A\n",
      " 15%|█▍        | 25010176/170498071 [00:17<01:14, 1965444.57it/s]\u001b[A\n",
      " 15%|█▍        | 25223168/170498071 [00:17<01:12, 1995746.09it/s]\u001b[A\n",
      " 15%|█▍        | 25427968/170498071 [00:18<01:12, 1996705.26it/s]\u001b[A\n",
      " 15%|█▌        | 25649152/170498071 [00:18<01:12, 2003653.73it/s]\u001b[A\n",
      " 15%|█▌        | 25862144/170498071 [00:18<01:16, 1887174.47it/s]\u001b[A\n",
      " 15%|█▌        | 26075136/170498071 [00:18<01:15, 1914708.72it/s]\u001b[A\n",
      " 15%|█▌        | 26271744/170498071 [00:18<01:14, 1929683.45it/s]\u001b[A\n",
      " 16%|█▌        | 26484736/170498071 [00:18<01:12, 1980993.68it/s]\u001b[A\n",
      " 16%|█▌        | 26697728/170498071 [00:18<01:11, 2017216.94it/s]\u001b[A\n",
      " 16%|█▌        | 26910720/170498071 [00:18<01:10, 2046040.61it/s]\u001b[A\n",
      " 16%|█▌        | 27123712/170498071 [00:18<01:09, 2064830.63it/s]\u001b[A\n",
      " 16%|█▌        | 27336704/170498071 [00:19<01:08, 2083494.66it/s]\u001b[A\n",
      " 16%|█▌        | 27549696/170498071 [00:19<01:12, 1972233.48it/s]\u001b[A\n",
      " 16%|█▋        | 27762688/170498071 [00:19<01:10, 2015045.45it/s]\u001b[A\n",
      " 16%|█▋        | 27967488/170498071 [00:19<01:22, 1729402.33it/s]\u001b[A\n",
      " 17%|█▋        | 28155904/170498071 [00:19<01:21, 1750548.07it/s]\u001b[A\n",
      " 17%|█▋        | 28368896/170498071 [00:19<01:17, 1833639.12it/s]\u001b[A\n",
      " 17%|█▋        | 28581888/170498071 [00:19<01:14, 1908429.83it/s]\u001b[A\n",
      " 17%|█▋        | 28794880/170498071 [00:19<01:12, 1956632.03it/s]\u001b[A\n",
      " 17%|█▋        | 28999680/170498071 [00:19<01:11, 1981148.65it/s]\u001b[A\n",
      " 17%|█▋        | 29212672/170498071 [00:20<01:09, 2022726.99it/s]\u001b[A\n",
      " 17%|█▋        | 29433856/170498071 [00:20<01:09, 2015308.94it/s]\u001b[A\n",
      " 17%|█▋        | 29646848/170498071 [00:20<01:09, 2035560.37it/s]\u001b[A\n",
      " 18%|█▊        | 29859840/170498071 [00:20<01:08, 2055899.06it/s]\u001b[A\n",
      " 18%|█▊        | 30072832/170498071 [00:20<01:07, 2070155.14it/s]\u001b[A\n",
      " 18%|█▊        | 30285824/170498071 [00:20<01:07, 2083397.75it/s]\u001b[A\n",
      " 18%|█▊        | 30498816/170498071 [00:20<01:09, 2004437.66it/s]\u001b[A\n",
      " 18%|█▊        | 30711808/170498071 [00:20<01:09, 2023576.16it/s]\u001b[A\n",
      " 18%|█▊        | 30924800/170498071 [00:20<01:08, 2039224.65it/s]\u001b[A\n",
      " 18%|█▊        | 31137792/170498071 [00:20<01:07, 2058573.95it/s]\u001b[A\n",
      " 18%|█▊        | 31350784/170498071 [00:21<01:07, 2068293.79it/s]\u001b[A\n",
      " 19%|█▊        | 31563776/170498071 [00:21<01:07, 2053318.61it/s]\u001b[A\n",
      " 19%|█▊        | 31793152/170498071 [00:21<01:12, 1918135.93it/s]\u001b[A\n",
      " 19%|█▉        | 32006144/170498071 [00:21<01:10, 1958022.79it/s]\u001b[A\n",
      " 19%|█▉        | 32219136/170498071 [00:21<01:09, 1999287.45it/s]\u001b[A\n",
      " 19%|█▉        | 32432128/170498071 [00:21<01:07, 2035215.78it/s]\u001b[A\n",
      " 19%|█▉        | 32661504/170498071 [00:21<01:07, 2031564.30it/s]\u001b[A\n",
      " 19%|█▉        | 32890880/170498071 [00:21<01:05, 2100480.47it/s]\u001b[A\n",
      " 19%|█▉        | 33103872/170498071 [00:21<01:05, 2099503.02it/s]\u001b[A\n",
      " 20%|█▉        | 33325056/170498071 [00:22<01:04, 2131567.72it/s]\u001b[A\n",
      " 20%|█▉        | 33546240/170498071 [00:22<01:05, 2104803.63it/s]\u001b[A\n",
      " 20%|█▉        | 33759232/170498071 [00:22<01:04, 2110311.28it/s]\u001b[A\n",
      " 20%|█▉        | 33972224/170498071 [00:22<01:04, 2105780.18it/s]\u001b[A\n",
      " 20%|██        | 34185216/170498071 [00:22<01:04, 2107626.17it/s]\u001b[A\n",
      " 20%|██        | 34414592/170498071 [00:22<01:03, 2148772.37it/s]\u001b[A\n",
      " 20%|██        | 34635776/170498071 [00:22<01:03, 2148897.66it/s]\u001b[A\n",
      " 20%|██        | 34856960/170498071 [00:22<01:04, 2095481.20it/s]\u001b[A\n",
      " 21%|██        | 35069952/170498071 [00:22<01:18, 1735261.26it/s]\u001b[A\n",
      " 21%|██        | 35381248/170498071 [00:23<01:09, 1957704.49it/s]\u001b[A\n",
      " 21%|██        | 35594240/170498071 [00:23<01:10, 1902765.09it/s]\u001b[A\n",
      " 21%|██        | 35799040/170498071 [00:23<01:17, 1731987.33it/s]\u001b[A\n",
      " 21%|██        | 35987456/170498071 [00:23<01:16, 1761784.37it/s]\u001b[A\n",
      " 21%|██        | 36175872/170498071 [00:23<01:17, 1738969.96it/s]\u001b[A\n",
      " 21%|██▏       | 36356096/170498071 [00:23<01:17, 1723198.97it/s]\u001b[A\n",
      " 21%|██▏       | 36536320/170498071 [00:23<01:18, 1710379.18it/s]\u001b[A\n",
      " 22%|██▏       | 36724736/170498071 [00:23<01:16, 1750779.59it/s]\u001b[A\n",
      " 22%|██▏       | 36904960/170498071 [00:23<01:15, 1762156.33it/s]\u001b[A\n",
      " 22%|██▏       | 37101568/170498071 [00:24<01:13, 1813982.19it/s]\u001b[A\n",
      " 22%|██▏       | 37306368/170498071 [00:24<01:10, 1878161.29it/s]\u001b[A\n",
      " 22%|██▏       | 37502976/170498071 [00:24<01:09, 1901777.62it/s]\u001b[A\n",
      " 22%|██▏       | 37699584/170498071 [00:24<01:10, 1871169.65it/s]\u001b[A\n",
      " 22%|██▏       | 37904384/170498071 [00:24<01:09, 1907413.46it/s]\u001b[A\n",
      " 22%|██▏       | 38117376/170498071 [00:24<01:07, 1952949.20it/s]\u001b[A\n",
      " 22%|██▏       | 38330368/170498071 [00:24<01:06, 1980325.57it/s]\u001b[A\n",
      " 23%|██▎       | 38535168/170498071 [00:24<01:06, 1997408.23it/s]\u001b[A\n",
      " 23%|██▎       | 38739968/170498071 [00:24<01:17, 1698879.89it/s]\u001b[A\n",
      " 23%|██▎       | 38936576/170498071 [00:24<01:14, 1763689.10it/s]\u001b[A\n",
      " 23%|██▎       | 39149568/170498071 [00:25<01:10, 1856420.45it/s]\u001b[A\n",
      " 23%|██▎       | 39378944/170498071 [00:25<01:06, 1960670.66it/s]\u001b[A\n",
      " 23%|██▎       | 39591936/170498071 [00:25<01:05, 2003768.29it/s]\u001b[A\n",
      " 23%|██▎       | 39821312/170498071 [00:25<01:03, 2059635.64it/s]\u001b[A\n",
      " 23%|██▎       | 40034304/170498071 [00:25<01:03, 2068477.63it/s]\u001b[A\n",
      " 24%|██▎       | 40247296/170498071 [00:25<01:03, 2055402.81it/s]\u001b[A\n",
      " 24%|██▎       | 40460288/170498071 [00:25<01:04, 2024632.78it/s]\u001b[A\n",
      " 24%|██▍       | 40665088/170498071 [00:25<01:16, 1699506.26it/s]\u001b[A\n",
      " 24%|██▍       | 40845312/170498071 [00:26<01:17, 1666776.59it/s]\u001b[A\n",
      " 24%|██▍       | 41025536/170498071 [00:26<01:16, 1686070.21it/s]\u001b[A\n",
      " 24%|██▍       | 41205760/170498071 [00:26<01:16, 1690557.88it/s]\u001b[A\n",
      " 24%|██▍       | 41385984/170498071 [00:26<01:16, 1688715.52it/s]\u001b[A\n",
      " 24%|██▍       | 41558016/170498071 [00:26<01:16, 1683834.13it/s]\u001b[A\n",
      " 24%|██▍       | 41730048/170498071 [00:26<01:18, 1640549.36it/s]\u001b[A\n",
      " 25%|██▍       | 41902080/170498071 [00:26<01:17, 1653175.17it/s]\u001b[A\n"
     ]
    },
    {
     "name": "stderr",
     "output_type": "stream",
     "text": [
      " 25%|██▍       | 42074112/170498071 [00:26<01:16, 1668527.80it/s]\u001b[A\n",
      " 25%|██▍       | 42246144/170498071 [00:26<01:16, 1677798.23it/s]\u001b[A\n",
      " 25%|██▍       | 42418176/170498071 [00:26<01:15, 1688514.90it/s]\u001b[A\n",
      " 25%|██▍       | 42590208/170498071 [00:27<01:25, 1497652.95it/s]\u001b[A\n",
      " 25%|██▌       | 42786816/170498071 [00:27<01:20, 1582215.20it/s]\u001b[A\n",
      " 25%|██▌       | 42983424/170498071 [00:27<01:16, 1661469.44it/s]\u001b[A\n",
      " 25%|██▌       | 43163648/170498071 [00:27<01:14, 1700763.59it/s]\u001b[A\n",
      " 25%|██▌       | 43360256/170498071 [00:27<01:13, 1732625.40it/s]\u001b[A\n",
      " 26%|██▌       | 43540480/170498071 [00:27<01:12, 1743167.00it/s]\u001b[A\n",
      " 26%|██▌       | 43737088/170498071 [00:27<01:11, 1775184.95it/s]\u001b[A\n",
      " 26%|██▌       | 43933696/170498071 [00:27<01:13, 1712331.30it/s]\u001b[A\n",
      " 26%|██▌       | 44130304/170498071 [00:27<01:11, 1775520.18it/s]\u001b[A\n",
      " 26%|██▌       | 44310528/170498071 [00:28<01:10, 1782411.00it/s]\u001b[A\n",
      " 26%|██▌       | 44507136/170498071 [00:28<01:16, 1655997.41it/s]\u001b[A\n",
      " 26%|██▌       | 44703744/170498071 [00:28<01:13, 1704715.35it/s]\u001b[A\n",
      " 26%|██▋       | 44900352/170498071 [00:28<01:11, 1761215.48it/s]\u001b[A\n",
      " 26%|██▋       | 45096960/170498071 [00:28<01:10, 1787525.10it/s]\u001b[A\n",
      " 27%|██▋       | 45285376/170498071 [00:28<01:08, 1814761.12it/s]\u001b[A\n",
      " 27%|██▋       | 45473792/170498071 [00:28<01:09, 1805268.17it/s]\u001b[A\n",
      " 27%|██▋       | 45670400/170498071 [00:28<01:12, 1729901.45it/s]\u001b[A\n",
      " 27%|██▋       | 45867008/170498071 [00:28<01:10, 1773421.75it/s]\u001b[A\n",
      " 27%|██▋       | 46063616/170498071 [00:29<01:15, 1643540.42it/s]\u001b[A\n",
      " 27%|██▋       | 46260224/170498071 [00:29<01:12, 1710830.31it/s]\u001b[A\n",
      " 27%|██▋       | 46456832/170498071 [00:29<01:10, 1748176.73it/s]\u001b[A\n",
      " 27%|██▋       | 46653440/170498071 [00:29<01:09, 1788649.34it/s]\u001b[A\n",
      " 27%|██▋       | 46841856/170498071 [00:29<01:08, 1813678.32it/s]\u001b[A\n",
      " 28%|██▊       | 47030272/170498071 [00:29<01:08, 1809916.21it/s]\u001b[A\n",
      " 28%|██▊       | 47218688/170498071 [00:29<01:07, 1827693.54it/s]\u001b[A\n",
      " 28%|██▊       | 47407104/170498071 [00:29<01:11, 1721207.94it/s]\u001b[A\n",
      " 28%|██▊       | 47603712/170498071 [00:29<01:09, 1777781.41it/s]\u001b[A\n",
      " 28%|██▊       | 47783936/170498071 [00:30<01:08, 1783977.78it/s]\u001b[A\n",
      " 28%|██▊       | 47964160/170498071 [00:30<01:08, 1780517.40it/s]\u001b[A\n",
      " 28%|██▊       | 48144384/170498071 [00:30<01:08, 1782867.65it/s]\u001b[A\n",
      " 28%|██▊       | 48324608/170498071 [00:30<01:14, 1630170.72it/s]\u001b[A\n",
      " 28%|██▊       | 48521216/170498071 [00:30<01:12, 1685057.06it/s]\u001b[A\n",
      " 29%|██▊       | 48693248/170498071 [00:30<01:17, 1562987.22it/s]\u001b[A\n",
      " 29%|██▊       | 48857088/170498071 [00:30<01:17, 1572314.04it/s]\u001b[A\n",
      " 29%|██▉       | 49045504/170498071 [00:30<01:13, 1652429.00it/s]\u001b[A\n",
      " 29%|██▉       | 49242112/170498071 [00:30<01:10, 1722265.13it/s]\u001b[A\n",
      " 29%|██▉       | 49422336/170498071 [00:30<01:10, 1722080.34it/s]\u001b[A\n",
      " 29%|██▉       | 49618944/170498071 [00:31<01:07, 1783093.53it/s]\u001b[A\n",
      " 29%|██▉       | 49815552/170498071 [00:31<01:05, 1829986.54it/s]\u001b[A\n",
      " 29%|██▉       | 50012160/170498071 [00:31<01:04, 1858302.36it/s]\u001b[A\n",
      " 29%|██▉       | 50200576/170498071 [00:31<01:04, 1864738.42it/s]\u001b[A\n",
      " 30%|██▉       | 50388992/170498071 [00:31<01:04, 1867796.42it/s]\u001b[A\n",
      " 30%|██▉       | 50585600/170498071 [00:31<01:03, 1895043.60it/s]\u001b[A\n",
      " 30%|██▉       | 50782208/170498071 [00:31<01:03, 1873624.49it/s]\u001b[A\n",
      " 30%|██▉       | 50995200/170498071 [00:31<01:01, 1933414.35it/s]\u001b[A\n",
      " 30%|███       | 51191808/170498071 [00:31<01:01, 1930813.37it/s]\u001b[A\n",
      " 30%|███       | 51388416/170498071 [00:32<01:01, 1940598.39it/s]\u001b[A\n",
      " 30%|███       | 51585024/170498071 [00:32<01:01, 1947398.13it/s]\u001b[A\n",
      " 30%|███       | 51781632/170498071 [00:32<01:00, 1951138.78it/s]\u001b[A\n",
      " 30%|███       | 51978240/170498071 [00:32<01:01, 1941784.50it/s]\u001b[A\n",
      " 31%|███       | 52174848/170498071 [00:32<01:00, 1948645.66it/s]\u001b[A\n",
      " 31%|███       | 52371456/170498071 [00:32<01:00, 1943945.00it/s]\u001b[A\n",
      " 31%|███       | 52568064/170498071 [00:32<01:00, 1934715.29it/s]\u001b[A\n",
      " 31%|███       | 52764672/170498071 [00:32<01:00, 1937261.02it/s]\u001b[A\n",
      " 31%|███       | 52961280/170498071 [00:32<01:10, 1676513.35it/s]\u001b[A\n",
      " 31%|███       | 53141504/170498071 [00:32<01:12, 1625578.68it/s]\u001b[A\n",
      " 31%|███▏      | 53354496/170498071 [00:33<01:07, 1741625.88it/s]\u001b[A\n",
      " 31%|███▏      | 53551104/170498071 [00:33<01:05, 1795311.76it/s]\u001b[A\n",
      " 32%|███▏      | 53764096/170498071 [00:33<01:02, 1877036.27it/s]\u001b[A\n",
      " 32%|███▏      | 53977088/170498071 [00:33<00:59, 1945056.92it/s]\u001b[A\n",
      " 32%|███▏      | 54206464/170498071 [00:33<00:57, 2024394.15it/s]\u001b[A\n",
      " 32%|███▏      | 54419456/170498071 [00:33<00:56, 2052882.43it/s]\u001b[A\n",
      " 32%|███▏      | 54648832/170498071 [00:33<00:54, 2116808.54it/s]\u001b[A\n",
      " 32%|███▏      | 54878208/170498071 [00:33<00:53, 2160939.64it/s]\u001b[A\n",
      " 32%|███▏      | 55099392/170498071 [00:33<00:53, 2174948.00it/s]\u001b[A\n",
      " 32%|███▏      | 55336960/170498071 [00:34<00:51, 2230929.26it/s]\u001b[A\n",
      " 33%|███▎      | 55566336/170498071 [00:34<00:59, 1915764.59it/s]\u001b[A\n",
      " 33%|███▎      | 55828480/170498071 [00:34<00:55, 2082336.01it/s]\u001b[A\n",
      " 33%|███▎      | 56049664/170498071 [00:34<00:55, 2050102.18it/s]\u001b[A\n",
      " 33%|███▎      | 56262656/170498071 [00:34<00:58, 1959822.07it/s]\u001b[A\n",
      " 33%|███▎      | 56467456/170498071 [00:34<00:58, 1938579.72it/s]\u001b[A\n",
      " 33%|███▎      | 56672256/170498071 [00:34<00:59, 1920752.84it/s]\u001b[A\n",
      " 33%|███▎      | 56868864/170498071 [00:34<01:02, 1810938.74it/s]\u001b[A\n",
      " 33%|███▎      | 57057280/170498071 [00:34<01:02, 1819048.54it/s]\u001b[A\n",
      " 34%|███▎      | 57253888/170498071 [00:35<01:00, 1859365.26it/s]\u001b[A\n",
      " 34%|███▎      | 57450496/170498071 [00:35<01:05, 1736764.72it/s]\u001b[A\n",
      " 34%|███▍      | 57647104/170498071 [00:35<01:02, 1792016.67it/s]\u001b[A\n",
      " 34%|███▍      | 57860096/170498071 [00:35<00:59, 1879883.79it/s]\u001b[A\n",
      " 34%|███▍      | 58073088/170498071 [00:35<00:57, 1941831.66it/s]\u001b[A\n",
      " 34%|███▍      | 58277888/170498071 [00:35<00:57, 1963392.39it/s]\u001b[A\n",
      " 34%|███▍      | 58499072/170498071 [00:35<00:55, 2005624.80it/s]\u001b[A\n",
      " 34%|███▍      | 58728448/170498071 [00:35<00:53, 2071188.62it/s]\u001b[A\n",
      " 35%|███▍      | 58957824/170498071 [00:35<00:53, 2099419.68it/s]\u001b[A\n",
      " 35%|███▍      | 59187200/170498071 [00:35<00:51, 2145914.75it/s]\u001b[A\n",
      " 35%|███▍      | 59416576/170498071 [00:36<00:51, 2144179.43it/s]\u001b[A\n",
      " 35%|███▍      | 59645952/170498071 [00:36<00:51, 2172787.59it/s]\u001b[A\n",
      " 35%|███▌      | 59875328/170498071 [00:36<00:50, 2205442.66it/s]\u001b[A\n",
      " 35%|███▌      | 60104704/170498071 [00:36<00:49, 2228796.95it/s]\u001b[A\n",
      " 35%|███▌      | 60334080/170498071 [00:36<00:49, 2207904.25it/s]\u001b[A\n",
      " 36%|███▌      | 60563456/170498071 [00:36<00:49, 2219475.14it/s]\u001b[A\n",
      " 36%|███▌      | 60809216/170498071 [00:36<00:48, 2275857.10it/s]\u001b[A\n",
      " 36%|███▌      | 61038592/170498071 [00:36<00:51, 2111419.02it/s]\u001b[A\n",
      " 36%|███▌      | 61284352/170498071 [00:36<00:53, 2030035.39it/s]\u001b[A\n",
      " 36%|███▌      | 61530112/170498071 [00:37<00:51, 2121676.23it/s]\u001b[A\n",
      " 36%|███▌      | 61775872/170498071 [00:37<00:49, 2206000.09it/s]\u001b[A\n",
      " 36%|███▋      | 62021632/170498071 [00:37<00:48, 2254795.22it/s]\u001b[A\n",
      " 37%|███▋      | 62267392/170498071 [00:37<00:48, 2247707.10it/s]\u001b[A\n",
      " 37%|███▋      | 62496768/170498071 [00:37<00:47, 2255856.25it/s]\u001b[A\n",
      " 37%|███▋      | 62742528/170498071 [00:37<00:46, 2296547.42it/s]\u001b[A\n",
      " 37%|███▋      | 62988288/170498071 [00:37<00:46, 2335748.96it/s]\u001b[A\n",
      " 37%|███▋      | 63234048/170498071 [00:37<00:45, 2366837.55it/s]\u001b[A\n",
      " 37%|███▋      | 63471616/170498071 [00:37<00:45, 2364911.99it/s]\u001b[A\n",
      " 37%|███▋      | 63709184/170498071 [00:37<00:45, 2353443.88it/s]\u001b[A\n",
      " 38%|███▊      | 63954944/170498071 [00:38<00:45, 2364847.30it/s]\u001b[A\n",
      " 38%|███▊      | 64192512/170498071 [00:38<00:56, 1868355.79it/s]\u001b[A\n",
      " 38%|███▊      | 64561152/170498071 [00:38<00:48, 2176707.80it/s]\u001b[A\n",
      " 38%|███▊      | 64815104/170498071 [00:38<01:01, 1722558.24it/s]\u001b[A\n",
      " 38%|███▊      | 65085440/170498071 [00:38<00:54, 1926482.06it/s]\u001b[A\n",
      " 38%|███▊      | 65314816/170498071 [00:38<01:05, 1614531.30it/s]\u001b[A\n",
      " 38%|███▊      | 65511424/170498071 [00:39<01:14, 1404835.02it/s]\u001b[A\n",
      " 39%|███▊      | 65683456/170498071 [00:39<01:11, 1473974.73it/s]\u001b[A\n",
      " 39%|███▊      | 65855488/170498071 [00:39<01:13, 1429310.06it/s]\u001b[A\n",
      " 39%|███▊      | 66019328/170498071 [00:39<01:21, 1278132.78it/s]\u001b[A\n",
      " 39%|███▉      | 66166784/170498071 [00:39<01:19, 1307711.11it/s]\u001b[A\n",
      " 39%|███▉      | 66314240/170498071 [00:39<01:17, 1351585.51it/s]\u001b[A\n"
     ]
    },
    {
     "name": "stderr",
     "output_type": "stream",
     "text": [
      " 39%|███▉      | 66461696/170498071 [00:39<01:15, 1369512.56it/s]\u001b[A\n",
      " 39%|███▉      | 66609152/170498071 [00:39<01:14, 1397821.53it/s]\u001b[A\n",
      " 39%|███▉      | 66756608/170498071 [00:39<01:13, 1417276.69it/s]\u001b[A\n",
      " 39%|███▉      | 66904064/170498071 [00:40<01:12, 1432187.14it/s]\u001b[A\n",
      " 39%|███▉      | 67051520/170498071 [00:40<01:12, 1418192.77it/s]\u001b[A\n",
      " 39%|███▉      | 67215360/170498071 [00:40<01:12, 1417550.05it/s]\u001b[A\n",
      " 40%|███▉      | 67362816/170498071 [00:40<01:12, 1429057.29it/s]\u001b[A\n",
      " 40%|███▉      | 67510272/170498071 [00:40<01:21, 1256213.46it/s]\u001b[A\n",
      " 40%|███▉      | 67657728/170498071 [00:40<01:18, 1310940.95it/s]\u001b[A\n",
      " 40%|███▉      | 67796992/170498071 [00:40<01:17, 1330342.72it/s]\u001b[A\n",
      " 40%|███▉      | 67936256/170498071 [00:40<01:16, 1348191.67it/s]\u001b[A\n",
      " 40%|███▉      | 68075520/170498071 [00:40<01:15, 1357602.93it/s]\u001b[A\n",
      " 40%|████      | 68214784/170498071 [00:41<01:16, 1328410.43it/s]\u001b[A\n",
      " 40%|████      | 68362240/170498071 [00:41<01:15, 1355149.37it/s]\u001b[A\n",
      " 40%|████      | 68501504/170498071 [00:41<01:16, 1331437.51it/s]\u001b[A\n",
      " 40%|████      | 68640768/170498071 [00:41<01:33, 1092911.95it/s]\u001b[A\n",
      " 40%|████      | 68763648/170498071 [00:41<01:30, 1130207.90it/s]\u001b[A\n",
      " 40%|████      | 68886528/170498071 [00:41<01:28, 1144924.71it/s]\u001b[A\n",
      " 40%|████      | 69009408/170498071 [00:41<01:32, 1096001.80it/s]\u001b[A\n",
      " 41%|████      | 69124096/170498071 [00:41<01:31, 1103066.57it/s]\u001b[A\n",
      " 41%|████      | 69238784/170498071 [00:42<01:31, 1105928.74it/s]\u001b[A\n",
      " 41%|████      | 69361664/170498071 [00:42<01:29, 1134383.44it/s]\u001b[A\n",
      " 41%|████      | 69492736/170498071 [00:42<01:25, 1178223.22it/s]\u001b[A\n",
      " 41%|████      | 69623808/170498071 [00:42<01:23, 1212976.79it/s]\u001b[A\n",
      " 41%|████      | 69754880/170498071 [00:42<01:21, 1239505.76it/s]\u001b[A\n",
      " 41%|████      | 69885952/170498071 [00:42<01:20, 1255932.01it/s]\u001b[A\n",
      " 41%|████      | 70017024/170498071 [00:42<01:19, 1268413.99it/s]\u001b[A\n",
      " 41%|████      | 70148096/170498071 [00:42<01:18, 1278945.65it/s]\u001b[A\n",
      " 41%|████      | 70279168/170498071 [00:42<01:18, 1271133.28it/s]\u001b[A\n",
      " 41%|████▏     | 70426624/170498071 [00:42<01:15, 1324937.36it/s]\u001b[A\n",
      " 41%|████▏     | 70574080/170498071 [00:43<01:28, 1129493.28it/s]\u001b[A\n",
      " 41%|████▏     | 70737920/170498071 [00:43<01:20, 1242291.80it/s]\u001b[A\n",
      " 42%|████▏     | 70885376/170498071 [00:43<01:16, 1300468.64it/s]\u001b[A\n",
      " 42%|████▏     | 71032832/170498071 [00:43<01:14, 1335917.07it/s]\u001b[A\n",
      " 42%|████▏     | 71196672/170498071 [00:43<01:11, 1387504.53it/s]\u001b[A\n",
      " 42%|████▏     | 71360512/170498071 [00:43<01:08, 1447539.73it/s]\u001b[A\n",
      " 42%|████▏     | 71516160/170498071 [00:43<01:09, 1434143.20it/s]\u001b[A\n",
      " 42%|████▏     | 71663616/170498071 [00:43<01:09, 1429314.59it/s]\u001b[A\n",
      " 42%|████▏     | 71811072/170498071 [00:43<01:08, 1436770.19it/s]\u001b[A\n",
      " 42%|████▏     | 71958528/170498071 [00:44<01:08, 1440139.73it/s]\u001b[A\n",
      " 42%|████▏     | 72105984/170498071 [00:44<01:07, 1447539.70it/s]\u001b[A\n",
      " 42%|████▏     | 72253440/170498071 [00:44<01:20, 1216134.62it/s]\u001b[A\n",
      " 42%|████▏     | 72392704/170498071 [00:44<01:18, 1256323.21it/s]\u001b[A\n",
      " 43%|████▎     | 72556544/170498071 [00:44<01:12, 1343331.49it/s]\u001b[A\n",
      " 43%|████▎     | 72704000/170498071 [00:44<01:10, 1377548.55it/s]\u001b[A\n",
      " 43%|████▎     | 72851456/170498071 [00:44<01:09, 1402593.71it/s]\u001b[A\n",
      " 43%|████▎     | 73007104/170498071 [00:44<01:07, 1445253.20it/s]\u001b[A\n",
      " 43%|████▎     | 73154560/170498071 [00:44<01:07, 1431729.95it/s]\u001b[A\n",
      " 43%|████▎     | 73302016/170498071 [00:45<01:07, 1440852.43it/s]\u001b[A\n",
      " 43%|████▎     | 73457664/170498071 [00:45<01:09, 1405329.23it/s]\u001b[A\n",
      " 43%|████▎     | 73605120/170498071 [00:45<01:08, 1424481.69it/s]\u001b[A\n",
      " 43%|████▎     | 73752576/170498071 [00:45<01:07, 1430937.76it/s]\u001b[A\n",
      " 43%|████▎     | 73916416/170498071 [00:45<01:16, 1268785.72it/s]\u001b[A\n",
      " 43%|████▎     | 74080256/170498071 [00:45<01:11, 1347468.55it/s]\u001b[A\n",
      " 44%|████▎     | 74227712/170498071 [00:45<01:10, 1373854.76it/s]\u001b[A\n",
      " 44%|████▎     | 74375168/170498071 [00:45<01:09, 1390279.77it/s]\u001b[A\n",
      " 44%|████▎     | 74522624/170498071 [00:45<01:08, 1400619.40it/s]\u001b[A\n",
      " 44%|████▍     | 74670080/170498071 [00:46<01:07, 1414835.63it/s]\u001b[A\n",
      " 44%|████▍     | 74817536/170498071 [00:46<01:07, 1414873.29it/s]\u001b[A\n",
      " 44%|████▍     | 74964992/170498071 [00:46<01:07, 1424124.36it/s]\u001b[A\n",
      " 44%|████▍     | 75112448/170498071 [00:46<01:07, 1414426.53it/s]\u001b[A\n",
      " 44%|████▍     | 75259904/170498071 [00:46<01:07, 1416907.60it/s]\u001b[A\n",
      " 44%|████▍     | 75407360/170498071 [00:46<01:06, 1419547.26it/s]\u001b[A\n",
      " 44%|████▍     | 75554816/170498071 [00:46<01:06, 1420725.97it/s]\u001b[A\n",
      " 44%|████▍     | 75702272/170498071 [00:46<01:06, 1420266.36it/s]\u001b[A\n",
      " 44%|████▍     | 75849728/170498071 [00:46<01:15, 1245451.77it/s]\u001b[A\n",
      " 45%|████▍     | 75997184/170498071 [00:46<01:14, 1276836.46it/s]\u001b[A\n",
      " 45%|████▍     | 76144640/170498071 [00:47<01:11, 1324973.09it/s]\u001b[A\n",
      " 45%|████▍     | 76292096/170498071 [00:47<01:09, 1355258.71it/s]\u001b[A\n",
      " 45%|████▍     | 76439552/170498071 [00:47<01:07, 1385980.21it/s]\u001b[A\n",
      " 45%|████▍     | 76587008/170498071 [00:47<01:07, 1381843.14it/s]\u001b[A\n",
      " 45%|████▌     | 76750848/170498071 [00:47<01:05, 1436506.03it/s]\u001b[A\n",
      " 45%|████▌     | 76914688/170498071 [00:47<01:03, 1476901.19it/s]\u001b[A\n",
      " 45%|████▌     | 77078528/170498071 [00:47<01:02, 1494231.98it/s]\u001b[A\n",
      " 45%|████▌     | 77242368/170498071 [00:47<01:01, 1526014.93it/s]\u001b[A\n",
      " 45%|████▌     | 77398016/170498071 [00:47<01:01, 1524478.52it/s]\u001b[A\n",
      " 45%|████▌     | 77553664/170498071 [00:48<01:01, 1518634.61it/s]\u001b[A\n",
      " 46%|████▌     | 77709312/170498071 [00:48<01:02, 1492359.38it/s]\u001b[A\n",
      " 46%|████▌     | 77864960/170498071 [00:48<01:02, 1481792.56it/s]\u001b[A\n",
      " 46%|████▌     | 78028800/170498071 [00:48<01:00, 1524656.43it/s]\u001b[A\n",
      " 46%|████▌     | 78192640/170498071 [00:48<00:59, 1550421.46it/s]\u001b[A\n",
      " 46%|████▌     | 78356480/170498071 [00:48<00:58, 1564745.66it/s]\u001b[A\n",
      " 46%|████▌     | 78520320/170498071 [00:48<00:58, 1578298.35it/s]\u001b[A\n",
      " 46%|████▌     | 78684160/170498071 [00:48<00:57, 1595716.63it/s]\u001b[A\n",
      " 46%|████▌     | 78848000/170498071 [00:48<00:57, 1602199.79it/s]\u001b[A\n",
      " 46%|████▋     | 79011840/170498071 [00:48<00:57, 1604602.77it/s]\u001b[A\n",
      " 46%|████▋     | 79192064/170498071 [00:49<00:55, 1643020.24it/s]\u001b[A\n",
      " 47%|████▋     | 79372288/170498071 [00:49<01:00, 1517163.66it/s]\u001b[A\n",
      " 47%|████▋     | 79552512/170498071 [00:49<00:57, 1580209.83it/s]\u001b[A\n",
      " 47%|████▋     | 79732736/170498071 [00:49<00:55, 1635992.30it/s]\u001b[A\n",
      " 47%|████▋     | 79929344/170498071 [00:49<00:53, 1704252.24it/s]\u001b[A\n",
      " 47%|████▋     | 80125952/170498071 [00:49<00:51, 1750036.48it/s]\u001b[A\n",
      " 47%|████▋     | 80314368/170498071 [00:49<00:50, 1788072.35it/s]\u001b[A\n",
      " 47%|████▋     | 80502784/170498071 [00:49<00:49, 1814568.25it/s]\u001b[A\n",
      " 47%|████▋     | 80699392/170498071 [00:49<00:48, 1855829.31it/s]\u001b[A\n",
      " 47%|████▋     | 80912384/170498071 [00:50<00:47, 1870478.51it/s]\u001b[A\n",
      " 48%|████▊     | 81125376/170498071 [00:50<00:46, 1904723.29it/s]\u001b[A\n",
      " 48%|████▊     | 81338368/170498071 [00:50<00:46, 1936297.97it/s]\u001b[A\n",
      " 48%|████▊     | 81551360/170498071 [00:50<00:44, 1987976.58it/s]\u001b[A\n",
      " 48%|████▊     | 81780736/170498071 [00:50<00:43, 2018146.69it/s]\u001b[A\n",
      " 48%|████▊     | 82010112/170498071 [00:50<00:42, 2089770.61it/s]\u001b[A\n",
      " 48%|████▊     | 82223104/170498071 [00:50<00:42, 2101531.60it/s]\u001b[A\n",
      " 48%|████▊     | 82468864/170498071 [00:50<00:40, 2188595.18it/s]\u001b[A\n",
      " 48%|████▊     | 82690048/170498071 [00:50<00:40, 2190624.83it/s]\u001b[A\n",
      " 49%|████▊     | 82911232/170498071 [00:50<00:40, 2183665.93it/s]\u001b[A\n",
      " 49%|████▉     | 83173376/170498071 [00:51<00:38, 2272571.46it/s]\u001b[A\n",
      " 49%|████▉     | 83435520/170498071 [00:51<00:36, 2356322.38it/s]\u001b[A\n",
      " 49%|████▉     | 83681280/170498071 [00:51<00:36, 2375828.36it/s]\u001b[A\n",
      " 49%|████▉     | 83959808/170498071 [00:51<00:37, 2326538.61it/s]\u001b[A\n",
      " 49%|████▉     | 84238336/170498071 [00:51<00:35, 2401619.66it/s]\u001b[A\n",
      " 50%|████▉     | 84516864/170498071 [00:51<00:34, 2479634.94it/s]\u001b[A\n",
      " 50%|████▉     | 84811776/170498071 [00:51<00:33, 2568784.46it/s]\u001b[A\n",
      " 50%|████▉     | 85106688/170498071 [00:51<00:32, 2631821.87it/s]\u001b[A\n",
      " 50%|█████     | 85417984/170498071 [00:51<00:30, 2753108.82it/s]\u001b[A\n",
      " 50%|█████     | 85696512/170498071 [00:52<00:32, 2620269.77it/s]\u001b[A\n",
      " 50%|█████     | 86007808/170498071 [00:52<00:30, 2732620.76it/s]\u001b[A\n",
      " 51%|█████     | 86286336/170498071 [00:52<00:32, 2594181.41it/s]\u001b[A\n",
      " 51%|█████     | 86556672/170498071 [00:52<00:35, 2365464.97it/s]\u001b[A\n"
     ]
    },
    {
     "name": "stderr",
     "output_type": "stream",
     "text": [
      " 51%|█████     | 86802432/170498071 [00:52<00:35, 2374669.40it/s]\u001b[A\n",
      " 51%|█████     | 87048192/170498071 [00:52<00:35, 2366741.44it/s]\u001b[A\n",
      " 51%|█████     | 87293952/170498071 [00:52<00:35, 2342091.15it/s]\u001b[A\n",
      " 51%|█████▏    | 87531520/170498071 [00:52<00:35, 2329993.27it/s]\u001b[A\n",
      " 51%|█████▏    | 87777280/170498071 [00:52<00:34, 2365070.43it/s]\u001b[A\n",
      " 52%|█████▏    | 88023040/170498071 [00:53<00:38, 2163692.60it/s]\u001b[A\n",
      " 52%|█████▏    | 88244224/170498071 [00:53<00:37, 2165358.79it/s]\u001b[A\n",
      " 52%|█████▏    | 88481792/170498071 [00:53<00:37, 2214701.46it/s]\u001b[A\n",
      " 52%|█████▏    | 88760320/170498071 [00:53<00:34, 2351027.57it/s]\u001b[A\n",
      " 52%|█████▏    | 89038848/170498071 [00:53<00:33, 2448047.45it/s]\u001b[A\n",
      " 52%|█████▏    | 89300992/170498071 [00:53<00:32, 2496465.42it/s]\u001b[A\n",
      " 53%|█████▎    | 89579520/170498071 [00:53<00:31, 2562141.61it/s]\u001b[A\n",
      " 53%|█████▎    | 89858048/170498071 [00:53<00:30, 2623767.45it/s]\u001b[A\n",
      " 53%|█████▎    | 90128384/170498071 [00:53<00:30, 2640716.85it/s]\u001b[A\n",
      " 53%|█████▎    | 90398720/170498071 [00:53<00:30, 2656357.18it/s]\u001b[A\n",
      " 53%|█████▎    | 90693632/170498071 [00:54<00:29, 2716395.37it/s]\u001b[A\n",
      " 53%|█████▎    | 90972160/170498071 [00:54<00:30, 2629035.67it/s]\u001b[A\n",
      " 54%|█████▎    | 91242496/170498071 [00:54<00:29, 2645662.65it/s]\u001b[A\n",
      " 54%|█████▎    | 91529216/170498071 [00:54<00:29, 2704419.22it/s]\u001b[A\n",
      " 54%|█████▍    | 91824128/170498071 [00:54<00:28, 2736766.74it/s]\u001b[A\n",
      " 54%|█████▍    | 92119040/170498071 [00:54<00:28, 2793138.38it/s]\u001b[A\n",
      " 54%|█████▍    | 92405760/170498071 [00:54<00:27, 2793175.03it/s]\u001b[A\n",
      " 54%|█████▍    | 92692480/170498071 [00:54<00:27, 2785590.07it/s]\u001b[A\n",
      " 55%|█████▍    | 92987392/170498071 [00:54<00:27, 2820520.97it/s]\u001b[A\n",
      " 55%|█████▍    | 93298688/170498071 [00:55<00:28, 2714741.74it/s]\u001b[A\n",
      " 55%|█████▍    | 93593600/170498071 [00:55<00:27, 2768749.39it/s]\u001b[A\n",
      " 55%|█████▌    | 93904896/170498071 [00:55<00:27, 2803217.21it/s]\u001b[A\n",
      " 55%|█████▌    | 94216192/170498071 [00:55<00:26, 2874221.02it/s]\u001b[A\n",
      " 55%|█████▌    | 94527488/170498071 [00:55<00:26, 2904433.25it/s]\u001b[A\n",
      " 56%|█████▌    | 94838784/170498071 [00:55<00:25, 2959864.23it/s]\u001b[A\n",
      " 56%|█████▌    | 95150080/170498071 [00:55<00:25, 2960399.73it/s]\u001b[A\n",
      " 56%|█████▌    | 95453184/170498071 [00:55<00:28, 2590380.44it/s]\u001b[A\n",
      " 56%|█████▌    | 95772672/170498071 [00:55<00:32, 2294921.61it/s]\u001b[A\n",
      " 56%|█████▋    | 96133120/170498071 [00:56<00:28, 2566888.38it/s]\u001b[A\n",
      " 57%|█████▋    | 96411648/170498071 [00:56<00:34, 2117995.76it/s]\u001b[A\n",
      " 57%|█████▋    | 96657408/170498071 [00:56<00:38, 1936641.22it/s]\u001b[A\n",
      " 57%|█████▋    | 96878592/170498071 [00:56<00:40, 1818101.57it/s]\u001b[A\n",
      " 57%|█████▋    | 97083392/170498071 [00:56<00:42, 1747339.15it/s]\u001b[A\n",
      " 57%|█████▋    | 97271808/170498071 [00:56<00:41, 1771744.87it/s]\u001b[A\n",
      " 57%|█████▋    | 97460224/170498071 [00:56<00:44, 1659904.91it/s]\u001b[A\n",
      " 57%|█████▋    | 97640448/170498071 [00:56<00:43, 1662155.21it/s]\u001b[A\n",
      " 57%|█████▋    | 97820672/170498071 [00:57<00:42, 1695668.05it/s]\u001b[A\n",
      " 57%|█████▋    | 98000896/170498071 [00:57<00:42, 1690314.23it/s]\u001b[A\n",
      " 58%|█████▊    | 98181120/170498071 [00:57<00:46, 1557465.76it/s]\u001b[A\n",
      " 58%|█████▊    | 98344960/170498071 [00:57<00:45, 1575094.82it/s]\u001b[A\n",
      " 58%|█████▊    | 98508800/170498071 [00:57<00:47, 1501157.45it/s]\u001b[A\n",
      " 58%|█████▊    | 98672640/170498071 [00:57<00:50, 1410720.30it/s]\u001b[A\n",
      " 58%|█████▊    | 98852864/170498071 [00:57<00:53, 1329516.28it/s]\u001b[A\n",
      " 58%|█████▊    | 99033088/170498071 [00:58<00:59, 1192550.23it/s]\u001b[A\n",
      " 58%|█████▊    | 99196928/170498071 [00:58<00:56, 1257539.75it/s]\u001b[A\n",
      " 58%|█████▊    | 99344384/170498071 [00:58<00:54, 1300936.63it/s]\u001b[A\n",
      " 58%|█████▊    | 99483648/170498071 [00:58<01:01, 1161119.45it/s]\u001b[A\n",
      " 58%|█████▊    | 99606528/170498071 [00:58<01:09, 1022246.34it/s]\u001b[A\n",
      " 58%|█████▊    | 99737600/170498071 [00:58<01:09, 1017337.34it/s]\u001b[A\n",
      " 59%|█████▊    | 99901440/170498071 [00:58<01:05, 1083593.09it/s]\u001b[A\n",
      " 59%|█████▊    | 100016128/170498071 [00:58<01:06, 1052392.42it/s]\u001b[A\n",
      " 59%|█████▊    | 100130816/170498071 [00:59<01:12, 977285.57it/s] \u001b[A\n",
      " 59%|█████▉    | 100278272/170498071 [00:59<01:26, 807691.81it/s]\u001b[A\n",
      " 59%|█████▉    | 100458496/170498071 [00:59<01:21, 857335.90it/s]\u001b[A\n",
      " 59%|█████▉    | 100638720/170498071 [00:59<01:20, 867486.38it/s]\u001b[A\n",
      " 59%|█████▉    | 100818944/170498071 [00:59<01:12, 961936.40it/s]\u001b[A\n",
      " 59%|█████▉    | 100999168/170498071 [01:00<01:10, 990664.71it/s]\u001b[A\n",
      " 59%|█████▉    | 101179392/170498071 [01:00<01:05, 1057427.12it/s]\u001b[A\n",
      " 59%|█████▉    | 101359616/170498071 [01:00<01:03, 1080983.56it/s]\u001b[A\n",
      " 60%|█████▉    | 101507072/170498071 [01:00<01:11, 966161.61it/s] \u001b[A\n",
      " 60%|█████▉    | 101703680/170498071 [01:00<01:01, 1110638.58it/s]\u001b[A\n",
      " 60%|█████▉    | 101834752/170498071 [01:00<01:05, 1048436.38it/s]\u001b[A\n",
      " 60%|█████▉    | 101965824/170498071 [01:00<01:07, 1014119.94it/s]\u001b[A\n",
      " 60%|█████▉    | 102096896/170498071 [01:01<01:10, 974673.74it/s] \u001b[A\n",
      " 60%|█████▉    | 102244352/170498071 [01:01<01:10, 964598.39it/s]\u001b[A\n",
      " 60%|██████    | 102391808/170498071 [01:01<01:10, 960766.50it/s]\u001b[A\n",
      " 60%|██████    | 102539264/170498071 [01:01<01:09, 976185.20it/s]\u001b[A\n",
      " 60%|██████    | 102686720/170498071 [01:01<01:13, 919291.40it/s]\u001b[A\n",
      " 60%|██████    | 102834176/170498071 [01:01<01:10, 955602.99it/s]\u001b[A\n",
      " 60%|██████    | 102981632/170498071 [01:01<01:11, 945878.12it/s]\u001b[A\n",
      " 60%|██████    | 103145472/170498071 [01:02<01:09, 969859.57it/s]\u001b[A\n",
      " 61%|██████    | 103309312/170498071 [01:02<01:06, 1011879.38it/s]\u001b[A\n",
      " 61%|██████    | 103473152/170498071 [01:02<01:05, 1022175.45it/s]\u001b[A\n",
      " 61%|██████    | 103636992/170498071 [01:02<01:02, 1065919.71it/s]\u001b[A\n",
      " 61%|██████    | 103817216/170498071 [01:02<01:01, 1089676.72it/s]\u001b[A\n",
      " 61%|██████    | 103981056/170498071 [01:02<00:56, 1182995.59it/s]\u001b[A\n",
      " 61%|██████    | 104161280/170498071 [01:02<00:53, 1230086.12it/s]\u001b[A\n",
      " 61%|██████    | 104325120/170498071 [01:03<00:50, 1317823.61it/s]\u001b[A\n",
      " 61%|██████▏   | 104505344/170498071 [01:03<00:48, 1364933.17it/s]\u001b[A\n",
      " 61%|██████▏   | 104652800/170498071 [01:03<00:49, 1341987.27it/s]\u001b[A\n",
      " 61%|██████▏   | 104792064/170498071 [01:03<00:49, 1338738.05it/s]\u001b[A\n",
      " 62%|██████▏   | 104931328/170498071 [01:03<00:48, 1339859.24it/s]\u001b[A\n",
      " 62%|██████▏   | 105111552/170498071 [01:03<00:46, 1395712.31it/s]\u001b[A\n",
      " 62%|██████▏   | 105275392/170498071 [01:03<00:44, 1459057.69it/s]\u001b[A\n",
      " 62%|██████▏   | 105455616/170498071 [01:03<00:43, 1502338.80it/s]\u001b[A\n",
      " 62%|██████▏   | 105635840/170498071 [01:03<00:42, 1533530.05it/s]\u001b[A\n",
      " 62%|██████▏   | 105799680/170498071 [01:04<00:41, 1562266.06it/s]\u001b[A\n",
      " 62%|██████▏   | 105963520/170498071 [01:04<00:44, 1462112.93it/s]\u001b[A\n",
      " 62%|██████▏   | 106119168/170498071 [01:04<00:47, 1348025.93it/s]\u001b[A\n",
      " 62%|██████▏   | 106258432/170498071 [01:04<00:47, 1342612.99it/s]\u001b[A\n",
      " 62%|██████▏   | 106397696/170498071 [01:04<00:49, 1300049.53it/s]\u001b[A\n",
      " 63%|██████▎   | 106569728/170498071 [01:04<00:46, 1360372.65it/s]\u001b[A\n",
      " 63%|██████▎   | 106749952/170498071 [01:04<00:43, 1456252.85it/s]\u001b[A\n",
      " 63%|██████▎   | 106930176/170498071 [01:04<00:41, 1524469.36it/s]\u001b[A\n",
      " 63%|██████▎   | 107110400/170498071 [01:04<00:40, 1569592.94it/s]\u001b[A\n",
      " 63%|██████▎   | 107290624/170498071 [01:05<00:39, 1619258.05it/s]\u001b[A\n",
      " 63%|██████▎   | 107470848/170498071 [01:05<00:38, 1618164.64it/s]\u001b[A\n",
      " 63%|██████▎   | 107651072/170498071 [01:05<00:38, 1651948.47it/s]\u001b[A\n",
      " 63%|██████▎   | 107831296/170498071 [01:05<00:38, 1648013.98it/s]\u001b[A\n",
      " 63%|██████▎   | 108011520/170498071 [01:05<00:37, 1666817.31it/s]\u001b[A\n",
      " 63%|██████▎   | 108183552/170498071 [01:05<00:37, 1674697.18it/s]\u001b[A\n",
      " 64%|██████▎   | 108355584/170498071 [01:05<00:37, 1635339.98it/s]\u001b[A\n",
      " 64%|██████▎   | 108535808/170498071 [01:05<00:38, 1617005.55it/s]\u001b[A\n",
      " 64%|██████▍   | 108716032/170498071 [01:05<00:38, 1618230.79it/s]\u001b[A\n",
      " 64%|██████▍   | 108896256/170498071 [01:06<00:37, 1645368.88it/s]\u001b[A\n",
      " 64%|██████▍   | 109068288/170498071 [01:06<00:37, 1651910.37it/s]\u001b[A\n",
      " 64%|██████▍   | 109240320/170498071 [01:06<00:37, 1650994.20it/s]\u001b[A\n",
      " 64%|██████▍   | 109420544/170498071 [01:06<00:36, 1652401.68it/s]\u001b[A\n",
      " 64%|██████▍   | 109600768/170498071 [01:06<00:36, 1684405.67it/s]\u001b[A\n",
      " 64%|██████▍   | 109780992/170498071 [01:06<00:36, 1681552.79it/s]\u001b[A\n",
      " 64%|██████▍   | 109953024/170498071 [01:06<00:35, 1687230.38it/s]\u001b[A\n",
      " 65%|██████▍   | 110125056/170498071 [01:06<00:35, 1694666.58it/s]\u001b[A\n",
      " 65%|██████▍   | 110305280/170498071 [01:06<00:35, 1714466.05it/s]\u001b[A\n"
     ]
    },
    {
     "name": "stderr",
     "output_type": "stream",
     "text": [
      " 65%|██████▍   | 110485504/170498071 [01:07<00:34, 1738497.57it/s]\u001b[A\n",
      " 65%|██████▍   | 110665728/170498071 [01:07<00:34, 1738052.57it/s]\u001b[A\n",
      " 65%|██████▌   | 110862336/170498071 [01:07<00:33, 1800037.46it/s]\u001b[A\n",
      " 65%|██████▌   | 111050752/170498071 [01:07<00:32, 1815058.31it/s]\u001b[A\n",
      " 65%|██████▌   | 111239168/170498071 [01:07<00:32, 1830836.61it/s]\u001b[A\n",
      " 65%|██████▌   | 111435776/170498071 [01:07<00:32, 1825645.12it/s]\u001b[A\n",
      " 65%|██████▌   | 111648768/170498071 [01:07<00:32, 1814250.57it/s]\u001b[A\n",
      " 66%|██████▌   | 111845376/170498071 [01:07<00:31, 1847211.98it/s]\u001b[A\n",
      " 66%|██████▌   | 112033792/170498071 [01:07<00:40, 1449550.34it/s]\u001b[A\n",
      " 66%|██████▌   | 112353280/170498071 [01:08<00:33, 1727075.52it/s]\u001b[A\n",
      " 66%|██████▌   | 112558080/170498071 [01:08<00:35, 1625009.86it/s]\u001b[A\n",
      " 66%|██████▌   | 112746496/170498071 [01:08<00:37, 1557786.06it/s]\u001b[A\n",
      " 66%|██████▌   | 112926720/170498071 [01:08<00:37, 1549638.90it/s]\u001b[A\n",
      " 66%|██████▋   | 113098752/170498071 [01:08<00:36, 1572635.83it/s]\u001b[A\n",
      " 66%|██████▋   | 113270784/170498071 [01:08<00:39, 1458717.02it/s]\u001b[A\n",
      " 67%|██████▋   | 113434624/170498071 [01:08<00:38, 1489952.56it/s]\u001b[A\n",
      " 67%|██████▋   | 113598464/170498071 [01:08<00:38, 1483606.86it/s]\u001b[A\n",
      " 67%|██████▋   | 113762304/170498071 [01:08<00:37, 1519725.53it/s]\u001b[A\n",
      " 67%|██████▋   | 113926144/170498071 [01:09<00:37, 1511113.15it/s]\u001b[A\n",
      " 67%|██████▋   | 114106368/170498071 [01:09<00:35, 1572899.50it/s]\u001b[A\n",
      " 67%|██████▋   | 114286592/170498071 [01:09<00:34, 1623007.98it/s]\u001b[A\n",
      " 67%|██████▋   | 114458624/170498071 [01:09<00:33, 1648561.39it/s]\u001b[A\n",
      " 67%|██████▋   | 114630656/170498071 [01:09<00:33, 1667088.86it/s]\u001b[A\n",
      " 67%|██████▋   | 114827264/170498071 [01:09<00:33, 1673003.18it/s]\u001b[A\n",
      " 67%|██████▋   | 115007488/170498071 [01:09<00:32, 1700603.62it/s]\u001b[A\n",
      " 68%|██████▊   | 115204096/170498071 [01:09<00:31, 1766668.05it/s]\u001b[A\n",
      " 68%|██████▊   | 115400704/170498071 [01:09<00:30, 1817896.19it/s]\u001b[A\n",
      " 68%|██████▊   | 115589120/170498071 [01:10<00:33, 1621283.07it/s]\u001b[A\n",
      " 68%|██████▊   | 115777536/170498071 [01:10<00:32, 1671887.98it/s]\u001b[A\n",
      " 68%|██████▊   | 115974144/170498071 [01:10<00:31, 1747941.46it/s]\u001b[A\n",
      " 68%|██████▊   | 116170752/170498071 [01:10<00:30, 1804123.06it/s]\u001b[A\n",
      " 68%|██████▊   | 116367360/170498071 [01:10<00:30, 1789395.36it/s]\u001b[A\n",
      " 68%|██████▊   | 116555776/170498071 [01:10<00:29, 1816341.75it/s]\u001b[A\n",
      " 68%|██████▊   | 116744192/170498071 [01:10<00:29, 1835150.02it/s]\u001b[A\n",
      " 69%|██████▊   | 116940800/170498071 [01:10<00:28, 1870983.24it/s]\u001b[A\n",
      " 69%|██████▊   | 117137408/170498071 [01:10<00:28, 1858951.19it/s]\u001b[A\n",
      " 69%|██████▉   | 117325824/170498071 [01:10<00:28, 1864675.51it/s]\u001b[A\n",
      " 69%|██████▉   | 117530624/170498071 [01:11<00:28, 1873840.54it/s]\u001b[A\n",
      " 69%|██████▉   | 117727232/170498071 [01:11<00:27, 1887654.19it/s]\u001b[A\n",
      " 69%|██████▉   | 117932032/170498071 [01:11<00:27, 1932656.82it/s]\u001b[A\n",
      " 69%|██████▉   | 118128640/170498071 [01:11<00:26, 1941322.79it/s]\u001b[A\n",
      " 69%|██████▉   | 118325248/170498071 [01:11<00:27, 1888619.33it/s]\u001b[A\n",
      " 70%|██████▉   | 118530048/170498071 [01:11<00:27, 1918393.40it/s]\u001b[A\n",
      " 70%|██████▉   | 118726656/170498071 [01:11<00:29, 1729722.75it/s]\u001b[A\n",
      " 70%|██████▉   | 118923264/170498071 [01:11<00:28, 1790590.88it/s]\u001b[A\n",
      " 70%|██████▉   | 119111680/170498071 [01:11<00:28, 1796408.31it/s]\u001b[A\n",
      " 70%|██████▉   | 119300096/170498071 [01:12<00:28, 1818783.35it/s]\u001b[A\n",
      " 70%|███████   | 119488512/170498071 [01:12<00:27, 1831333.93it/s]\u001b[A\n",
      " 70%|███████   | 119676928/170498071 [01:12<00:27, 1841770.69it/s]\u001b[A\n",
      " 70%|███████   | 119865344/170498071 [01:12<00:27, 1827980.20it/s]\u001b[A\n",
      " 70%|███████   | 120053760/170498071 [01:12<00:27, 1833054.07it/s]\u001b[A\n",
      " 71%|███████   | 120242176/170498071 [01:12<00:27, 1805852.46it/s]\u001b[A\n",
      " 71%|███████   | 120430592/170498071 [01:12<00:28, 1777584.01it/s]\u001b[A\n",
      " 71%|███████   | 120610816/170498071 [01:12<00:27, 1783039.59it/s]\u001b[A\n",
      " 71%|███████   | 120807424/170498071 [01:12<00:34, 1436721.88it/s]\u001b[A\n",
      " 71%|███████   | 121135104/170498071 [01:13<00:29, 1701926.86it/s]\u001b[A\n",
      " 71%|███████   | 121339904/170498071 [01:13<00:28, 1754786.77it/s]\u001b[A\n",
      " 71%|███████▏  | 121536512/170498071 [01:13<00:32, 1497500.27it/s]\u001b[A\n",
      " 71%|███████▏  | 121708544/170498071 [01:13<00:32, 1499962.32it/s]\u001b[A\n",
      " 71%|███████▏  | 121880576/170498071 [01:13<00:31, 1553814.92it/s]\u001b[A\n",
      " 72%|███████▏  | 122052608/170498071 [01:13<00:31, 1548118.29it/s]\u001b[A\n",
      " 72%|███████▏  | 122216448/170498071 [01:13<00:30, 1571490.80it/s]\u001b[A\n",
      " 72%|███████▏  | 122380288/170498071 [01:13<00:30, 1589219.20it/s]\u001b[A\n",
      " 72%|███████▏  | 122544128/170498071 [01:14<00:29, 1602328.38it/s]\u001b[A\n",
      " 72%|███████▏  | 122707968/170498071 [01:14<00:29, 1609702.13it/s]\u001b[A\n",
      " 72%|███████▏  | 122871808/170498071 [01:14<00:29, 1613430.10it/s]\u001b[A\n",
      " 72%|███████▏  | 123052032/170498071 [01:14<00:28, 1659998.09it/s]\u001b[A\n",
      " 72%|███████▏  | 123224064/170498071 [01:14<00:28, 1673474.41it/s]\u001b[A\n",
      " 72%|███████▏  | 123396096/170498071 [01:14<00:27, 1684823.71it/s]\u001b[A\n",
      " 72%|███████▏  | 123576320/170498071 [01:14<00:30, 1535425.16it/s]\u001b[A\n",
      " 73%|███████▎  | 123756544/170498071 [01:14<00:29, 1604904.13it/s]\u001b[A\n",
      " 73%|███████▎  | 123936768/170498071 [01:14<00:28, 1656851.66it/s]\u001b[A\n",
      " 73%|███████▎  | 124116992/170498071 [01:14<00:27, 1693597.49it/s]\u001b[A\n",
      " 73%|███████▎  | 124289024/170498071 [01:15<00:29, 1563981.71it/s]\u001b[A\n",
      " 73%|███████▎  | 124477440/170498071 [01:15<00:28, 1631903.22it/s]\u001b[A\n",
      " 73%|███████▎  | 124649472/170498071 [01:15<00:35, 1296004.60it/s]\u001b[A\n",
      " 73%|███████▎  | 124796928/170498071 [01:15<00:34, 1333911.47it/s]\u001b[A\n",
      " 73%|███████▎  | 124944384/170498071 [01:15<00:33, 1347644.49it/s]\u001b[A\n",
      " 73%|███████▎  | 125091840/170498071 [01:15<00:33, 1374243.81it/s]\u001b[A\n",
      " 73%|███████▎  | 125239296/170498071 [01:15<00:40, 1113771.86it/s]\u001b[A\n",
      " 74%|███████▎  | 125362176/170498071 [01:16<00:40, 1121516.96it/s]\u001b[A\n",
      " 74%|███████▎  | 125485056/170498071 [01:16<00:39, 1146980.48it/s]\u001b[A\n",
      " 74%|███████▎  | 125607936/170498071 [01:16<00:46, 957346.91it/s] \u001b[A\n",
      " 74%|███████▎  | 125722624/170498071 [01:16<00:45, 985787.75it/s]\u001b[A\n",
      " 74%|███████▍  | 125829120/170498071 [01:16<00:45, 974172.53it/s]\u001b[A\n",
      " 74%|███████▍  | 125984768/170498071 [01:16<00:47, 942707.38it/s]\u001b[A\n",
      " 74%|███████▍  | 126083072/170498071 [01:16<00:48, 920095.13it/s]\u001b[A\n",
      " 74%|███████▍  | 126181376/170498071 [01:16<00:49, 900771.79it/s]\u001b[A\n",
      " 74%|███████▍  | 126279680/170498071 [01:17<00:48, 920589.08it/s]\u001b[A\n",
      " 74%|███████▍  | 126377984/170498071 [01:17<00:56, 776016.00it/s]\u001b[A\n",
      " 74%|███████▍  | 126476288/170498071 [01:17<00:53, 818029.21it/s]\u001b[A\n",
      " 74%|███████▍  | 126574592/170498071 [01:17<00:51, 855356.61it/s]\u001b[A\n",
      " 74%|███████▍  | 126672896/170498071 [01:17<00:51, 847734.45it/s]\u001b[A\n",
      " 74%|███████▍  | 126771200/170498071 [01:17<00:49, 883319.50it/s]\u001b[A\n",
      " 74%|███████▍  | 126869504/170498071 [01:17<00:57, 752597.39it/s]\u001b[A\n",
      " 74%|███████▍  | 126951424/170498071 [01:17<00:56, 767201.43it/s]\u001b[A\n",
      " 75%|███████▍  | 127033344/170498071 [01:17<00:56, 766520.64it/s]\u001b[A\n",
      " 75%|███████▍  | 127131648/170498071 [01:18<00:52, 819837.28it/s]\u001b[A\n",
      " 75%|███████▍  | 127221760/170498071 [01:18<00:51, 841425.90it/s]\u001b[A\n",
      " 75%|███████▍  | 127311872/170498071 [01:18<00:50, 852991.46it/s]\u001b[A\n",
      " 75%|███████▍  | 127401984/170498071 [01:18<00:50, 859885.17it/s]\u001b[A\n",
      " 75%|███████▍  | 127492096/170498071 [01:18<00:49, 864872.43it/s]\u001b[A\n",
      " 75%|███████▍  | 127582208/170498071 [01:18<00:49, 875385.91it/s]\u001b[A\n",
      " 75%|███████▍  | 127672320/170498071 [01:18<00:48, 880587.06it/s]\u001b[A\n",
      " 75%|███████▍  | 127762432/170498071 [01:18<00:48, 878441.39it/s]\u001b[A\n",
      " 75%|███████▍  | 127852544/170498071 [01:18<01:00, 702889.86it/s]\u001b[A\n",
      " 75%|███████▌  | 127950848/170498071 [01:19<00:55, 763332.24it/s]\u001b[A\n",
      " 75%|███████▌  | 128049152/170498071 [01:19<00:52, 815920.50it/s]\u001b[A\n",
      " 75%|███████▌  | 128147456/170498071 [01:19<00:49, 856878.30it/s]\u001b[A\n",
      " 75%|███████▌  | 128245760/170498071 [01:19<00:47, 885990.33it/s]\u001b[A\n",
      " 75%|███████▌  | 128344064/170498071 [01:19<00:57, 732394.63it/s]\u001b[A\n",
      " 75%|███████▌  | 128442368/170498071 [01:19<00:53, 791368.65it/s]\u001b[A\n",
      " 75%|███████▌  | 128532480/170498071 [01:19<00:51, 820994.27it/s]\u001b[A\n",
      " 75%|███████▌  | 128622592/170498071 [01:19<00:50, 833280.54it/s]\u001b[A\n",
      " 75%|███████▌  | 128720896/170498071 [01:20<00:48, 860179.78it/s]\u001b[A\n",
      " 76%|███████▌  | 128819200/170498071 [01:20<00:47, 874778.09it/s]\u001b[A\n",
      " 76%|███████▌  | 128917504/170498071 [01:20<00:45, 904240.20it/s]\u001b[A\n"
     ]
    },
    {
     "name": "stderr",
     "output_type": "stream",
     "text": [
      " 76%|███████▌  | 129015808/170498071 [01:20<00:45, 921458.57it/s]\u001b[A\n",
      " 76%|███████▌  | 129114112/170498071 [01:20<00:45, 917086.97it/s]\u001b[A\n",
      " 76%|███████▌  | 129228800/170498071 [01:20<00:42, 974461.81it/s]\u001b[A\n",
      " 76%|███████▌  | 129335296/170498071 [01:20<00:41, 996518.34it/s]\u001b[A\n",
      " 76%|███████▌  | 129441792/170498071 [01:20<00:40, 1014348.90it/s]\u001b[A\n",
      " 76%|███████▌  | 129548288/170498071 [01:20<00:39, 1027331.01it/s]\u001b[A\n",
      " 76%|███████▌  | 129654784/170498071 [01:21<00:48, 846357.05it/s] \u001b[A\n",
      " 76%|███████▌  | 129753088/170498071 [01:21<00:47, 863695.75it/s]\u001b[A\n",
      " 76%|███████▌  | 129867776/170498071 [01:21<00:44, 919010.59it/s]\u001b[A\n",
      " 76%|███████▌  | 129982464/170498071 [01:21<00:41, 968659.07it/s]\u001b[A\n",
      " 76%|███████▋  | 130097152/170498071 [01:21<00:39, 1015805.80it/s]\u001b[A\n",
      " 76%|███████▋  | 130203648/170498071 [01:21<00:39, 1028371.70it/s]\u001b[A\n",
      " 76%|███████▋  | 130326528/170498071 [01:21<00:37, 1074339.01it/s]\u001b[A\n",
      " 77%|███████▋  | 130441216/170498071 [01:21<00:37, 1081191.96it/s]\u001b[A\n",
      " 77%|███████▋  | 130555904/170498071 [01:21<00:36, 1099427.22it/s]\u001b[A\n",
      " 77%|███████▋  | 130670592/170498071 [01:21<00:35, 1108124.32it/s]\u001b[A\n",
      " 77%|███████▋  | 130785280/170498071 [01:22<00:43, 907545.13it/s] \u001b[A\n",
      " 77%|███████▋  | 130899968/170498071 [01:22<00:41, 962921.28it/s]\u001b[A\n",
      " 77%|███████▋  | 131031040/170498071 [01:22<00:38, 1026343.62it/s]\u001b[A\n",
      " 77%|███████▋  | 131145728/170498071 [01:22<00:37, 1047248.64it/s]\u001b[A\n",
      " 77%|███████▋  | 131260416/170498071 [01:22<00:36, 1074141.95it/s]\u001b[A\n",
      " 77%|███████▋  | 131375104/170498071 [01:22<00:36, 1086143.78it/s]\u001b[A\n",
      " 77%|███████▋  | 131489792/170498071 [01:22<00:36, 1079028.80it/s]\u001b[A\n",
      " 77%|███████▋  | 131604480/170498071 [01:22<00:35, 1093670.96it/s]\u001b[A\n",
      " 77%|███████▋  | 131719168/170498071 [01:22<00:35, 1106738.17it/s]\u001b[A\n",
      " 77%|███████▋  | 131850240/170498071 [01:23<00:39, 971748.57it/s] \u001b[A\n",
      " 77%|███████▋  | 131964928/170498071 [01:23<00:38, 1012956.56it/s]\u001b[A\n",
      " 77%|███████▋  | 132096000/170498071 [01:23<00:36, 1049885.46it/s]\u001b[A\n",
      " 78%|███████▊  | 132227072/170498071 [01:23<00:34, 1116113.23it/s]\u001b[A\n",
      " 78%|███████▊  | 132341760/170498071 [01:23<00:33, 1122426.34it/s]\u001b[A\n",
      " 78%|███████▊  | 132472832/170498071 [01:23<00:32, 1157600.41it/s]\u001b[A\n",
      " 78%|███████▊  | 132595712/170498071 [01:23<00:32, 1173033.82it/s]\u001b[A\n",
      " 78%|███████▊  | 132718592/170498071 [01:23<00:31, 1185764.66it/s]\u001b[A\n",
      " 78%|███████▊  | 132849664/170498071 [01:23<00:30, 1217767.44it/s]\u001b[A\n",
      " 78%|███████▊  | 132997120/170498071 [01:24<00:29, 1284667.64it/s]\u001b[A\n",
      " 78%|███████▊  | 133152768/170498071 [01:24<00:27, 1355490.62it/s]\u001b[A\n",
      " 78%|███████▊  | 133292032/170498071 [01:24<00:27, 1363359.50it/s]\u001b[A\n",
      " 78%|███████▊  | 133439488/170498071 [01:24<00:26, 1391896.01it/s]\u001b[A\n",
      " 78%|███████▊  | 133603328/170498071 [01:24<00:25, 1450890.04it/s]\u001b[A\n",
      " 78%|███████▊  | 133767168/170498071 [01:24<00:24, 1498180.31it/s]\u001b[A\n",
      " 79%|███████▊  | 133931008/170498071 [01:24<00:23, 1535623.21it/s]\u001b[A\n",
      " 79%|███████▊  | 134103040/170498071 [01:24<00:22, 1586598.02it/s]\u001b[A\n",
      " 79%|███████▊  | 134266880/170498071 [01:24<00:22, 1601217.42it/s]\u001b[A\n",
      " 79%|███████▉  | 134438912/170498071 [01:25<00:27, 1329555.45it/s]\u001b[A\n",
      " 79%|███████▉  | 134619136/170498071 [01:25<00:25, 1434491.53it/s]\u001b[A\n",
      " 79%|███████▉  | 134815744/170498071 [01:25<00:22, 1553670.60it/s]\u001b[A\n",
      " 79%|███████▉  | 135012352/170498071 [01:25<00:21, 1654929.67it/s]\u001b[A\n",
      " 79%|███████▉  | 135192576/170498071 [01:25<00:21, 1612708.48it/s]\u001b[A\n",
      " 79%|███████▉  | 135372800/170498071 [01:25<00:21, 1662140.88it/s]\u001b[A\n",
      " 79%|███████▉  | 135544832/170498071 [01:25<00:21, 1657544.69it/s]\u001b[A\n",
      " 80%|███████▉  | 135716864/170498071 [01:25<00:21, 1654642.91it/s]\u001b[A\n",
      " 80%|███████▉  | 135888896/170498071 [01:25<00:20, 1659590.74it/s]\u001b[A\n",
      " 80%|███████▉  | 136060928/170498071 [01:26<00:26, 1287952.23it/s]\u001b[A\n",
      " 80%|███████▉  | 136273920/170498071 [01:26<00:23, 1439948.97it/s]\u001b[A\n",
      " 80%|████████  | 136437760/170498071 [01:26<00:27, 1246991.52it/s]\u001b[A\n",
      " 80%|████████  | 136585216/170498071 [01:26<00:26, 1257697.42it/s]\u001b[A\n",
      " 80%|████████  | 136724480/170498071 [01:26<00:28, 1200738.83it/s]\u001b[A\n",
      " 80%|████████  | 136855552/170498071 [01:26<00:35, 952618.33it/s] \u001b[A\n",
      " 80%|████████  | 136970240/170498071 [01:26<00:33, 988725.74it/s]\u001b[A\n",
      " 80%|████████  | 137084928/170498071 [01:26<00:32, 1027102.31it/s]\u001b[A\n",
      " 80%|████████  | 137199616/170498071 [01:27<00:39, 845222.51it/s] \u001b[A\n",
      " 81%|████████  | 137297920/170498071 [01:27<00:37, 881795.69it/s]\u001b[A\n",
      " 81%|████████  | 137396224/170498071 [01:27<00:36, 903561.59it/s]\u001b[A\n",
      " 81%|████████  | 137494528/170498071 [01:27<00:35, 917635.50it/s]\u001b[A\n",
      " 81%|████████  | 137592832/170498071 [01:27<00:35, 924876.00it/s]\u001b[A\n",
      " 81%|████████  | 137699328/170498071 [01:27<00:34, 956975.09it/s]\u001b[A\n",
      " 81%|████████  | 137797632/170498071 [01:27<00:33, 963613.07it/s]\u001b[A\n",
      " 81%|████████  | 137895936/170498071 [01:27<00:33, 968634.10it/s]\u001b[A\n",
      " 81%|████████  | 137994240/170498071 [01:28<00:33, 964912.44it/s]\u001b[A\n",
      " 81%|████████  | 138092544/170498071 [01:28<00:41, 780173.96it/s]\u001b[A\n",
      " 81%|████████  | 138207232/170498071 [01:28<00:37, 859640.00it/s]\u001b[A\n",
      " 81%|████████  | 138305536/170498071 [01:28<00:36, 890846.43it/s]\u001b[A\n",
      " 81%|████████  | 138403840/170498071 [01:28<00:35, 916492.82it/s]\u001b[A\n",
      " 81%|████████  | 138502144/170498071 [01:28<00:34, 932414.13it/s]\u001b[A\n",
      " 81%|████████▏ | 138600448/170498071 [01:28<00:33, 941860.50it/s]\u001b[A\n",
      " 81%|████████▏ | 138698752/170498071 [01:28<00:33, 953450.07it/s]\u001b[A\n",
      " 81%|████████▏ | 138797056/170498071 [01:28<00:33, 959608.68it/s]\u001b[A\n",
      " 81%|████████▏ | 138911744/170498071 [01:28<00:31, 1003607.16it/s]\u001b[A\n",
      " 82%|████████▏ | 139026432/170498071 [01:29<00:36, 854656.57it/s] \u001b[A\n",
      " 82%|████████▏ | 139124736/170498071 [01:29<00:35, 879116.80it/s]\u001b[A\n",
      " 82%|████████▏ | 139239424/170498071 [01:29<00:33, 940859.38it/s]\u001b[A\n",
      " 82%|████████▏ | 139337728/170498071 [01:29<00:32, 948227.13it/s]\u001b[A\n",
      " 82%|████████▏ | 139436032/170498071 [01:29<00:32, 954762.39it/s]\u001b[A\n",
      " 82%|████████▏ | 139534336/170498071 [01:29<00:32, 959369.50it/s]\u001b[A\n",
      " 82%|████████▏ | 139649024/170498071 [01:29<00:31, 991640.87it/s]\u001b[A\n",
      " 82%|████████▏ | 139763712/170498071 [01:29<00:36, 838458.13it/s]\u001b[A\n",
      " 82%|████████▏ | 139862016/170498071 [01:30<00:35, 875156.06it/s]\u001b[A\n",
      " 82%|████████▏ | 139976704/170498071 [01:30<00:32, 932456.29it/s]\u001b[A\n",
      " 82%|████████▏ | 140107776/170498071 [01:30<00:29, 1016309.66it/s]\u001b[A\n",
      " 82%|████████▏ | 140214272/170498071 [01:30<00:29, 1027591.46it/s]\u001b[A\n",
      " 82%|████████▏ | 140320768/170498071 [01:30<00:29, 1017496.89it/s]\u001b[A\n",
      " 82%|████████▏ | 140435456/170498071 [01:30<00:28, 1051733.83it/s]\u001b[A\n",
      " 82%|████████▏ | 140550144/170498071 [01:30<00:27, 1073933.79it/s]\u001b[A\n",
      " 83%|████████▎ | 140664832/170498071 [01:30<00:27, 1089976.78it/s]\u001b[A\n",
      " 83%|████████▎ | 140779520/170498071 [01:30<00:27, 1099372.16it/s]\u001b[A\n",
      " 83%|████████▎ | 140894208/170498071 [01:31<00:26, 1108637.55it/s]\u001b[A\n",
      " 83%|████████▎ | 141008896/170498071 [01:31<00:33, 892105.95it/s] \u001b[A\n",
      " 83%|████████▎ | 141139968/170498071 [01:31<00:29, 980223.72it/s]\u001b[A\n",
      " 83%|████████▎ | 141254656/170498071 [01:31<00:28, 1018174.15it/s]\u001b[A\n",
      " 83%|████████▎ | 141369344/170498071 [01:31<00:27, 1052578.71it/s]\u001b[A\n",
      " 83%|████████▎ | 141484032/170498071 [01:31<00:27, 1067182.63it/s]\u001b[A\n",
      " 83%|████████▎ | 141598720/170498071 [01:31<00:26, 1089178.07it/s]\u001b[A\n",
      " 83%|████████▎ | 141713408/170498071 [01:31<00:26, 1105317.28it/s]\u001b[A\n",
      " 83%|████████▎ | 141844480/170498071 [01:31<00:24, 1151175.62it/s]\u001b[A\n",
      " 83%|████████▎ | 141967360/170498071 [01:32<00:24, 1171237.68it/s]\u001b[A\n",
      " 83%|████████▎ | 142090240/170498071 [01:32<00:24, 1182355.79it/s]\u001b[A\n",
      " 83%|████████▎ | 142221312/170498071 [01:32<00:23, 1216937.75it/s]\u001b[A\n",
      " 83%|████████▎ | 142344192/170498071 [01:32<00:23, 1220145.01it/s]\u001b[A\n",
      " 84%|████████▎ | 142467072/170498071 [01:32<00:27, 1002286.88it/s]\u001b[A\n",
      " 84%|████████▎ | 142598144/170498071 [01:32<00:26, 1072703.44it/s]\u001b[A\n",
      " 84%|████████▎ | 142729216/170498071 [01:32<00:24, 1131350.93it/s]\u001b[A\n",
      " 84%|████████▍ | 142860288/170498071 [01:32<00:23, 1162796.00it/s]\u001b[A\n",
      " 84%|████████▍ | 142991360/170498071 [01:32<00:22, 1196615.57it/s]\u001b[A\n",
      " 84%|████████▍ | 143122432/170498071 [01:32<00:22, 1214283.75it/s]\u001b[A\n",
      " 84%|████████▍ | 143253504/170498071 [01:33<00:22, 1237411.85it/s]\u001b[A\n",
      " 84%|████████▍ | 143400960/170498071 [01:33<00:21, 1274862.88it/s]\u001b[A\n",
      " 84%|████████▍ | 143548416/170498071 [01:33<00:24, 1108130.26it/s]\u001b[A\n"
     ]
    },
    {
     "name": "stderr",
     "output_type": "stream",
     "text": [
      " 84%|████████▍ | 143695872/170498071 [01:33<00:22, 1181142.19it/s]\u001b[A\n",
      " 84%|████████▍ | 143843328/170498071 [01:33<00:21, 1247105.69it/s]\u001b[A\n",
      " 84%|████████▍ | 143974400/170498071 [01:33<00:21, 1256220.19it/s]\u001b[A\n",
      " 85%|████████▍ | 144105472/170498071 [01:33<00:21, 1236287.10it/s]\u001b[A\n",
      " 85%|████████▍ | 144236544/170498071 [01:33<00:25, 1024905.52it/s]\u001b[A\n",
      " 85%|████████▍ | 144351232/170498071 [01:34<00:24, 1049217.76it/s]\u001b[A\n",
      " 85%|████████▍ | 144465920/170498071 [01:34<00:24, 1067726.37it/s]\u001b[A\n",
      " 85%|████████▍ | 144580608/170498071 [01:34<00:23, 1081494.33it/s]\u001b[A\n",
      " 85%|████████▍ | 144695296/170498071 [01:34<00:23, 1096807.31it/s]\u001b[A\n",
      " 85%|████████▍ | 144818176/170498071 [01:34<00:22, 1133108.36it/s]\u001b[A\n",
      " 85%|████████▌ | 144941056/170498071 [01:34<00:22, 1130560.07it/s]\u001b[A\n",
      " 85%|████████▌ | 145072128/170498071 [01:34<00:25, 999664.91it/s] \u001b[A\n",
      " 85%|████████▌ | 145186816/170498071 [01:34<00:24, 1038701.63it/s]\u001b[A\n",
      " 85%|████████▌ | 145317888/170498071 [01:34<00:23, 1090311.40it/s]\u001b[A\n",
      " 85%|████████▌ | 145448960/170498071 [01:35<00:22, 1135204.83it/s]\u001b[A\n",
      " 85%|████████▌ | 145580032/170498071 [01:35<00:21, 1176066.82it/s]\u001b[A\n",
      " 85%|████████▌ | 145711104/170498071 [01:35<00:20, 1185713.45it/s]\u001b[A\n",
      " 86%|████████▌ | 145842176/170498071 [01:35<00:20, 1218485.89it/s]\u001b[A\n",
      " 86%|████████▌ | 145973248/170498071 [01:35<00:20, 1224323.24it/s]\u001b[A\n",
      " 86%|████████▌ | 146104320/170498071 [01:35<00:24, 1002942.64it/s]\u001b[A\n",
      " 86%|████████▌ | 146235392/170498071 [01:35<00:22, 1076030.95it/s]\u001b[A\n",
      " 86%|████████▌ | 146366464/170498071 [01:35<00:21, 1124911.58it/s]\u001b[A\n",
      " 86%|████████▌ | 146497536/170498071 [01:35<00:20, 1174664.87it/s]\u001b[A\n",
      " 86%|████████▌ | 146620416/170498071 [01:36<00:20, 1155107.94it/s]\u001b[A\n",
      " 86%|████████▌ | 146776064/170498071 [01:36<00:18, 1250709.10it/s]\u001b[A\n",
      " 86%|████████▌ | 146907136/170498071 [01:36<00:23, 1012431.56it/s]\u001b[A\n",
      " 86%|████████▌ | 147021824/170498071 [01:36<00:22, 1039204.03it/s]\u001b[A\n",
      " 86%|████████▋ | 147136512/170498071 [01:36<00:22, 1052778.72it/s]\u001b[A\n",
      " 86%|████████▋ | 147251200/170498071 [01:36<00:21, 1071850.64it/s]\u001b[A\n",
      " 86%|████████▋ | 147365888/170498071 [01:36<00:21, 1072286.77it/s]\u001b[A\n",
      " 86%|████████▋ | 147480576/170498071 [01:36<00:21, 1090692.74it/s]\u001b[A\n",
      " 87%|████████▋ | 147595264/170498071 [01:37<00:25, 910260.62it/s] \u001b[A\n",
      " 87%|████████▋ | 147709952/170498071 [01:37<00:23, 965309.92it/s]\u001b[A\n",
      " 87%|████████▋ | 147824640/170498071 [01:37<00:22, 1006299.23it/s]\u001b[A\n",
      " 87%|████████▋ | 147939328/170498071 [01:37<00:21, 1038740.89it/s]\u001b[A\n",
      " 87%|████████▋ | 148054016/170498071 [01:37<00:21, 1067158.74it/s]\u001b[A\n",
      " 87%|████████▋ | 148168704/170498071 [01:37<00:20, 1084712.59it/s]\u001b[A\n",
      " 87%|████████▋ | 148283392/170498071 [01:37<00:20, 1096508.19it/s]\u001b[A\n",
      " 87%|████████▋ | 148398080/170498071 [01:37<00:20, 1092524.10it/s]\u001b[A\n",
      " 87%|████████▋ | 148512768/170498071 [01:37<00:20, 1092540.59it/s]\u001b[A\n",
      " 87%|████████▋ | 148627456/170498071 [01:37<00:19, 1102107.94it/s]\u001b[A\n",
      " 87%|████████▋ | 148742144/170498071 [01:38<00:24, 875935.38it/s] \u001b[A\n",
      " 87%|████████▋ | 148856832/170498071 [01:38<00:22, 941465.27it/s]\u001b[A\n",
      " 87%|████████▋ | 148971520/170498071 [01:38<00:22, 969346.99it/s]\u001b[A\n",
      " 87%|████████▋ | 149086208/170498071 [01:38<00:21, 1010476.78it/s]\u001b[A\n",
      " 88%|████████▊ | 149200896/170498071 [01:38<00:20, 1042012.96it/s]\u001b[A\n",
      " 88%|████████▊ | 149315584/170498071 [01:38<00:19, 1068758.52it/s]\u001b[A\n",
      " 88%|████████▊ | 149430272/170498071 [01:38<00:19, 1088289.38it/s]\u001b[A\n",
      " 88%|████████▊ | 149544960/170498071 [01:38<00:19, 1096179.75it/s]\u001b[A\n",
      " 88%|████████▊ | 149659648/170498071 [01:39<00:18, 1108635.74it/s]\u001b[A\n",
      " 88%|████████▊ | 149774336/170498071 [01:39<00:18, 1113410.43it/s]\u001b[A\n",
      " 88%|████████▊ | 149889024/170498071 [01:39<00:22, 896597.47it/s] \u001b[A\n",
      " 88%|████████▊ | 150003712/170498071 [01:39<00:21, 954596.26it/s]\u001b[A\n",
      " 88%|████████▊ | 150110208/170498071 [01:39<00:20, 982385.40it/s]\u001b[A\n",
      " 88%|████████▊ | 150216704/170498071 [01:39<00:20, 1004553.91it/s]\u001b[A\n",
      " 88%|████████▊ | 150331392/170498071 [01:39<00:19, 1042847.09it/s]\u001b[A\n",
      " 88%|████████▊ | 150446080/170498071 [01:39<00:18, 1069745.75it/s]\u001b[A\n",
      " 88%|████████▊ | 150560768/170498071 [01:39<00:18, 1085209.28it/s]\u001b[A\n",
      " 88%|████████▊ | 150675456/170498071 [01:40<00:18, 1095222.68it/s]\u001b[A\n",
      " 88%|████████▊ | 150790144/170498071 [01:40<00:17, 1100673.46it/s]\u001b[A\n",
      " 89%|████████▊ | 150904832/170498071 [01:40<00:17, 1104940.02it/s]\u001b[A\n",
      " 89%|████████▊ | 151019520/170498071 [01:40<00:17, 1108424.26it/s]\u001b[A\n",
      " 89%|████████▊ | 151150592/170498071 [01:40<00:16, 1157746.72it/s]\u001b[A\n",
      " 89%|████████▊ | 151273472/170498071 [01:40<00:16, 1177158.94it/s]\u001b[A\n",
      " 89%|████████▉ | 151396352/170498071 [01:40<00:16, 1179137.17it/s]\u001b[A\n",
      " 89%|████████▉ | 151527424/170498071 [01:40<00:15, 1208501.09it/s]\u001b[A\n",
      " 89%|████████▉ | 151658496/170498071 [01:40<00:15, 1220690.77it/s]\u001b[A\n",
      " 89%|████████▉ | 151789568/170498071 [01:40<00:15, 1242640.83it/s]\u001b[A\n",
      " 89%|████████▉ | 151920640/170498071 [01:41<00:18, 1018129.51it/s]\u001b[A\n",
      " 89%|████████▉ | 152051712/170498071 [01:41<00:16, 1089235.91it/s]\u001b[A\n",
      " 89%|████████▉ | 152174592/170498071 [01:41<00:16, 1119531.13it/s]\u001b[A\n",
      " 89%|████████▉ | 152297472/170498071 [01:41<00:15, 1146234.33it/s]\u001b[A\n",
      " 89%|████████▉ | 152428544/170498071 [01:41<00:15, 1185687.56it/s]\u001b[A\n",
      " 89%|████████▉ | 152559616/170498071 [01:41<00:14, 1219159.04it/s]\u001b[A\n",
      " 90%|████████▉ | 152707072/170498071 [01:41<00:14, 1268638.24it/s]\u001b[A\n",
      " 90%|████████▉ | 152838144/170498071 [01:41<00:13, 1280318.84it/s]\u001b[A\n",
      " 90%|████████▉ | 152969216/170498071 [01:41<00:13, 1283589.26it/s]\u001b[A\n",
      " 90%|████████▉ | 153100288/170498071 [01:42<00:13, 1282352.17it/s]\u001b[A\n",
      " 90%|████████▉ | 153247744/170498071 [01:42<00:12, 1328697.48it/s]\u001b[A\n",
      " 90%|████████▉ | 153387008/170498071 [01:42<00:12, 1342940.98it/s]\u001b[A\n",
      " 90%|█████████ | 153526272/170498071 [01:42<00:12, 1351954.85it/s]\u001b[A\n",
      " 90%|█████████ | 153665536/170498071 [01:42<00:12, 1345358.32it/s]\u001b[A\n",
      " 90%|█████████ | 153804800/170498071 [01:42<00:15, 1062960.41it/s]\u001b[A\n",
      " 90%|█████████ | 153935872/170498071 [01:42<00:14, 1121338.51it/s]\u001b[A\n",
      " 90%|█████████ | 154083328/170498071 [01:42<00:13, 1190240.90it/s]\u001b[A\n",
      " 90%|█████████ | 154214400/170498071 [01:42<00:13, 1213040.79it/s]\u001b[A\n",
      " 91%|█████████ | 154361856/170498071 [01:43<00:12, 1272798.65it/s]\u001b[A\n",
      " 91%|█████████ | 154509312/170498071 [01:43<00:12, 1321941.27it/s]\u001b[A\n",
      " 91%|█████████ | 154656768/170498071 [01:43<00:11, 1351013.45it/s]\u001b[A\n",
      " 91%|█████████ | 154804224/170498071 [01:43<00:11, 1385765.04it/s]\u001b[A\n",
      " 91%|█████████ | 154951680/170498071 [01:43<00:11, 1399662.08it/s]\u001b[A\n",
      " 91%|█████████ | 155115520/170498071 [01:43<00:10, 1452646.39it/s]\u001b[A\n",
      " 91%|█████████ | 155262976/170498071 [01:43<00:10, 1446927.40it/s]\u001b[A\n",
      " 91%|█████████ | 155426816/170498071 [01:43<00:10, 1496632.12it/s]\u001b[A\n",
      " 91%|█████████▏| 155582464/170498071 [01:43<00:10, 1467618.81it/s]\u001b[A\n",
      " 91%|█████████▏| 155738112/170498071 [01:43<00:09, 1484227.32it/s]\u001b[A\n",
      " 91%|█████████▏| 155901952/170498071 [01:44<00:09, 1527147.91it/s]\u001b[A\n",
      " 92%|█████████▏| 156065792/170498071 [01:44<00:09, 1556264.18it/s]\u001b[A\n",
      " 92%|█████████▏| 156262400/170498071 [01:44<00:08, 1652784.22it/s]\u001b[A\n",
      " 92%|█████████▏| 156442624/170498071 [01:44<00:08, 1688592.49it/s]\u001b[A\n",
      " 92%|█████████▏| 156622848/170498071 [01:44<00:08, 1715015.82it/s]\u001b[A\n",
      " 92%|█████████▏| 156819456/170498071 [01:44<00:07, 1780109.06it/s]\u001b[A\n",
      " 92%|█████████▏| 157016064/170498071 [01:44<00:07, 1824169.18it/s]\u001b[A\n",
      " 92%|█████████▏| 157229056/170498071 [01:44<00:06, 1902034.41it/s]\u001b[A\n",
      " 92%|█████████▏| 157442048/170498071 [01:44<00:08, 1605833.10it/s]\u001b[A\n",
      " 92%|█████████▏| 157655040/170498071 [01:45<00:07, 1729246.27it/s]\u001b[A\n",
      " 93%|█████████▎| 157884416/170498071 [01:45<00:06, 1857993.22it/s]\u001b[A\n",
      " 93%|█████████▎| 158113792/170498071 [01:45<00:06, 1948763.98it/s]\u001b[A\n",
      " 93%|█████████▎| 158359552/170498071 [01:45<00:05, 2072007.14it/s]\u001b[A\n",
      " 93%|█████████▎| 158588928/170498071 [01:45<00:05, 2131184.22it/s]\u001b[A\n",
      " 93%|█████████▎| 158834688/170498071 [01:45<00:05, 2219475.34it/s]\u001b[A\n",
      " 93%|█████████▎| 159080448/170498071 [01:45<00:05, 2279759.15it/s]\u001b[A\n",
      " 93%|█████████▎| 159342592/170498071 [01:45<00:04, 2358060.16it/s]\u001b[A\n",
      " 94%|█████████▎| 159604736/170498071 [01:45<00:04, 2401589.05it/s]\u001b[A\n",
      " 94%|█████████▍| 159883264/170498071 [01:45<00:04, 2491184.07it/s]\u001b[A\n",
      " 94%|█████████▍| 160161792/170498071 [01:46<00:04, 2531040.59it/s]\u001b[A\n",
      " 94%|█████████▍| 160473088/170498071 [01:46<00:03, 2674179.80it/s]\u001b[A\n"
     ]
    },
    {
     "name": "stderr",
     "output_type": "stream",
     "text": [
      " 94%|█████████▍| 160768000/170498071 [01:46<00:03, 2742269.03it/s]\u001b[A\n",
      " 94%|█████████▍| 161079296/170498071 [01:46<00:03, 2841541.08it/s]\u001b[A\n",
      " 95%|█████████▍| 161406976/170498071 [01:46<00:03, 2923924.72it/s]\u001b[A\n",
      " 95%|█████████▍| 161734656/170498071 [01:46<00:02, 3019669.43it/s]\u001b[A\n",
      " 95%|█████████▌| 162062336/170498071 [01:46<00:02, 3086089.34it/s]\u001b[A\n",
      " 95%|█████████▌| 162422784/170498071 [01:46<00:02, 3213952.45it/s]\u001b[A\n",
      " 95%|█████████▌| 162766848/170498071 [01:46<00:02, 3266117.37it/s]\u001b[A\n",
      " 96%|█████████▌| 163135488/170498071 [01:46<00:02, 3381533.62it/s]\u001b[A\n",
      " 96%|█████████▌| 163487744/170498071 [01:47<00:02, 3421256.23it/s]\u001b[A\n",
      " 96%|█████████▌| 163840000/170498071 [01:47<00:02, 3005036.59it/s]\u001b[A\n",
      " 96%|█████████▋| 164192256/170498071 [01:47<00:02, 3048641.76it/s]\u001b[A\n",
      " 97%|█████████▋| 164601856/170498071 [01:47<00:01, 3279324.16it/s]\u001b[A\n",
      " 97%|█████████▋| 165027840/170498071 [01:47<00:01, 3508867.34it/s]\u001b[A\n",
      " 97%|█████████▋| 165486592/170498071 [01:47<00:01, 3713075.64it/s]\u001b[A\n",
      " 97%|█████████▋| 165945344/170498071 [01:47<00:01, 3925624.15it/s]\u001b[A\n",
      " 98%|█████████▊| 166420480/170498071 [01:47<00:00, 4131676.37it/s]\u001b[A\n",
      " 98%|█████████▊| 166879232/170498071 [01:47<00:00, 4237759.35it/s]\u001b[A\n",
      " 98%|█████████▊| 167370752/170498071 [01:48<00:00, 4408108.22it/s]\u001b[A\n",
      " 98%|█████████▊| 167821312/170498071 [01:48<00:00, 4276934.16it/s]\u001b[A\n",
      " 99%|█████████▊| 168288256/170498071 [01:48<00:00, 4344436.08it/s]\u001b[A\n",
      " 99%|█████████▉| 168796160/170498071 [01:48<00:00, 4527877.88it/s]\u001b[A\n",
      " 99%|█████████▉| 169336832/170498071 [01:48<00:00, 4750744.97it/s]\u001b[A\n",
      "100%|█████████▉| 169893888/170498071 [01:48<00:00, 4953546.25it/s]\u001b[A\n",
      "100%|█████████▉| 170467328/170498071 [01:48<00:00, 5164340.64it/s]\u001b[A"
     ]
    },
    {
     "name": "stdout",
     "output_type": "stream",
     "text": [
      "Extracting ./data/eval_cifar10/cifar-10-python.tar.gz to ./data/eval_cifar10\n"
     ]
    },
    {
     "name": "stderr",
     "output_type": "stream",
     "text": [
      "\n",
      "170500096it [02:07, 5164340.64it/s]                               \u001b[A"
     ]
    }
   ],
   "source": [
    "# define pytorch transformation into tensor format\n",
    "transf = torchvision.transforms.Compose([torchvision.transforms.ToTensor(), torchvision.transforms.Normalize((0.5, 0.5, 0.5), (0.5, 0.5, 0.5))])\n",
    "\n",
    "# download and transform validation images\n",
    "cifar10_eval_data = torchvision.datasets.CIFAR10(root=eval_path, train=False, transform=transf, download=True)"
   ]
  },
  {
   "cell_type": "markdown",
   "metadata": {},
   "source": [
    "Verify the volume of validation images downloaded:"
   ]
  },
  {
   "cell_type": "code",
   "execution_count": 16,
   "metadata": {},
   "outputs": [
    {
     "data": {
      "text/plain": [
       "10000"
      ]
     },
     "execution_count": 16,
     "metadata": {},
     "output_type": "execute_result"
    }
   ],
   "source": [
    "# get the length of the training data\n",
    "len(cifar10_eval_data)"
   ]
  },
  {
   "cell_type": "markdown",
   "metadata": {},
   "source": [
    "### 2. Neural Network Implementation"
   ]
  },
  {
   "cell_type": "markdown",
   "metadata": {},
   "source": [
    "In this section we, will implement the architecture of the **neural network** we aim to utilize to learn a model that is capable of classifying the 32x32 pixel CIFAR 10 images according to the objects contained in each image. However, before we start the implementation, let's briefly revisit the process to be established. The following cartoon provides a birds-eye view:"
   ]
  },
  {
   "cell_type": "markdown",
   "metadata": {},
   "source": [
    "<img align=\"center\" style=\"max-width: 900px\" src=\"process.png\">"
   ]
  },
  {
   "cell_type": "markdown",
   "metadata": {},
   "source": [
    "Our CNN, which we name 'CIFAR10Net' and aim to implement consists of two **convolutional layers** and three **fully-connected layers**. In general, convolutional layers are specifically designed to learn a set of **high-level features** (\"patterns\") in the processed images, e.g., tiny edges and shapes. The fully-connected layers utilize the learned features to learn **non-linear feature combinations** that allow for highly accurate classification of the image content into the different image classes of the CIFAR-10 dataset, such as, birds, aeroplanes, horses."
   ]
  },
  {
   "cell_type": "markdown",
   "metadata": {},
   "source": [
    "Let's implement the network architecture and subsequently have a more in-depth look into its architectural details."
   ]
  },
  {
   "cell_type": "code",
   "execution_count": 17,
   "metadata": {},
   "outputs": [],
   "source": [
    "# implement the CIFAR10Net network architecture\n",
    "class CIFAR10Net(nn.Module):\n",
    "    \n",
    "    # define the class constructor\n",
    "    def __init__(self):\n",
    "        \n",
    "        # call super class constructor\n",
    "        super(CIFAR10Net, self).__init__()\n",
    "        \n",
    "        # specify convolution layer 1\n",
    "        self.conv1 = nn.Conv2d(in_channels=3, out_channels=6, kernel_size=5, stride=1, padding=0)\n",
    "        \n",
    "        # define max-pooling layer 1\n",
    "        self.pool1 = nn.MaxPool2d(kernel_size=2, stride=2)\n",
    "        \n",
    "        # specify convolution layer 2\n",
    "        self.conv2 = nn.Conv2d(in_channels=6, out_channels=16, kernel_size=5, stride=1, padding=0)\n",
    "        \n",
    "        # define max-pooling layer 2\n",
    "        self.pool2 = nn.MaxPool2d(kernel_size=2, stride=2)\n",
    "        \n",
    "        # specify fc layer 1 - in 16 * 5 * 5, out 120\n",
    "        self.linear1 = nn.Linear(16 * 5 * 5, 120, bias=True) # the linearity W*x+b\n",
    "        self.relu1 = nn.ReLU(inplace=True) # the non-linearity\n",
    "        \n",
    "        # specify fc layer 2 - in 120, out 84\n",
    "        self.linear2 = nn.Linear(120, 84, bias=True) # the linearity W*x+b\n",
    "        self.relu2 = nn.ReLU(inplace=True) # the non-linarity\n",
    "        \n",
    "        # specify fc layer 3 - in 84, out 10\n",
    "        self.linear3 = nn.Linear(84, 10) # the linearity W*x+b\n",
    "        \n",
    "        # add a softmax to the last layer\n",
    "        self.logsoftmax = nn.LogSoftmax(dim=1) # the softmax\n",
    "        \n",
    "    # define network forward pass\n",
    "    def forward(self, images):\n",
    "        \n",
    "        # high-level feature learning via convolutional layers\n",
    "        \n",
    "        # define conv layer 1 forward pass\n",
    "        x = self.pool1(self.relu1(self.conv1(images)))\n",
    "        \n",
    "        # define conv layer 2 forward pass\n",
    "        x = self.pool2(self.relu2(self.conv2(x)))\n",
    "        \n",
    "        # feature flattening\n",
    "        \n",
    "        # reshape image pixels\n",
    "        x = x.view(-1, 16 * 5 * 5)\n",
    "        \n",
    "        # combination of feature learning via non-linear layers\n",
    "        \n",
    "        # define fc layer 1 forward pass\n",
    "        x = self.relu1(self.linear1(x))\n",
    "        \n",
    "        # define fc layer 2 forward pass\n",
    "        x = self.relu2(self.linear2(x))\n",
    "        \n",
    "        # define layer 3 forward pass\n",
    "        x = self.logsoftmax(self.linear3(x))\n",
    "        \n",
    "        # return forward pass result\n",
    "        return x"
   ]
  },
  {
   "cell_type": "markdown",
   "metadata": {},
   "source": [
    "You may have noticed that we applied two more layers (compared to the MNIST example described in lab 06) before the fully-connected layers. These layers are referred to as **convolutional** layers and are usually comprised of three operations, (1) **convolution**, (2) **non-linearity**, and (3) **max-pooling**. Those operations are usually executed in sequential order during the forward pass through a convolutional layer."
   ]
  },
  {
   "cell_type": "markdown",
   "metadata": {},
   "source": [
    "In the following, we will have a detailed look into the functionality and number of parameters in each layer. We will start with providing images of 3x32x32 dimensions to the network, i.e., the three channels (red, green, blue) of an image each of size 32x32 pixels."
   ]
  },
  {
   "cell_type": "markdown",
   "metadata": {},
   "source": [
    "#### 2.1. High-Level Feature Learning by Convolutional Layers"
   ]
  },
  {
   "cell_type": "markdown",
   "metadata": {},
   "source": [
    "Let's first have a look into the convolutional layers of the network as illustrated in the following:"
   ]
  },
  {
   "cell_type": "markdown",
   "metadata": {},
   "source": [
    "<img align=\"center\" style=\"max-width: 600px\" src=\"convolutions.png\">"
   ]
  },
  {
   "cell_type": "markdown",
   "metadata": {},
   "source": [
    "**First Convolutional Layer**: The first convolutional layer expects three input channels and will convolve six filters each of size 3x5x5. Let's briefly revisit how we can perform a convolutional operation on a given image. For that, we need to define a kernel which is a matrix of size 5x5, for example. To perform the convolution operation, we slide the kernel along with the image horizontally and vertically and obtain the dot product of the kernel and the pixel values of the image inside the kernel ('receptive field' of the kernel)."
   ]
  },
  {
   "cell_type": "markdown",
   "metadata": {},
   "source": [
    "The following illustration shows an example of a discrete convolution:"
   ]
  },
  {
   "cell_type": "markdown",
   "metadata": {},
   "source": [
    "<img align=\"center\" style=\"max-width: 800px\" src=\"convsample.png\">"
   ]
  },
  {
   "cell_type": "markdown",
   "metadata": {},
   "source": [
    "The left grid is called the input (an image or feature map). The middle grid, referred to as kernel, slides across the input feature map (or image). At each location, the product between each element of the kernel and the input element it overlaps is computed, and the results are summed up to obtain the output in the current location. In general, a discrete convolution is mathematically expressed by:"
   ]
  },
  {
   "cell_type": "markdown",
   "metadata": {},
   "source": [
    "<center> $y(m, n) = x(m, n) * h(m, n) = \\sum^{m}_{j=0} \\sum^{n}_{i=0} x(i, j) * h(m-i, n-j)$, </center>"
   ]
  },
  {
   "cell_type": "markdown",
   "metadata": {},
   "source": [
    "where $x$ denotes the input image or feature map, $h$ the applied kernel, and, $y$ the output."
   ]
  },
  {
   "cell_type": "markdown",
   "metadata": {},
   "source": [
    "When performing the convolution operation the 'stride' defines the number of pixels to pass at a time when sliding the kernel over the input. While 'padding' adds the number of pixels to the input image (or feature map) to ensure that the output has the same shape as the input.\n",
    "\n",
    "In our implementation padding is set to 0 and stride is set to 1. As a result, the output size of the convolutional layer becomes 6x28x28, because (32 - 5) + 1 = 28. This layer exhibits ((5 x 5 x 3) + 1) x 6 = 456 parameter. "
   ]
  },
  {
   "cell_type": "markdown",
   "metadata": {},
   "source": [
    "**First Max-Pooling Layer:** The max-pooling process is a sample-based discretization operation. The objective is to down-sample an input representation (image, hidden-layer output matrix, etc.), reducing its dimensionality and allowing for assumptions to be made about features contained in the sub-regions binned.\n",
    "\n",
    "To conduct such an operation, we again need to define a kernel. Max-pooling kernels are usually a tiny matrix of, e.g, of size 2x2. To perform the max-pooling operation, we slide the kernel along the image horizontally and vertically (similarly to a convolution) and compute the maximum pixel value of the image (or feature map) inside the kernel (the receptive field of the kernel)."
   ]
  },
  {
   "cell_type": "markdown",
   "metadata": {},
   "source": [
    "The following illustration shows an example of a max-pooling operation:"
   ]
  },
  {
   "cell_type": "markdown",
   "metadata": {},
   "source": [
    "<img align=\"center\" style=\"max-width: 500px\" src=\"poolsample.png\">"
   ]
  },
  {
   "cell_type": "markdown",
   "metadata": {},
   "source": [
    "The left grid is called the input (an image or feature map). The middle grid, referred to as kernel, slides across the input feature map (or image). We use a stride of 2, meaning the step distance for stepping over our input will be 2 pixels and won't overlap regions. At each location, the max value of the region that overlaps with the elements of the kernel and the input elements it overlaps is computed, and the results are obtained in the output of the current location."
   ]
  },
  {
   "cell_type": "markdown",
   "metadata": {},
   "source": [
    "In our implementation, we do max-pooling with a 2x2 kernel and stride 2 this effectively drops the original image size from 6x28x28 to 6x14x14."
   ]
  },
  {
   "cell_type": "markdown",
   "metadata": {},
   "source": [
    "**Second Convolutional Layer:** The second convolutional layer expects 6 input channels and will convolve 16 filters each of size 6x5x5x. Since padding is set to 0 and stride is set 1, the output size is 16x10x10, because (14  - 5) + 1 = 10. This layer therefore has ((5 x 5 x 6) + 1 x 16) = 24,16 parameter.\n",
    "\n",
    "**Second Max-Pooling Layer:** The second down-sampling layer uses max-pooling with 2x2 kernel and stride set to 2. This effectively drops the size from 16x10x10 to 16x5x5. "
   ]
  },
  {
   "cell_type": "markdown",
   "metadata": {},
   "source": [
    "#### 2.2. Feature Flattening\n",
    "\n",
    "The output of the final-max pooling layer needs to be flattened so that we can connect it to a fully connected layer. This is achieved using the `torch.Tensor.view` method. Setting the parameter of the method to `-1` will automatically infer the number of rows required to handle the mini-batch size of the data. "
   ]
  },
  {
   "cell_type": "markdown",
   "metadata": {},
   "source": [
    "#### 2.3. Learning of Feature Combinations"
   ]
  },
  {
   "cell_type": "markdown",
   "metadata": {},
   "source": [
    "Let's now have a look into the non-linear layers of the network illustrated in the following:"
   ]
  },
  {
   "cell_type": "markdown",
   "metadata": {},
   "source": [
    "<img align=\"center\" style=\"max-width: 600px\" src=\"fullyconnected.png\">"
   ]
  },
  {
   "cell_type": "markdown",
   "metadata": {},
   "source": [
    "The first fully connected layer uses 'Rectified Linear Units' (ReLU) activation functions to learn potential nonlinear combinations of features. The layers are implemented similarly to the fifth lab. Therefore, we will only focus on the number of parameters of each fully-connected layer:"
   ]
  },
  {
   "cell_type": "markdown",
   "metadata": {},
   "source": [
    "**First Fully-Connected Layer:** The first fully-connected layer consists of 120 neurons, thus in total exhibits ((16 x 5 x 5) + 1) x 120 = 48,120 parameter. \n",
    "\n",
    "**Second Fully-Connected Layer:** The output of the first fully-connected layer is then transferred to second fully-connected layer. The layer consists of 84 neurons equipped with ReLu activation functions, this in total exhibits (120 + 1) x 84 = 10,164 parameter."
   ]
  },
  {
   "cell_type": "markdown",
   "metadata": {},
   "source": [
    "The output of the second fully-connected layer is then transferred to the output-layer (third fully-connected layer). The output layer is equipped with a softmax (that you learned about in the previous lab 05) and is made up of ten neurons, one for each object class contained in the CIFAR-10 dataset. This layer exhibits (84 + 1) x 10 = 850 parameter.\n",
    "\n",
    "\n",
    "As a result our CIFAR-10 convolutional neural exhibits a total of 456 + 2,416 + 48,120 + 10,164 + 850 = 62,006 parameter.\n",
    "\n",
    "(Source: https://www.stefanfiott.com/machine-learning/cifar-10-classifier-using-cnn-in-pytorch/)"
   ]
  },
  {
   "cell_type": "markdown",
   "metadata": {},
   "source": [
    "Now, that we have implemented our first Convolutional Neural Network we are ready to instantiate a network model to be trained:"
   ]
  },
  {
   "cell_type": "code",
   "execution_count": 18,
   "metadata": {},
   "outputs": [],
   "source": [
    "model = CIFAR10Net()"
   ]
  },
  {
   "cell_type": "markdown",
   "metadata": {},
   "source": [
    "Let's push the initialized `CIFAR10Net` model to the computing `device` that is enabled:"
   ]
  },
  {
   "cell_type": "code",
   "execution_count": null,
   "metadata": {},
   "outputs": [],
   "source": [
    "model = model.to(device)"
   ]
  },
  {
   "cell_type": "markdown",
   "metadata": {},
   "source": [
    "Once the model is initialized we can visualize the model structure and review the implemented network architecture by execution of the following cell:"
   ]
  },
  {
   "cell_type": "code",
   "execution_count": 19,
   "metadata": {},
   "outputs": [
    {
     "name": "stdout",
     "output_type": "stream",
     "text": [
      "[LOG] CIFAR10Net architecture:\n",
      "\n",
      "CIFAR10Net(\n",
      "  (conv1): Conv2d(3, 6, kernel_size=(5, 5), stride=(1, 1))\n",
      "  (pool1): MaxPool2d(kernel_size=2, stride=2, padding=0, dilation=1, ceil_mode=False)\n",
      "  (conv2): Conv2d(6, 16, kernel_size=(5, 5), stride=(1, 1))\n",
      "  (pool2): MaxPool2d(kernel_size=2, stride=2, padding=0, dilation=1, ceil_mode=False)\n",
      "  (linear1): Linear(in_features=400, out_features=120, bias=True)\n",
      "  (relu1): ReLU(inplace=True)\n",
      "  (linear2): Linear(in_features=120, out_features=84, bias=True)\n",
      "  (relu2): ReLU(inplace=True)\n",
      "  (linear3): Linear(in_features=84, out_features=10, bias=True)\n",
      "  (logsoftmax): LogSoftmax()\n",
      ")\n",
      "\n"
     ]
    }
   ],
   "source": [
    "# print the initialized architectures\n",
    "print('[LOG] CIFAR10Net architecture:\\n\\n{}\\n'.format(model))"
   ]
  },
  {
   "cell_type": "markdown",
   "metadata": {},
   "source": [
    "Looks like intended? Brilliant! Finally, let's have a look into the number of model parameters that we aim to train in the next steps of the notebook:"
   ]
  },
  {
   "cell_type": "code",
   "execution_count": 20,
   "metadata": {},
   "outputs": [
    {
     "name": "stdout",
     "output_type": "stream",
     "text": [
      "[LOG] Number of to be trained CIFAR10Net model parameters: 62006.\n"
     ]
    }
   ],
   "source": [
    "# init the number of model parameters\n",
    "num_params = 0\n",
    "\n",
    "# iterate over the distinct parameters\n",
    "for param in model.parameters():\n",
    "\n",
    "    # collect number of parameters\n",
    "    num_params += param.numel()\n",
    "    \n",
    "# print the number of model paramters\n",
    "print('[LOG] Number of to be trained CIFAR10Net model parameters: {}.'.format(num_params))"
   ]
  },
  {
   "cell_type": "markdown",
   "metadata": {},
   "source": [
    "Ok, our \"simple\" CIFAR10Net model already encompasses an impressive number 62'006 model parameters to be trained."
   ]
  },
  {
   "cell_type": "markdown",
   "metadata": {},
   "source": [
    "Now that we have implemented the CIFAR10Net, we are ready to train the network. However, before starting the training, we need to define an appropriate loss function. Remember, we aim to train our model to learn a set of model parameters $\\theta$ that minimize the classification error of the true class $c^{i}$ of a given CIFAR-10 image $x^{i}$ and its predicted class $\\hat{c}^{i} = f_\\theta(x^{i})$ as faithfully as possible. \n",
    "\n",
    "In this lab we use (similarly to lab 05) the **'Negative Log-Likelihood (NLL)'** loss. During training the NLL loss will penalize models that result in a high classification error between the predicted class labels $\\hat{c}^{i}$ and their respective true class label $c^{i}$. Now that we have implemented the CIFAR10Net, we are ready to train the network. Before starting the training, we need to define an appropriate loss function. Remember, we aim to train our model to learn a set of model parameters $\\theta$ that minimize the classification error of the true class $c^{i}$ of a given CIFAR-10 image $x^{i}$ and its predicted class $\\hat{c}^{i} = f_\\theta(x^{i})$ as faithfully as possible. "
   ]
  },
  {
   "cell_type": "markdown",
   "metadata": {},
   "source": [
    "Let's instantiate the NLL via the execution of the following PyTorch command:"
   ]
  },
  {
   "cell_type": "code",
   "execution_count": 21,
   "metadata": {},
   "outputs": [],
   "source": [
    "# define the optimization criterion / loss function\n",
    "nll_loss = nn.NLLLoss()"
   ]
  },
  {
   "cell_type": "markdown",
   "metadata": {},
   "source": [
    "Let's also push the initialized `nll_loss` computation to the computing `device` that is enabled:"
   ]
  },
  {
   "cell_type": "code",
   "execution_count": null,
   "metadata": {},
   "outputs": [],
   "source": [
    "nll_loss = nll_loss.to(device)"
   ]
  },
  {
   "cell_type": "markdown",
   "metadata": {},
   "source": [
    "Based on the loss magnitude of a certain mini-batch PyTorch automatically computes the gradients. But even better, based on the gradient, the library also helps us in the optimization and update of the network parameters $\\theta$.\n",
    "\n",
    "We will use the **Stochastic Gradient Descent (SGD) optimization** and set the `learning-rate to 0.001`. Each mini-batch step the optimizer will update the model parameters $\\theta$ values according to the degree of classification error (the NLL loss)."
   ]
  },
  {
   "cell_type": "code",
   "execution_count": 22,
   "metadata": {},
   "outputs": [],
   "source": [
    "# define learning rate and optimization strategy\n",
    "learning_rate = 0.001\n",
    "optimizer = optim.SGD(params=model.parameters(), lr=learning_rate)"
   ]
  },
  {
   "cell_type": "markdown",
   "metadata": {},
   "source": [
    "Now that we have successfully implemented and defined the three CNN building blocks let's take some time to review the `CIFAR10Net` model definition as well as the `loss`. Please, read the above code and comments carefully and don't hesitate to let us know any questions you might have."
   ]
  },
  {
   "cell_type": "markdown",
   "metadata": {},
   "source": [
    "### 3. Training the Neural Network Model"
   ]
  },
  {
   "cell_type": "markdown",
   "metadata": {},
   "source": [
    "In this section, we will train our neural network model (as implemented in the section above) using the transformed images. More specifically, we will have a detailed look into the distinct training steps as well as how to monitor the training progress."
   ]
  },
  {
   "cell_type": "markdown",
   "metadata": {},
   "source": [
    "#### 3.1. Preparing the Network Training"
   ]
  },
  {
   "cell_type": "markdown",
   "metadata": {},
   "source": [
    "So far, we have pre-processed the dataset, implemented the CNN and defined the classification error. Let's now start to train a corresponding model for **20 epochs** and a **mini-batch size of 4** CIFAR-10 images per batch. This implies that the whole dataset will be fed to the CNN 20 times in chunks of 4 images yielding to **12,500 mini-batches** (50.000 training images / 4 images per mini-batch) per epoch. After the processing of each mini-batch, the parameters of the network will be updated. "
   ]
  },
  {
   "cell_type": "code",
   "execution_count": 23,
   "metadata": {},
   "outputs": [],
   "source": [
    "# specify the training parameters\n",
    "num_epochs = 20 # number of training epochs\n",
    "mini_batch_size = 4 # size of the mini-batches"
   ]
  },
  {
   "cell_type": "markdown",
   "metadata": {},
   "source": [
    "Furthermore, lets specifiy and instantiate a corresponding PyTorch data loader that feeds the image tensors to our neural network:"
   ]
  },
  {
   "cell_type": "code",
   "execution_count": 24,
   "metadata": {},
   "outputs": [],
   "source": [
    "cifar10_train_dataloader = torch.utils.data.DataLoader(cifar10_train_data, batch_size=mini_batch_size, shuffle=True)"
   ]
  },
  {
   "cell_type": "markdown",
   "metadata": {},
   "source": [
    "#### 3.2. Running the Network Training"
   ]
  },
  {
   "cell_type": "markdown",
   "metadata": {},
   "source": [
    "Finally, we start training the model. The training procedure for each mini-batch is performed as follows: \n",
    "\n",
    ">1. do a forward pass through the CIFAR10Net network, \n",
    ">2. compute the negative log-likelihood classification error $\\mathcal{L}^{NLL}_{\\theta}(c^{i};\\hat{c}^{i})$, \n",
    ">3. do a backward pass through the CIFAR10Net network, and \n",
    ">4. update the parameters of the network $f_\\theta(\\cdot)$.\n",
    "\n",
    "To ensure learning while training our CNN model, we will monitor whether the loss decreases with progressing training. Therefore, we obtain and evaluate the classification performance of the entire training dataset after each training epoch. Based on this evaluation, we can conclude on the training progress and whether the loss is converging (indicating that the model might not improve any further).\n",
    "\n",
    "The following elements of the network training code below should be given particular attention:\n",
    " \n",
    ">- `loss.backward()` computes the gradients based on the magnitude of the reconstruction loss,\n",
    ">- `optimizer.step()` updates the network parameters based on the gradient."
   ]
  },
  {
   "cell_type": "code",
   "execution_count": null,
   "metadata": {
    "scrolled": true
   },
   "outputs": [
    {
     "name": "stdout",
     "output_type": "stream",
     "text": [
      "[LOG 20200504-09:09:13] epoch: 0 train-loss: 1.5539342600154877\n",
      "[LOG 20200504-09:10:18] epoch: 1 train-loss: 1.4799218235111236\n",
      "[LOG 20200504-09:11:26] epoch: 2 train-loss: 1.4156427202820778\n",
      "[LOG 20200504-09:12:36] epoch: 3 train-loss: 1.3579357979750633\n",
      "[LOG 20200504-09:13:42] epoch: 4 train-loss: 1.3065046383190155\n",
      "[LOG 20200504-09:14:47] epoch: 5 train-loss: 1.2592865209621191\n",
      "[LOG 20200504-09:15:53] epoch: 6 train-loss: 1.2174911371845007\n",
      "[LOG 20200504-09:16:59] epoch: 7 train-loss: 1.1760959813755751\n",
      "[LOG 20200504-09:18:05] epoch: 8 train-loss: 1.1394226046153904\n",
      "[LOG 20200504-09:19:10] epoch: 9 train-loss: 1.1053984510672092\n",
      "[LOG 20200504-09:20:16] epoch: 10 train-loss: 1.0719484194454552\n",
      "[LOG 20200504-09:21:22] epoch: 11 train-loss: 1.0431413407310843\n",
      "[LOG 20200504-09:22:28] epoch: 12 train-loss: 1.0153428148385883\n",
      "[LOG 20200504-09:23:33] epoch: 13 train-loss: 0.9906141019681096\n",
      "[LOG 20200504-09:24:39] epoch: 14 train-loss: 0.9661653418103605\n"
     ]
    }
   ],
   "source": [
    "# init collection of training epoch losses\n",
    "train_epoch_losses = []\n",
    "\n",
    "# set the model in training mode\n",
    "model.train()\n",
    "\n",
    "# train the CIFAR10 model\n",
    "for epoch in range(num_epochs):\n",
    "    \n",
    "    # init collection of mini-batch losses\n",
    "    train_mini_batch_losses = []\n",
    "    \n",
    "    # iterate over all-mini batches\n",
    "    for i, (images, labels) in enumerate(cifar10_train_dataloader):\n",
    "        \n",
    "        # push mini-batch data to computation device\n",
    "        images = images.to(device)\n",
    "        labels = labels.to(device)\n",
    "\n",
    "        # run forward pass through the network\n",
    "        output = model(images)\n",
    "        \n",
    "        # reset graph gradients\n",
    "        model.zero_grad()\n",
    "        \n",
    "        # determine classification loss\n",
    "        loss = nll_loss(output, labels)\n",
    "        \n",
    "        # run backward pass\n",
    "        loss.backward()\n",
    "        \n",
    "        # update network paramaters\n",
    "        optimizer.step()\n",
    "        \n",
    "        # collect mini-batch reconstruction loss\n",
    "        train_mini_batch_losses.append(loss.data.item())\n",
    "\n",
    "    # determine mean min-batch loss of epoch\n",
    "    train_epoch_loss = np.mean(train_mini_batch_losses)\n",
    "    \n",
    "    # print epoch loss\n",
    "    now = datetime.utcnow().strftime(\"%Y%m%d-%H:%M:%S\")\n",
    "    print('[LOG {}] epoch: {} train-loss: {}'.format(str(now), str(epoch), str(train_epoch_loss)))\n",
    "    \n",
    "    # save model to local directory\n",
    "    model_name = 'cifar10_model_epoch_{}.pth'.format(str(epoch))\n",
    "    torch.save(model.state_dict(), os.path.join(\"./models\", model_name))\n",
    "    \n",
    "    # determine mean min-batch loss of epoch\n",
    "    train_epoch_losses.append(train_epoch_loss)"
   ]
  },
  {
   "cell_type": "markdown",
   "metadata": {},
   "source": [
    "Upon successfull training let's visualize and inspect the training loss per epoch:"
   ]
  },
  {
   "cell_type": "code",
   "execution_count": null,
   "metadata": {},
   "outputs": [],
   "source": [
    "# prepare plot\n",
    "fig = plt.figure()\n",
    "ax = fig.add_subplot(111)\n",
    "\n",
    "# add grid\n",
    "ax.grid(linestyle='dotted')\n",
    "\n",
    "# plot the training epochs vs. the epochs' classification error\n",
    "ax.plot(np.array(range(1, len(train_epoch_losses)+1)), train_epoch_losses, label='epoch loss (blue)')\n",
    "\n",
    "# add axis legends\n",
    "ax.set_xlabel(\"[training epoch $e_i$]\", fontsize=10)\n",
    "ax.set_ylabel(\"[Classification Error $\\mathcal{L}^{NLL}$]\", fontsize=10)\n",
    "\n",
    "# set plot legend\n",
    "plt.legend(loc=\"upper right\", numpoints=1, fancybox=True)\n",
    "\n",
    "# add plot title\n",
    "plt.title('Training Epochs $e_i$ vs. Classification Error $L^{NLL}$', fontsize=10);"
   ]
  },
  {
   "cell_type": "markdown",
   "metadata": {},
   "source": [
    "Ok, fantastic. The training error converges nicely. We could definitely train the network a couple more epochs until the error converges. But let's stay with the 20 training epochs for now and continue with evaluating our trained model."
   ]
  },
  {
   "cell_type": "markdown",
   "metadata": {},
   "source": [
    "### 4. Evaluation of the Trained Neural Network Model"
   ]
  },
  {
   "cell_type": "markdown",
   "metadata": {},
   "source": [
    "Prior to evaluating our model, let's load the best performing model. Remember, that we stored a snapshot of the model after each training epoch to our local model directory. We will now load the last snapshot saved."
   ]
  },
  {
   "cell_type": "code",
   "execution_count": null,
   "metadata": {},
   "outputs": [],
   "source": [
    "# restore pre-trained model snapshot\n",
    "best_model_name = \"cifar10_model_epoch_19.pth\"\n",
    "\n",
    "# init pre-trained model class\n",
    "best_model = CIFAR10Net()\n",
    "\n",
    "# load pre-trained models\n",
    "best_model.load_state_dict(torch.load(os.path.join(\"models\", best_model_name)))"
   ]
  },
  {
   "cell_type": "markdown",
   "metadata": {},
   "source": [
    "Let's inspect if the model was loaded successfully: "
   ]
  },
  {
   "cell_type": "code",
   "execution_count": null,
   "metadata": {},
   "outputs": [],
   "source": [
    "# set model in evaluation mode\n",
    "best_model.eval()"
   ]
  },
  {
   "cell_type": "markdown",
   "metadata": {},
   "source": [
    "In order to evaluate our trained model, we need to feed the CIFAR10 images reserved for evaluation (the images that we didn't use as part of the training process) through the model. Therefore, let's again define a corresponding PyTorch data loader that feeds the image tensors to our neural network: "
   ]
  },
  {
   "cell_type": "code",
   "execution_count": null,
   "metadata": {},
   "outputs": [],
   "source": [
    "cifar10_eval_dataloader = torch.utils.data.DataLoader(cifar10_eval_data, batch_size=10000, shuffle=False)"
   ]
  },
  {
   "cell_type": "markdown",
   "metadata": {},
   "source": [
    "We will now evaluate the trained model using the same mini-batch approach as we did when training the network and derive the mean negative log-likelihood loss of all mini-batches processed in an epoch:"
   ]
  },
  {
   "cell_type": "code",
   "execution_count": null,
   "metadata": {},
   "outputs": [],
   "source": [
    "# init collection of mini-batch losses\n",
    "eval_mini_batch_losses = []\n",
    "\n",
    "# iterate over all-mini batches\n",
    "for i, (images, labels) in enumerate(cifar10_eval_dataloader):\n",
    "\n",
    "    # convert images to torch tensor\n",
    "    images = Variable(images)\n",
    "\n",
    "    # convert labels to torch tensor\n",
    "    labels = Variable(labels)\n",
    "\n",
    "    # run forward pass through the network\n",
    "    output = best_model(images)\n",
    "\n",
    "    # determine classification loss\n",
    "    loss = nll_loss(output, labels)\n",
    "\n",
    "    # collect mini-batch reconstruction loss\n",
    "    eval_mini_batch_losses.append(loss.data.item())\n",
    "\n",
    "# determine mean min-batch loss of epoch\n",
    "eval_loss = np.mean(eval_mini_batch_losses)\n",
    "\n",
    "# print epoch loss\n",
    "now = datetime.utcnow().strftime(\"%Y%m%d-%H:%M:%S\")\n",
    "print('[LOG {}] eval-loss: {}'.format(str(now), str(eval_loss)))"
   ]
  },
  {
   "cell_type": "markdown",
   "metadata": {},
   "source": [
    "Ok, great. The evaluation loss looks in-line with our training loss. Let's now inspect a few sample predictions to get an impression of the model quality. Therefore, we will again pick a random image of our evaluation dataset and retrieve its PyTorch tensor as well as the corresponding label:"
   ]
  },
  {
   "cell_type": "code",
   "execution_count": null,
   "metadata": {},
   "outputs": [],
   "source": [
    "# set (random) image id\n",
    "image_id = 777\n",
    "\n",
    "# retrieve image exhibiting the image id\n",
    "cifar10_eval_image, cifar10_eval_label = cifar10_eval_data[image_id]"
   ]
  },
  {
   "cell_type": "markdown",
   "metadata": {},
   "source": [
    "Let's now inspect the true class of the image we selected:"
   ]
  },
  {
   "cell_type": "code",
   "execution_count": null,
   "metadata": {},
   "outputs": [],
   "source": [
    "cifar10_classes[cifar10_eval_label]"
   ]
  },
  {
   "cell_type": "markdown",
   "metadata": {},
   "source": [
    "Ok, the randomly selected image should contain a two (2). Let's inspect the image accordingly:"
   ]
  },
  {
   "cell_type": "code",
   "execution_count": null,
   "metadata": {},
   "outputs": [],
   "source": [
    "# define tensor to image transformation\n",
    "trans = torchvision.transforms.ToPILImage()\n",
    "\n",
    "# set image plot title \n",
    "plt.title('Example: {}, Label: {}'.format(str(image_id), str(cifar10_classes[cifar10_eval_label])))\n",
    "\n",
    "# un-normalize cifar 10 image sample\n",
    "cifar10_eval_image_plot = cifar10_eval_image / 2.0 + 0.5\n",
    "\n",
    "# plot cifar 10 image sample\n",
    "plt.imshow(trans(cifar10_eval_image_plot))"
   ]
  },
  {
   "cell_type": "markdown",
   "metadata": {},
   "source": [
    "Ok, let's compare the true label with the prediction of our model:"
   ]
  },
  {
   "cell_type": "code",
   "execution_count": null,
   "metadata": {},
   "outputs": [],
   "source": [
    "cifar10_eval_image.unsqueeze(0).shape\n",
    "best_model(cifar10_eval_image.unsqueeze(0))"
   ]
  },
  {
   "cell_type": "markdown",
   "metadata": {},
   "source": [
    "We can even determine the likelihood of the most probable class:"
   ]
  },
  {
   "cell_type": "code",
   "execution_count": null,
   "metadata": {},
   "outputs": [],
   "source": [
    "cifar10_classes[torch.argmax(best_model(Variable(cifar10_eval_image.unsqueeze(0))), dim=1).item()]"
   ]
  },
  {
   "cell_type": "markdown",
   "metadata": {},
   "source": [
    "Let's now obtain the predictions for all the CIFAR-10 images of the evaluation data:"
   ]
  },
  {
   "cell_type": "code",
   "execution_count": null,
   "metadata": {},
   "outputs": [],
   "source": [
    "predictions = torch.argmax(best_model(iter(cifar10_eval_dataloader).next()[0]), dim=1)"
   ]
  },
  {
   "cell_type": "markdown",
   "metadata": {},
   "source": [
    "Furthermore, let's obtain the overall classification accuracy:"
   ]
  },
  {
   "cell_type": "code",
   "execution_count": null,
   "metadata": {},
   "outputs": [],
   "source": [
    "metrics.accuracy_score(cifar10_eval_data.targets, predictions)"
   ]
  },
  {
   "cell_type": "markdown",
   "metadata": {},
   "source": [
    "Let's also inspect the confusion matrix to determine major sources of misclassification"
   ]
  },
  {
   "cell_type": "code",
   "execution_count": null,
   "metadata": {},
   "outputs": [],
   "source": [
    "# determine classification matrix of the predicted and target classes\n",
    "mat = confusion_matrix(cifar10_eval_data.targets, predictions)\n",
    "\n",
    "# plot corresponding confusion matrix\n",
    "sns.heatmap(mat.T, square=True, annot=True, fmt='d', cbar=False, cmap='YlOrRd_r', xticklabels=cifar10_classes, yticklabels=cifar10_classes)\n",
    "plt.title('CIFAR-10 classification matrix')\n",
    "plt.xlabel('[true label]')\n",
    "plt.ylabel('[predicted label]');"
   ]
  },
  {
   "cell_type": "markdown",
   "metadata": {},
   "source": [
    "Ok, we can easily see that our current model confuses images of cats and dogs as well as images of trucks and cars quite often. This is again not surprising since those image categories exhibit a high semantic and therefore visual similarity."
   ]
  },
  {
   "cell_type": "markdown",
   "metadata": {},
   "source": [
    "### Exercises:"
   ]
  },
  {
   "cell_type": "markdown",
   "metadata": {},
   "source": [
    "We recommend you try the following exercises as part of the lab:\n",
    "\n",
    "**1. Train the network a couple more epochs and evaluate its prediction accuracy.**\n",
    "\n",
    "> Increase the number of training epochs up to 50 epochs and re-run the network training. Load and evaluate the model exhibiting the lowest training loss. What kind of behavior in terms of prediction accuracy can be observed with increasing the training epochs?"
   ]
  },
  {
   "cell_type": "code",
   "execution_count": null,
   "metadata": {},
   "outputs": [],
   "source": [
    "# ***************************************************\n",
    "# INSERT YOUR CODE HERE\n",
    "# ***************************************************"
   ]
  },
  {
   "cell_type": "markdown",
   "metadata": {},
   "source": [
    "**2. Evaluation of \"shallow\" vs. \"deep\" neural network architectures.**\n",
    "\n",
    "> In addition to the architecture of the lab notebook, evaluate further (more shallow as well as more deep) neural network architectures by (1) either removing or adding layers to the network and/or (2) increasing/decreasing the number of neurons per layer. Train a model (using the architectures you selected) for at least 50 training epochs. Analyze the prediction performance of the trained models in terms of training time and prediction accuracy. "
   ]
  },
  {
   "cell_type": "code",
   "execution_count": null,
   "metadata": {},
   "outputs": [],
   "source": [
    "# ***************************************************\n",
    "# INSERT YOUR CODE HERE\n",
    "# ***************************************************"
   ]
  },
  {
   "cell_type": "markdown",
   "metadata": {},
   "source": [
    "### Lab Summary:"
   ]
  },
  {
   "cell_type": "markdown",
   "metadata": {},
   "source": [
    "In this lab, a step by step introduction into **design, implementation, training and evaluation** of convolutional neural networks CNNs to classify tiny images of objects is presented. The code and exercises presented in this lab may serves as a starting point for developing more complex, deeper and more tailored CNNs."
   ]
  },
  {
   "cell_type": "markdown",
   "metadata": {},
   "source": [
    "You may want to execute the content of your lab outside of the Jupyter notebook environment, e.g. on a compute node or a server. The cell below converts the lab notebook into a standalone and executable python script. Pls. note that to convert the notebook, you need to install Python's **nbconvert** library and its extensions:"
   ]
  },
  {
   "cell_type": "code",
   "execution_count": null,
   "metadata": {},
   "outputs": [],
   "source": [
    "# installing the nbconvert library\n",
    "!pip install nbconvert\n",
    "!pip install jupyter_contrib_nbextensions"
   ]
  },
  {
   "cell_type": "markdown",
   "metadata": {},
   "source": [
    "Let's now convert the Jupyter notebook into a plain Python script:"
   ]
  },
  {
   "cell_type": "code",
   "execution_count": null,
   "metadata": {},
   "outputs": [],
   "source": [
    "!jupyter nbconvert --to script ml_lab_05.ipynb"
   ]
  }
 ],
 "metadata": {
  "kernelspec": {
   "display_name": "Python 3",
   "language": "python",
   "name": "python3"
  },
  "language_info": {
   "codemirror_mode": {
    "name": "ipython",
    "version": 3
   },
   "file_extension": ".py",
   "mimetype": "text/x-python",
   "name": "python",
   "nbconvert_exporter": "python",
   "pygments_lexer": "ipython3",
   "version": "3.7.4"
  },
  "toc": {
   "base_numbering": 1,
   "nav_menu": {},
   "number_sections": false,
   "sideBar": true,
   "skip_h1_title": false,
   "title_cell": "Table of Contents",
   "title_sidebar": "Contents",
   "toc_cell": false,
   "toc_position": {
    "height": "calc(100% - 180px)",
    "left": "10px",
    "top": "150px",
    "width": "254.39999389648438px"
   },
   "toc_section_display": true,
   "toc_window_display": true
  }
 },
 "nbformat": 4,
 "nbformat_minor": 2
}
