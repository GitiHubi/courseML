{
  "nbformat": 4,
  "nbformat_minor": 0,
  "metadata": {
    "kernelspec": {
      "display_name": "Python 3",
      "language": "python",
      "name": "python3"
    },
    "language_info": {
      "codemirror_mode": {
        "name": "ipython",
        "version": 3
      },
      "file_extension": ".py",
      "mimetype": "text/x-python",
      "name": "python",
      "nbconvert_exporter": "python",
      "pygments_lexer": "ipython3",
      "version": "3.7.4"
    },
    "colab": {
      "name": "ml_lab_00.ipynb",
      "provenance": [],
      "collapsed_sections": [
        "GHj7e8C485rE",
        "CbpHQSB-85rG"
      ]
    }
  },
  "cells": [
    {
      "cell_type": "markdown",
      "metadata": {
        "id": "6QMUasxf85q8"
      },
      "source": [
        "<img align=\"right\" style=\"max-width: 200px; height: auto\" src=\"https://github.com/GitiHubi/courseML/blob/master/lab_00/hsg_logo.png?raw=1\">\n",
        "\n",
        "###  Lab 00 - \"Testing the Lab Environment\"\n",
        "\n",
        "Machine Learning (BBWL), University of St. Gallen, Spring Term 2021"
      ]
    },
    {
      "cell_type": "markdown",
      "metadata": {
        "id": "GHj7e8C485rE"
      },
      "source": [
        "The lab environment of the **\"Machine Learning\"** course is powered by Jupyter Notebooks, which allow one to perform a great deal of data analysis and statistical validation. With this test notebook, we like to ensure that Jupyter Notebook and Python is properly set up, and you did install the first set of necessary Python libraries.\n",
        "\n",
        "In case of doubt or any questions pls. make heavy use of the discussion forum of the course website on Canvas. We are sure one of your fellow students will be able to help you out. Happy coding!\n",
        "\n",
        "### Test 1: Running Python"
      ]
    },
    {
      "cell_type": "markdown",
      "metadata": {
        "id": "oqWVNwcu85rE"
      },
      "source": [
        "Let's run a simple addition to determine if Python is running correctly:"
      ]
    },
    {
      "cell_type": "code",
      "metadata": {
        "id": "ZD0mjtju85rF"
      },
      "source": [
        "# run simple addition\n",
        "1 + 1"
      ],
      "execution_count": null,
      "outputs": []
    },
    {
      "cell_type": "markdown",
      "metadata": {
        "id": "CbpHQSB-85rG"
      },
      "source": [
        "### Test 2: Importing Python Libraries"
      ]
    },
    {
      "cell_type": "markdown",
      "metadata": {
        "id": "N8og3MvX85rG"
      },
      "source": [
        "Let's now import the needed packages to determine if they are set up correctly:"
      ]
    },
    {
      "cell_type": "code",
      "metadata": {
        "id": "vDDJuOwt85rG"
      },
      "source": [
        "# import additional python libraries\n",
        "import numpy\n",
        "import scipy\n",
        "import matplotlib\n",
        "import seaborn\n",
        "import sklearn\n",
        "import pandas"
      ],
      "execution_count": null,
      "outputs": []
    },
    {
      "cell_type": "markdown",
      "metadata": {
        "id": "LD2aLuLV85rH"
      },
      "source": [
        "If the code cell above executes without running into an error, you should be good to go for the upcoming labs :)"
      ]
    }
  ]
}