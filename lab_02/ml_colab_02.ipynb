{
  "nbformat": 4,
  "nbformat_minor": 0,
  "metadata": {
    "kernelspec": {
      "display_name": "Python 3",
      "language": "python",
      "name": "python3"
    },
    "language_info": {
      "codemirror_mode": {
        "name": "ipython",
        "version": 3
      },
      "file_extension": ".py",
      "mimetype": "text/x-python",
      "name": "python",
      "nbconvert_exporter": "python",
      "pygments_lexer": "ipython3",
      "version": "3.7.4"
    },
    "colab": {
      "name": "ml_colab_02.ipynb",
      "provenance": []
    }
  },
  "cells": [
    {
      "cell_type": "markdown",
      "metadata": {
        "id": "Q7joSFaaGvCg"
      },
      "source": [
        "<img align=\"right\" style=\"max-width: 200px; height: auto\" src=\"https://github.com/GitiHubi/courseML/blob/master/lab_02/hsg_logo.png?raw=1\">\n",
        "\n",
        "###  Lab 02 - \"Fundamentals of Python Programming\"\n",
        "\n",
        "Machine Learning (BBWL), University of St. Gallen, Spring Term 2021"
      ]
    },
    {
      "cell_type": "markdown",
      "metadata": {
        "id": "D_CYqc6UGvCn"
      },
      "source": [
        "The lab environment of the **\"Machine Learning\"** course is powered by Jupyter Notebooks (https://jupyter.org), which allows one to perform a great deal of data analysis and statistical validation. In this second lab, we want to have a look at the basic data types, containers, decision structures, loops and functions of the Python programming language."
      ]
    },
    {
      "cell_type": "markdown",
      "metadata": {
        "id": "nScsIsvQGvCo"
      },
      "source": [
        "<img align=\"left\" style=\"max-width: 100px; height: auto\" src=\"https://github.com/GitiHubi/courseML/blob/master/lab_02/wizard.png?raw=1\"> \n",
        "\n",
        "\n",
        "The second lab (**\"Halloween Edition\"**) builds in parts on the excellent Python tutorial of the Stanford University CS 231n lecture series developed by Andrej Karpathy, Justin Johnson and Fei-Fei Li. The original tutorial is available under the following URL: http://cs231n.github.io/python-numpy-tutorial/. "
      ]
    },
    {
      "cell_type": "markdown",
      "metadata": {
        "id": "T3-Ez9lHGvCo"
      },
      "source": [
        "As always, pls. don't hesitate to ask all your questions either during the lab, post them in our CANVAS (StudyNet) forum (https://learning.unisg.ch), or send us an email (using the course email)."
      ]
    },
    {
      "cell_type": "markdown",
      "metadata": {
        "id": "j0RLje2AGvCp"
      },
      "source": [
        "### Lab Objectives:"
      ]
    },
    {
      "cell_type": "markdown",
      "metadata": {
        "id": "QMOdVYyUGvCp"
      },
      "source": [
        "After today's lab you should be able to:\n",
        "    \n",
        "> 1. Understand the basic **data types** of the Python e.g. integer, boolean, string.\n",
        "> 2. Understand the basic **data containers** of Python e.g. lists and dictionaries.\n",
        "> 3. Know Python's **decision structures** to guide the workflow of a program.\n",
        "> 4. Understand how to **loop** over data containers in order to access and manipulate individual values.\n",
        "> 5. Implement small **functions** that allow for the execution of several Python statements."
      ]
    },
    {
      "cell_type": "markdown",
      "metadata": {
        "id": "gZXQB14KGvCp"
      },
      "source": [
        "### Let's start with a motivational video:"
      ]
    },
    {
      "cell_type": "code",
      "metadata": {
        "id": "xiGqUXN6GvCq"
      },
      "source": [
        "from IPython.display import YouTubeVideo\n",
        "# Powered by TensorFlow: helping paleographers transcribe medieval text using machine learning\n",
        "YouTubeVideo('v-FgOACRgfs', width=1000, height=600)"
      ],
      "execution_count": null,
      "outputs": []
    },
    {
      "cell_type": "markdown",
      "metadata": {
        "id": "u7WCUlL_GvCr"
      },
      "source": [
        "### 1. Python Versions"
      ]
    },
    {
      "cell_type": "markdown",
      "metadata": {
        "id": "cQ0aie64GvCr"
      },
      "source": [
        "There are currently two different supported versions of Python, 2.x and 3.x. \n",
        "\n",
        "Somewhat confusingly, Python 3.x introduced many backwards-incompatible changes to the language, so code written for 2.x may not work under 3.x and vice versa. For this class, all code will use Python 3.x (were x refers to an arbitrary version number)."
      ]
    },
    {
      "cell_type": "markdown",
      "metadata": {
        "id": "sDsA6nwqGvCr"
      },
      "source": [
        "You may want to check your Python version at the command line by running python **--version**."
      ]
    },
    {
      "cell_type": "markdown",
      "metadata": {
        "id": "Gko9n6SFGvCs"
      },
      "source": [
        "### 2. Fundamental Python Data Types"
      ]
    },
    {
      "cell_type": "markdown",
      "metadata": {
        "id": "eA_8wHteGvCs"
      },
      "source": [
        "In general, a data type defines the format, sets the upper and lower bounds of the data so that a program could use it appropriately. However, **Python data types** are just more than that. In Python, we don’t need to declare a variable with explicitly mentioning the data type. This feature is famously known as **dynamic typing**."
      ]
    },
    {
      "cell_type": "markdown",
      "metadata": {
        "id": "Vtwxr26_GvCt"
      },
      "source": [
        "Python determines the type of a literal directly from the syntax at **runtime**. For example, the quotes mark the declaration of a string value, square brackets represent a list and curly brackets for a dictionary. Also, the non-decimal numbers will get assigned to Integer type whereas the ones with a decimal point will be a float."
      ]
    },
    {
      "cell_type": "markdown",
      "metadata": {
        "id": "7p4SMh6VGvCu"
      },
      "source": [
        "There are four basic data types in the Python programming language:\n",
        "\n",
        "> * **Integer's** - represent positive or negative whole numbers with no decimal point.\n",
        "> * **Float's** - represent positive or negative real numbers and are written with a decimal point.\n",
        "> * **String's** - represent sequences of Unicode characters.\n",
        "> * **Boolean's** - represent constant objects that are either 'False' and 'True'. "
      ]
    },
    {
      "cell_type": "markdown",
      "metadata": {
        "id": "u1nAvXkgGvCu"
      },
      "source": [
        "<img align=\"center\" style=\"max-width: 800px; height: auto\" src=\"https://github.com/GitiHubi/courseML/blob/master/lab_02/python_data_types.png?raw=1\">"
      ]
    },
    {
      "cell_type": "markdown",
      "metadata": {
        "id": "O_DEO10wGvCu"
      },
      "source": [
        "(Source: https://www.tes.com/teaching-resource/python-version-3-data-types-11949410.) "
      ]
    },
    {
      "cell_type": "markdown",
      "metadata": {
        "id": "-Y9hL6t1GvCv"
      },
      "source": [
        "#### 2.1 Numerical Data Type \"Integer\""
      ]
    },
    {
      "cell_type": "markdown",
      "metadata": {
        "id": "PDCU_2IlGvCv"
      },
      "source": [
        "Numbers are one of the most prominent Python data types. Numbers in Python are often called just **'integers'** or **'ints'** and are positive or negative whole numbers with no decimal point. In Python 3, there is effectively no limit to how long an integer value can be. \n",
        "\n",
        "Of course, it is constrained by the **amount of memory** your system has, as are all things. But beyond that, an integer can be as long as you need it to be:"
      ]
    },
    {
      "cell_type": "code",
      "metadata": {
        "id": "KdNsODtCGvCv"
      },
      "source": [
        "x = 3\n",
        "x"
      ],
      "execution_count": null,
      "outputs": []
    },
    {
      "cell_type": "markdown",
      "metadata": {
        "id": "emV65m-lGvCv"
      },
      "source": [
        "Print the variable type:"
      ]
    },
    {
      "cell_type": "code",
      "metadata": {
        "id": "gK98N1wPGvCv"
      },
      "source": [
        "type(x)"
      ],
      "execution_count": null,
      "outputs": []
    },
    {
      "cell_type": "markdown",
      "metadata": {
        "id": "zgSsRrHpGvCw"
      },
      "source": [
        "Basic mathematical operations:"
      ]
    },
    {
      "cell_type": "code",
      "metadata": {
        "id": "TJrhJ16SGvCw"
      },
      "source": [
        "print(x + 1)   # addition\n",
        "print(x - 1)   # subtraction\n",
        "print(x * 2)   # multiplication\n",
        "print(x ** 2)  # exponentiation "
      ],
      "execution_count": null,
      "outputs": []
    },
    {
      "cell_type": "markdown",
      "metadata": {
        "id": "a26URekYGvCw"
      },
      "source": [
        "Basic mathematical operations (shortcuts):"
      ]
    },
    {
      "cell_type": "code",
      "metadata": {
        "id": "guKzR7iYGvCw"
      },
      "source": [
        "x += 1\n",
        "print(x)  # prints \"4\"\n",
        "x *= 2\n",
        "print(x)  # prints \"8\""
      ],
      "execution_count": null,
      "outputs": []
    },
    {
      "cell_type": "markdown",
      "metadata": {
        "id": "iaM4x5l5GvCx"
      },
      "source": [
        "#### 2.2 Numerical Data Type \"Float\""
      ]
    },
    {
      "cell_type": "markdown",
      "metadata": {
        "id": "XJBMCJ2WGvCx"
      },
      "source": [
        "The **float** type in Python represents real numbers and are written with a decimal point dividing the integer and fractional parts. As a result, float values are specified with a decimal point and are often called just **'floats'**.\n",
        "\n",
        "A float type number can have precision up to **15 decimal places**:"
      ]
    },
    {
      "cell_type": "code",
      "metadata": {
        "id": "ww1_jGxtGvCx"
      },
      "source": [
        "y = 3.0\n",
        "print(y)"
      ],
      "execution_count": null,
      "outputs": []
    },
    {
      "cell_type": "markdown",
      "metadata": {
        "id": "2RI53kRtGvCx"
      },
      "source": [
        "Print the variable type:"
      ]
    },
    {
      "cell_type": "code",
      "metadata": {
        "id": "GnImRjinGvCx"
      },
      "source": [
        "type(y)"
      ],
      "execution_count": null,
      "outputs": []
    },
    {
      "cell_type": "markdown",
      "metadata": {
        "id": "tBXL2tY3GvCy"
      },
      "source": [
        "Basic mathematical operations:"
      ]
    },
    {
      "cell_type": "code",
      "metadata": {
        "id": "S1YKV5qtGvCy"
      },
      "source": [
        "print(y + 1)   # addition\n",
        "print(y - 1)   # subtraction\n",
        "print(y * 2)   # multiplication\n",
        "print(y ** 2)  # exponentation"
      ],
      "execution_count": null,
      "outputs": []
    },
    {
      "cell_type": "markdown",
      "metadata": {
        "id": "dL4bvtfYGvCy"
      },
      "source": [
        "Optionally, the character e or E followed by a positive or negative integer may be appended to specify scientific notation:"
      ]
    },
    {
      "cell_type": "code",
      "metadata": {
        "id": "Btas3z50GvCy"
      },
      "source": [
        "z = 1e-7      # equals 0.0000001\n",
        "print(z)\n",
        "print(z + 1)\n",
        "print(z * 2)\n",
        "print(z ** 2)"
      ],
      "execution_count": null,
      "outputs": []
    },
    {
      "cell_type": "markdown",
      "metadata": {
        "id": "c2rXTRaHGvCz"
      },
      "source": [
        "#### 2.3 Non-Numerical Data Type \"String\""
      ]
    },
    {
      "cell_type": "markdown",
      "metadata": {
        "id": "1DLSR2hUGvCz"
      },
      "source": [
        "A sequence of one or more characters enclosed within either single quotes **‘** or double quotes **”** is considered as **string** in Python. Any letter, a number or a symbol could be a part of the sting. All the characters between the opening delimiter and matching closing delimiter are part of the string:"
      ]
    },
    {
      "cell_type": "code",
      "metadata": {
        "id": "_jZVXbVSGvCz"
      },
      "source": [
        "hello = 'hello'   # string literals can use single quotes\n",
        "world = \"world, my name is peterli\"   # or double quotes; it does not matter.\n",
        "print(hello)"
      ],
      "execution_count": null,
      "outputs": []
    },
    {
      "cell_type": "markdown",
      "metadata": {
        "id": "SWvsZGm9GvCz"
      },
      "source": [
        "Print the variable type:"
      ]
    },
    {
      "cell_type": "code",
      "metadata": {
        "id": "mM_BcZyAGvC0"
      },
      "source": [
        "type(hello)"
      ],
      "execution_count": null,
      "outputs": []
    },
    {
      "cell_type": "markdown",
      "metadata": {
        "id": "8p1RDwZEGvC0"
      },
      "source": [
        "Print the length of each string in terms of a number of characters:"
      ]
    },
    {
      "cell_type": "code",
      "metadata": {
        "id": "j2XvQEoaGvC0"
      },
      "source": [
        "print(len(hello))\n",
        "print(len(world))"
      ],
      "execution_count": null,
      "outputs": []
    },
    {
      "cell_type": "markdown",
      "metadata": {
        "id": "Ibxnz7J_GvC0"
      },
      "source": [
        "Like the most programming languages, Python allows accessing individual characters of a string. But it also supports negative indexes. Index of `‘-1’` represents the last character of the String. Similarly using `‘-2’`, we can access the penultimate character of the string and so on:"
      ]
    },
    {
      "cell_type": "code",
      "metadata": {
        "id": "XyhKG_ZzGvC0"
      },
      "source": [
        "halloween = 'spooky'\n",
        "halloween[0]   # get the first string character"
      ],
      "execution_count": null,
      "outputs": []
    },
    {
      "cell_type": "code",
      "metadata": {
        "id": "koGN83kyGvC0"
      },
      "source": [
        "print(halloween[-1])    # get the last string character\n",
        "print(halloween[-2])    # get the penultimate character"
      ],
      "execution_count": null,
      "outputs": []
    },
    {
      "cell_type": "markdown",
      "metadata": {
        "id": "RfwSKpIFGvC1"
      },
      "source": [
        "Concatenate two strings, e.g., to form a sentence:"
      ]
    },
    {
      "cell_type": "code",
      "metadata": {
        "id": "elX_4pjHGvC1"
      },
      "source": [
        "hw = hello + '_' + world + ' 12' # string concatenation\n",
        "print(hw)  # prints \"hello world, my name is peterli 12\""
      ],
      "execution_count": null,
      "outputs": []
    },
    {
      "cell_type": "markdown",
      "metadata": {
        "id": "VQc6_TXwGvC4"
      },
      "source": [
        "Concatenate two strings in C/C# notation (also allowed in Python):"
      ]
    },
    {
      "cell_type": "code",
      "metadata": {
        "id": "Oz27ccsyGvC4"
      },
      "source": [
        "hw2 = ' %s %s %d' % (hello, world, 12)  # sprintf style string formatting\n",
        "print(hw2)  # prints \"hello world, my name is hubert 12\""
      ],
      "execution_count": null,
      "outputs": []
    },
    {
      "cell_type": "markdown",
      "metadata": {
        "id": "Adz8un88GvC4"
      },
      "source": [
        "Concatenate two strings in Python3 notation:"
      ]
    },
    {
      "cell_type": "code",
      "metadata": {
        "id": "fLvaYHf8GvC4"
      },
      "source": [
        "hw3 = '{} {} 12'.format(hello, world)\n",
        "print(hw3) # prints \"hello world, my name is hubert 12\""
      ],
      "execution_count": null,
      "outputs": []
    },
    {
      "cell_type": "markdown",
      "metadata": {
        "id": "0YxLJkWpGvC5"
      },
      "source": [
        "String objects have a bunch of useful methods; for example:"
      ]
    },
    {
      "cell_type": "code",
      "metadata": {
        "id": "JTovwf1AGvC5"
      },
      "source": [
        "s = \"hello\"                     # init string variable\n",
        "print(s.capitalize())           # capitalize a string; prints \"Hello\"\n",
        "print(s.upper())                # convert a string to uppercase; prints \"HELLO\"\n",
        "print(s.rjust(7))               # right-justify a string, padding with spaces; prints \"  hello\"\n",
        "print(s.center(7))              # center a string, padding with spaces; prints \" hello \"\n",
        "print(s.replace('l', '(ell)'))  # replace all instances of one substring with another;\n",
        "                                # prints \"he(ell)(ell)o\"\n",
        "print('  world '.strip())       # strip leading and trailing whitespace; prints \"world\""
      ],
      "execution_count": null,
      "outputs": []
    },
    {
      "cell_type": "markdown",
      "metadata": {
        "id": "ZA13GU52GvC5"
      },
      "source": [
        "#### 2.4 Non-Numerical Data Type \"boolean\""
      ]
    },
    {
      "cell_type": "markdown",
      "metadata": {
        "id": "OzXQpLfGGvC5"
      },
      "source": [
        "Python 3 provides a Boolean data type. Objects of type boolean type may have one of two values, \"True\" or \"False\":"
      ]
    },
    {
      "cell_type": "code",
      "metadata": {
        "id": "_T6yrw8UGvC5"
      },
      "source": [
        "a = True\n",
        "b = False\n",
        "print(a)\n",
        "print(b)"
      ],
      "execution_count": null,
      "outputs": []
    },
    {
      "cell_type": "markdown",
      "metadata": {
        "id": "rhK3BHo8GvC6"
      },
      "source": [
        "Print the variable type:"
      ]
    },
    {
      "cell_type": "code",
      "metadata": {
        "id": "Vao6__GzGvC6"
      },
      "source": [
        "type(a)"
      ],
      "execution_count": null,
      "outputs": []
    },
    {
      "cell_type": "markdown",
      "metadata": {
        "id": "KMFdJ3IBGvC6"
      },
      "source": [
        "Booleans are often used in Python to test conditions or constraints. For example, a string in Python can be tested for truth value. The return type will be then a Boolean value (True or False). Let’s have a look at a few examples:"
      ]
    },
    {
      "cell_type": "code",
      "metadata": {
        "id": "QUuKEVuTGvC6"
      },
      "source": [
        "s1 = 'Scary Halloween'\n",
        "result_upper = s1.isupper()        # test if string contains only upper case characters\n",
        "print(result_upper)"
      ],
      "execution_count": null,
      "outputs": []
    },
    {
      "cell_type": "markdown",
      "metadata": {
        "id": "on6JGVPvGvC6"
      },
      "source": [
        "Let's have a look at a couple more examples:"
      ]
    },
    {
      "cell_type": "code",
      "metadata": {
        "id": "QG7gaOOUGvC7"
      },
      "source": [
        "s2 = 'SCARY HALLOWEEN'\n",
        "result_upper = s2.isupper()        # test if string contains only upper case characters\n",
        "print(result_upper)"
      ],
      "execution_count": null,
      "outputs": []
    },
    {
      "cell_type": "code",
      "metadata": {
        "id": "jO4moa6ZGvC7"
      },
      "source": [
        "n1 = 10\n",
        "result_greather_than = n1 > 100                 # test if 10 > 100\n",
        "print(result_greather_than)"
      ],
      "execution_count": null,
      "outputs": []
    },
    {
      "cell_type": "code",
      "metadata": {
        "id": "I4QUMP5HGvC7"
      },
      "source": [
        "n2 = 99\n",
        "result_in_between = n2 > 10 and n2 < 100        # test if 99 > 10 and 99 < 100\n",
        "print(result_in_between)"
      ],
      "execution_count": null,
      "outputs": []
    },
    {
      "cell_type": "markdown",
      "metadata": {
        "id": "UcVmy0eHGvC7"
      },
      "source": [
        "We can even logically combine the tested conditions above:"
      ]
    },
    {
      "cell_type": "code",
      "metadata": {
        "id": "qcpFiKSRGvC8"
      },
      "source": [
        "print(a and b)               # Logical AND; prints \"False\"\n",
        "print(a or b)                # Logical OR; prints \"True\"\n",
        "print(a and result_upper)    # Logical AND; prints \"True\"\n",
        "print(not a)                 # Logical NOT; prints \"False\"\n",
        "print(a != b)                # Logical XOR; prints \"True\""
      ],
      "execution_count": null,
      "outputs": []
    },
    {
      "cell_type": "markdown",
      "metadata": {
        "id": "Yu6gE5kOGvC8"
      },
      "source": [
        "As you will see in upcoming labs, expressions in Python are often evaluated in a boolean context, meaning they are interpreted to represent truth or falsehood. A value that is true in Boolean context is sometimes said to be “truthy,” and one that is false in Boolean context is said to be “falsy”."
      ]
    },
    {
      "cell_type": "markdown",
      "metadata": {
        "id": "zosSDKCtGvC8"
      },
      "source": [
        "### Exercises:"
      ]
    },
    {
      "cell_type": "markdown",
      "metadata": {
        "id": "Ytq0H1JDGvC8"
      },
      "source": [
        "We recommend you to try the following exercises as part of the lab:\n",
        "\n",
        "**1. Write a set of (or single) Python command(s) that compare the first and last character of a string.**\n",
        "\n",
        "> Write a set of Python commands that compare the first and last character of a string. In case both characters are the same print 'True' otherwise print 'False'. Test your statements using the words 'spooky' and 'sweets'. "
      ]
    },
    {
      "cell_type": "code",
      "metadata": {
        "id": "_ekSPAUjGvC9"
      },
      "source": [
        "# ***************************************************\n",
        "# INSERT YOUR SOLUTION CODE HERE\n",
        "# ***************************************************"
      ],
      "execution_count": null,
      "outputs": []
    },
    {
      "cell_type": "markdown",
      "metadata": {
        "id": "LmiWKoLdGvC-"
      },
      "source": [
        "**2. Write a set of (or single) Python command(s) that determine the properties of a string.**\n",
        "\n",
        "> Write a set of Python commands that determine the number of characters of a string and if the characters are all upper case. If the number of characters is between 5 and 12 characters and all upper case print 'True' otherwise print 'False'. Test your statements using the words 'BROOMSTICK', 'ghostly', and 'mYstEriOUs'."
      ]
    },
    {
      "cell_type": "code",
      "metadata": {
        "id": "Ap3cLNYdGvC-"
      },
      "source": [
        "# ***************************************************\n",
        "# INSERT YOUR SOLUTION CODE HERE\n",
        "# ***************************************************"
      ],
      "execution_count": null,
      "outputs": []
    },
    {
      "cell_type": "markdown",
      "metadata": {
        "id": "ouurxmeDGvC-"
      },
      "source": [
        "**3. Write a set of (or single) Python command(s) that prints a very scary sentence.**\n",
        "\n",
        "> Write a set of Python commands that prints the scariest sentence that you could imagine. The sentence should include at least 3 of the following words 'tarantula', 'moonlight', 'supernatural', 'fog', 'owl', 'nightmare', or 'poltergeist'. "
      ]
    },
    {
      "cell_type": "code",
      "metadata": {
        "id": "un3dfWKaGvC_"
      },
      "source": [
        "# ***************************************************\n",
        "# INSERT YOUR SOLUTION CODE HERE\n",
        "# ***************************************************"
      ],
      "execution_count": null,
      "outputs": []
    },
    {
      "cell_type": "markdown",
      "metadata": {
        "id": "4rLgQ8t6GvC_"
      },
      "source": [
        "### 3. Fundamental Python Data Containers"
      ]
    },
    {
      "cell_type": "markdown",
      "metadata": {
        "id": "wrsN3QMMGvC_"
      },
      "source": [
        "There are four collection data types in the Python programming language:\n",
        "\n",
        "> * **List** - is a collection which is ordered and changeable. Allows duplicate members.\n",
        "> * **Tuple** - is a collection which is ordered and unchangeable. Allows duplicate members.\n",
        "> * **Set** - is a collection which is unordered and unindexed. No duplicate members.\n",
        "> * **Dictionary** - is a collection which is unordered, changeable and indexed. No duplicate members.\n",
        "\n",
        "When choosing a collection type, it is useful to understand the properties of that type. Choosing the right type for a particular data set could mean retention of meaning, and, it could mean an increase in efficiency or security. \n",
        "\n",
        "During this lab, we will have a closer look into **lists** and **dictionaries**."
      ]
    },
    {
      "cell_type": "markdown",
      "metadata": {
        "id": "CCy9L9Q7GvC_"
      },
      "source": [
        "<img align=\"center\" style=\"max-width: 800px; height: auto\" src=\"https://github.com/GitiHubi/courseML/blob/master/lab_02/python_data_containers.png?raw=1\">"
      ]
    },
    {
      "cell_type": "markdown",
      "metadata": {
        "id": "YBVTnOJqGvDA"
      },
      "source": [
        "(Source: https://www.tes.com/teaching-resource/python-version-3-data-types-11949410.) "
      ]
    },
    {
      "cell_type": "markdown",
      "metadata": {
        "id": "pOYcj5RwGvDA"
      },
      "source": [
        "#### 3.1. Data Container \"List\""
      ]
    },
    {
      "cell_type": "markdown",
      "metadata": {
        "id": "_kwfD0Q5GvDB"
      },
      "source": [
        "A list is a collection of basic Python data types \"elements\" which is ordered and changeable."
      ]
    },
    {
      "cell_type": "markdown",
      "metadata": {
        "id": "XTcToWUrGvDB"
      },
      "source": [
        "<img align=\"center\" style=\"max-width: 800px; height: auto\" src=\"https://github.com/GitiHubi/courseML/blob/master/lab_02/python_lists.png?raw=1\">"
      ]
    },
    {
      "cell_type": "markdown",
      "metadata": {
        "id": "ADNMVAqUGvDB"
      },
      "source": [
        "In Python, lists are written with square brackets (equivalent to an array). Python lists allow duplicate elements, are resizeable and can contain elements of different data types. Lists can be used like this:"
      ]
    },
    {
      "cell_type": "code",
      "metadata": {
        "id": "Si3v4u4hGvDC"
      },
      "source": [
        "spooky_list = [42, 5, 128, 5, 97, 208]    # create a list\n",
        "print(spooky_list)                        # print list"
      ],
      "execution_count": null,
      "outputs": []
    },
    {
      "cell_type": "markdown",
      "metadata": {
        "id": "OaT8sL7GGvDC"
      },
      "source": [
        "Print the variable type:"
      ]
    },
    {
      "cell_type": "code",
      "metadata": {
        "id": "pOfhjcZTGvDC"
      },
      "source": [
        "type(spooky_list)"
      ],
      "execution_count": null,
      "outputs": []
    },
    {
      "cell_type": "markdown",
      "metadata": {
        "id": "KtOXcnpiGvDC"
      },
      "source": [
        "Determine individual elements of a list:"
      ]
    },
    {
      "cell_type": "code",
      "metadata": {
        "id": "yxms8v3KGvDD"
      },
      "source": [
        "print(spooky_list[2])           # print third element of list created\n",
        "print(spooky_list[-1])          # print the last list element"
      ],
      "execution_count": null,
      "outputs": []
    },
    {
      "cell_type": "markdown",
      "metadata": {
        "id": "XnC6Rp1sGvDD"
      },
      "source": [
        "Determine the total number of list elements:"
      ]
    },
    {
      "cell_type": "code",
      "metadata": {
        "id": "E_yjrVgbGvDD"
      },
      "source": [
        "print(len(spooky_list))         # print the number of elements contained in the list"
      ],
      "execution_count": null,
      "outputs": []
    },
    {
      "cell_type": "markdown",
      "metadata": {
        "id": "2Z3ULYPMGvDD"
      },
      "source": [
        "Replace a list element by assigning a new value at a specific index:"
      ]
    },
    {
      "cell_type": "code",
      "metadata": {
        "id": "JwdFhgOaGvDD"
      },
      "source": [
        "spooky_list[2] = 'happy'        # lists can contain elements of different types\n",
        "print(spooky_list)"
      ],
      "execution_count": null,
      "outputs": []
    },
    {
      "cell_type": "markdown",
      "metadata": {
        "id": "ZWUQ3SbYGvDE"
      },
      "source": [
        "Append an element to the end of a list:"
      ]
    },
    {
      "cell_type": "code",
      "metadata": {
        "id": "nBuidAE4GvDE"
      },
      "source": [
        "spooky_list.append('coding')    # add a new element to the end of the list\n",
        "print(spooky_list)"
      ],
      "execution_count": null,
      "outputs": []
    },
    {
      "cell_type": "markdown",
      "metadata": {
        "id": "SS5LqI0rGvDE"
      },
      "source": [
        "Remove the last element of a list:"
      ]
    },
    {
      "cell_type": "code",
      "metadata": {
        "id": "mzl47qxNGvDE"
      },
      "source": [
        "this_last = spooky_list.pop()   # remove and return the last element of the list\n",
        "print(this_last)                # prints the element removed \n",
        "print(spooky_list)              # prints the remaining elements"
      ],
      "execution_count": null,
      "outputs": []
    },
    {
      "cell_type": "markdown",
      "metadata": {
        "id": "-XcT7uDLGvDE"
      },
      "source": [
        "Create a list of numbers:"
      ]
    },
    {
      "cell_type": "code",
      "metadata": {
        "id": "1FKl53AsGvDE"
      },
      "source": [
        "list_of_scary_numbers = list(range(5))     # range is a built-in function that creates a list of integers\n",
        "print(list_of_scary_numbers)               # prints \"[0, 1, 2, 3, 4]\""
      ],
      "execution_count": null,
      "outputs": []
    },
    {
      "cell_type": "markdown",
      "metadata": {
        "id": "WSATxpyWGvDF"
      },
      "source": [
        "Slice list using distinct indexing techniques:"
      ]
    },
    {
      "cell_type": "code",
      "metadata": {
        "id": "py7iG8kMGvDF"
      },
      "source": [
        "print(list_of_scary_numbers[2:4])    # get a slice from index 2 to 4 (exclusive); prints \"[2, 3]\"\n",
        "print(list_of_scary_numbers[2:])     # get a slice from index 2 to the end; prints \"[2, 3, 4]\"\n",
        "print(list_of_scary_numbers[:2])     # get a slice from the start to index 2 (exclusive); prints \"[0, 1]\"\n",
        "print(list_of_scary_numbers[:])      # get a slice of the whole list; prints [\"0, 1, 2, 3, 4]\"\n",
        "print(list_of_scary_numbers[:-1])    # slice indices can be negative; prints [\"0, 1, 2, 3]\""
      ],
      "execution_count": null,
      "outputs": []
    },
    {
      "cell_type": "markdown",
      "metadata": {
        "id": "cdZ8uJz9GvDF"
      },
      "source": [
        "Replace range of list elements:"
      ]
    },
    {
      "cell_type": "code",
      "metadata": {
        "id": "CKPeqjlIGvDF"
      },
      "source": [
        "list_of_scary_numbers[2:4] = [8, 9]  # assign a new sublist to a slice\n",
        "print(list_of_scary_numbers)         # prints \"[0, 1, 8, 9, 4]\""
      ],
      "execution_count": null,
      "outputs": []
    },
    {
      "cell_type": "markdown",
      "metadata": {
        "id": "2xM2RoypGvDF"
      },
      "source": [
        "#### 3.2. Data Container \"Dictionary\""
      ]
    },
    {
      "cell_type": "markdown",
      "metadata": {
        "id": "4qppGLr8GvDF"
      },
      "source": [
        "In Python, dictionaries are used to stores (key, value) pairs."
      ]
    },
    {
      "cell_type": "markdown",
      "metadata": {
        "id": "-CE66_s3GvDG"
      },
      "source": [
        "<img align=\"center\" style=\"max-width: 800px; height: auto\" src=\"https://github.com/GitiHubi/courseML/blob/master/lab_02/python_dicts.png?raw=1\">"
      ]
    },
    {
      "cell_type": "markdown",
      "metadata": {
        "id": "iEksRjljGvDG"
      },
      "source": [
        "A dictionary is a collection of basic Python data types \"elements\" which is unordered, changeable and indexed. In Python, dictionaries are written with curly brackets. Dictionaries can be used like this:"
      ]
    },
    {
      "cell_type": "code",
      "metadata": {
        "id": "KzK4xkPJGvDG"
      },
      "source": [
        "this_screaming_dictionary = {'cat': 'animal', 'night': 'non-animal', 'vampire': 'non-animal', 'owl': 'animal'}  # create a new dictionary\n",
        "print(this_screaming_dictionary)"
      ],
      "execution_count": null,
      "outputs": []
    },
    {
      "cell_type": "markdown",
      "metadata": {
        "id": "kre9oNWEGvDG"
      },
      "source": [
        "Retrieve and print the value corresponding to the key \"cat\":"
      ]
    },
    {
      "cell_type": "code",
      "metadata": {
        "id": "k0xUXqGbGvDG"
      },
      "source": [
        "print(this_screaming_dictionary['cat'])          # get an entry from a dictionary; prints \"spooky\""
      ],
      "execution_count": null,
      "outputs": []
    },
    {
      "cell_type": "markdown",
      "metadata": {
        "id": "_5kVJ1uTGvDG"
      },
      "source": [
        "Add a new dictionary element:"
      ]
    },
    {
      "cell_type": "code",
      "metadata": {
        "id": "tVqP7hZmGvDH"
      },
      "source": [
        "this_screaming_dictionary['pumpkin'] = 'ugly'    # set an entry in a dictionary\n",
        "print(this_screaming_dictionary)"
      ],
      "execution_count": null,
      "outputs": []
    },
    {
      "cell_type": "markdown",
      "metadata": {
        "id": "Eon8wYzLGvDH"
      },
      "source": [
        "Retrieve and print the value corresponding to the added entry with key \"pumpkin\":"
      ]
    },
    {
      "cell_type": "code",
      "metadata": {
        "id": "2edbsMX1GvDH"
      },
      "source": [
        "print(this_screaming_dictionary['pumpkin'])          # get an entry from a dictionary; prints \"ugly\""
      ],
      "execution_count": null,
      "outputs": []
    },
    {
      "cell_type": "markdown",
      "metadata": {
        "id": "DmjvBOf8GvDH"
      },
      "source": [
        "Retrieve and print all dictionary keys:"
      ]
    },
    {
      "cell_type": "code",
      "metadata": {
        "id": "F9-LVwfZGvDH"
      },
      "source": [
        "keys = this_screaming_dictionary.keys()          # obtain all dictionary keys\n",
        "print(keys)"
      ],
      "execution_count": null,
      "outputs": []
    },
    {
      "cell_type": "markdown",
      "metadata": {
        "id": "dg2BEL04GvDH"
      },
      "source": [
        "Retrieve and print all dictionary values:"
      ]
    },
    {
      "cell_type": "code",
      "metadata": {
        "id": "dEsvIdSuGvDI"
      },
      "source": [
        "values = this_screaming_dictionary.values()      # obtain all dictionary values\n",
        "print(values)"
      ],
      "execution_count": null,
      "outputs": []
    },
    {
      "cell_type": "markdown",
      "metadata": {
        "id": "wiDUcu-5GvDI"
      },
      "source": [
        "Try to retrieve a dictionary value that is not contained in the dictionary (this will result in an error): "
      ]
    },
    {
      "cell_type": "code",
      "metadata": {
        "id": "86ePjED-GvDI"
      },
      "source": [
        "#print(this_dictionary['ghost'])                  # KeyError: 'ghost' not a key of the dictionary"
      ],
      "execution_count": null,
      "outputs": []
    },
    {
      "cell_type": "markdown",
      "metadata": {
        "id": "DpJS7ogzGvDI"
      },
      "source": [
        "However, we can \"catch\" such errors using:  "
      ]
    },
    {
      "cell_type": "code",
      "metadata": {
        "id": "9O6T7EMNGvDI"
      },
      "source": [
        "print(this_screaming_dictionary.get('ghost', 'N/A'))       # get an element with a default; prints \"N/A\"\n",
        "print(this_screaming_dictionary.get('pumpkin', 'N/A'))     # get an element with a default; prints \"ugly\")"
      ],
      "execution_count": null,
      "outputs": []
    },
    {
      "cell_type": "markdown",
      "metadata": {
        "id": "vL8TnQ7EGvDI"
      },
      "source": [
        "Remove an element from a dictionary:"
      ]
    },
    {
      "cell_type": "code",
      "metadata": {
        "id": "L8QHtbsyGvDJ"
      },
      "source": [
        "del this_screaming_dictionary['pumpkin']                   # remove an element from a dictionary\n",
        "print(this_screaming_dictionary)"
      ],
      "execution_count": null,
      "outputs": []
    },
    {
      "cell_type": "markdown",
      "metadata": {
        "id": "RXGhKtwsGvDJ"
      },
      "source": [
        "Try to retrieve the removed dictionary element:"
      ]
    },
    {
      "cell_type": "code",
      "metadata": {
        "id": "QfcrthPiGvDJ"
      },
      "source": [
        "print(this_screaming_dictionary.get('pumpkin', 'N/A'))    # \"pumpkin\" is no longer a key; prints \"N/A\""
      ],
      "execution_count": null,
      "outputs": []
    },
    {
      "cell_type": "markdown",
      "metadata": {
        "id": "tyAiC9wVGvDJ"
      },
      "source": [
        "### Exercises:"
      ]
    },
    {
      "cell_type": "markdown",
      "metadata": {
        "id": "zFp5yKeOGvDJ"
      },
      "source": [
        "We recommend you to try the following exercises as part of the lab:\n",
        "\n",
        "**1. Write a set of (or single) Python command(s) that determine the number of characters of a list element.**\n",
        "\n",
        "> Write a set of Python commands that determine the number of characters of the second element of a list. In case the element consists of more than 4 characters print 'True' otherwise print 'False'. Test your statements using the following lists `['angel', 'nightmare', 'poltergeist']` and `['darkness', 'king', 'fairy', 'owl']`."
      ]
    },
    {
      "cell_type": "code",
      "metadata": {
        "id": "usz1zAAlGvDJ"
      },
      "source": [
        "# ***************************************************\n",
        "# INSERT YOUR SOLUTION CODE HERE\n",
        "# ***************************************************"
      ],
      "execution_count": null,
      "outputs": []
    },
    {
      "cell_type": "markdown",
      "metadata": {
        "id": "lcFCBWiGGvDK"
      },
      "source": [
        "**2. Write a set of (or single) Python command(s) that compares the elements of a list.**\n",
        "\n",
        "> Write a set of Python commands that compares the first and last elements of a list. In case both elements consist of the same characters print 'True' otherwise print 'False'. Test your statements using the following list `['BROOMSTICK', 'ghostly', 'mYstEriOUs', 'BROOMSTICK']` and `['darkness', 'king', 'fairy', 'owl']`."
      ]
    },
    {
      "cell_type": "code",
      "metadata": {
        "id": "fZTOHwkpGvDK"
      },
      "source": [
        "# ***************************************************\n",
        "# INSERT YOUR SOLUTION CODE HERE\n",
        "# ***************************************************"
      ],
      "execution_count": null,
      "outputs": []
    },
    {
      "cell_type": "markdown",
      "metadata": {
        "id": "2Y7b2JZbGvDK"
      },
      "source": [
        "**3. Write a set of (or single) Python command(s) that removes elements of a list.**\n",
        "\n",
        "> Write a set of Python commands to print a specified list after removing the 0th, 2th, 3th, and 5th element. Test your statements using the following list `['BROOMSTICK', 'Happy', 'mYstEriOUs', 'BROOMSTICK', 'Halloween', 'Poltergeist']`."
      ]
    },
    {
      "cell_type": "code",
      "metadata": {
        "id": "GpjfPScZGvDK"
      },
      "source": [
        "# ***************************************************\n",
        "# INSERT YOUR SOLUTION CODE HERE\n",
        "# ***************************************************"
      ],
      "execution_count": null,
      "outputs": []
    },
    {
      "cell_type": "markdown",
      "metadata": {
        "id": "8OpzMBNWGvDK"
      },
      "source": [
        "### 4. Fundamental Programming Structures"
      ]
    },
    {
      "cell_type": "markdown",
      "metadata": {
        "id": "KerNUo7HGvDL"
      },
      "source": [
        "As part of this lab, we want to have a closer look at three basic programming structures of Python:\n",
        "\n",
        "> * **For-Loops** - used to iterate over a sequence of program statements.\n",
        "> * **Decision Structures** - used to anticipate conditions occurring while the execution of a program.\n",
        "> * **Functions** - used to define a block of code which only runs when it is called."
      ]
    },
    {
      "cell_type": "markdown",
      "metadata": {
        "id": "ZZxgTRsgGvDL"
      },
      "source": [
        "#### 4.1 Python Loop Structures"
      ]
    },
    {
      "cell_type": "markdown",
      "metadata": {
        "id": "KlZYEIW8GvDL"
      },
      "source": [
        "To keep a program doing some useful work we need some kind of repetition, looping back over the same block of code again and again. Below we will describe the different kinds of loops available in Python."
      ]
    },
    {
      "cell_type": "markdown",
      "metadata": {
        "id": "A_rRuXsnGvDL"
      },
      "source": [
        "#### 4.1.1. The \"For\"-Loop and Lists"
      ]
    },
    {
      "cell_type": "markdown",
      "metadata": {
        "id": "wtMSip_PGvDL"
      },
      "source": [
        "The for loop that is used to iterate over elements of a sequence, it is often used when you have a piece of code which you want to repeat a specifc \"n\" number of times. The nature of a for-loop in Python is very straightforward  **\"for all elements in a list, do this\".**"
      ]
    },
    {
      "cell_type": "markdown",
      "metadata": {
        "id": "mPbIjvj6GvDL"
      },
      "source": [
        "<img align=\"center\" style=\"max-width: 600px; height: auto\" src=\"https://github.com/GitiHubi/courseML/blob/master/lab_02/python_for_loop.png?raw=1\">"
      ]
    },
    {
      "cell_type": "markdown",
      "metadata": {
        "id": "KH8uICgbGvDM"
      },
      "source": [
        "Let's say that you have a list; you can then loop over the list elements using the `for` keyword like this:"
      ]
    },
    {
      "cell_type": "code",
      "metadata": {
        "id": "iNLhOPtYGvDM"
      },
      "source": [
        "# list initialization\n",
        "halloween_elements = ['cat', 'night', 'pumpkin']\n",
        "\n",
        "# loop initialization and run\n",
        "for anyname in halloween_elements: \n",
        "    print(anyname)"
      ],
      "execution_count": null,
      "outputs": []
    },
    {
      "cell_type": "markdown",
      "metadata": {
        "id": "XUrrbMypGvDM"
      },
      "source": [
        "**Note:** Python relies on the concept of indentation, using whitespace (or tabs), to define the scope in the code. Other programming languages such as Java or C# often use brackets or curly-brackets for this purpose."
      ]
    },
    {
      "cell_type": "markdown",
      "metadata": {
        "id": "wr92jO4SGvDM"
      },
      "source": [
        "Let's have a look at another example of a for-loop:"
      ]
    },
    {
      "cell_type": "code",
      "metadata": {
        "id": "Ireu8VUxGvDM"
      },
      "source": [
        "# init a list of numbers\n",
        "numbers = [1, 10, 20, 30, 40, 50]\n",
        "\n",
        "# init the result\n",
        "result = 0\n",
        "\n",
        "# loop initialization and run\n",
        "for number in numbers:\n",
        "    result = result + number\n",
        "    # result += number\n",
        "\n",
        "# print the result\n",
        "print(result)"
      ],
      "execution_count": null,
      "outputs": []
    },
    {
      "cell_type": "markdown",
      "metadata": {
        "id": "bXF2DpuQGvDN"
      },
      "source": [
        "To loop over a list of numbers, we can use Python's `range` function. The `range(lower_bound, upper_bound, step_size)` function generates a sequence of numbers, starting from the `lower_bound` to the `upper_bound`. The `lower_bound` and `step_size` parameters are optional. By default the lower bound is set to zero, the incremental step is set to one."
      ]
    },
    {
      "cell_type": "code",
      "metadata": {
        "id": "alitUcxWGvDN"
      },
      "source": [
        "# loop over range elements\n",
        "for i in range(1, 10):\n",
        "    \n",
        "    # print current value of i\n",
        "    print(i)"
      ],
      "execution_count": null,
      "outputs": []
    },
    {
      "cell_type": "markdown",
      "metadata": {
        "id": "HomJ8JD4GvDN"
      },
      "source": [
        "To break out from a loop, you can use the keyword `break`. Let's have a look at the following example: "
      ]
    },
    {
      "cell_type": "code",
      "metadata": {
        "id": "YGscRY0gGvDN"
      },
      "source": [
        "# loop over range elements\n",
        "for i in range(1, 10000000000):\n",
        "    \n",
        "    # case: current value of i equals 3?\n",
        "    if i == 3:\n",
        "        \n",
        "        # break: stop the loop\n",
        "        break \n",
        "        \n",
        "    # print current value of i\n",
        "    print(i)"
      ],
      "execution_count": null,
      "outputs": []
    },
    {
      "cell_type": "markdown",
      "metadata": {
        "id": "Ke-tM_hCGvDO"
      },
      "source": [
        "In contrast, the `continue` keyword is used to tell Python to skip the rest of the statements in the current loop block and to continue to the next iteration of the loop."
      ]
    },
    {
      "cell_type": "code",
      "metadata": {
        "id": "0iABaaV0GvDO"
      },
      "source": [
        "# loop over range elements\n",
        "for i in range(1, 10):\n",
        "    \n",
        "    # case: current value of i equals 3?\n",
        "    if i == 3:\n",
        "        \n",
        "        # continue: jump to next loop iteration \n",
        "        continue\n",
        "    \n",
        "    # print current value if i\n",
        "    print(i)"
      ],
      "execution_count": null,
      "outputs": []
    },
    {
      "cell_type": "markdown",
      "metadata": {
        "id": "0vsWEgG9GvDO"
      },
      "source": [
        "If you want access to the index of each element within the body of a loop, use the built-in enumerate function:"
      ]
    },
    {
      "cell_type": "code",
      "metadata": {
        "id": "vIwOb9PxGvDO"
      },
      "source": [
        "halloween_elements = ['cat', 'night', 'pumpkin']\n",
        "for idx, element in enumerate(halloween_elements):\n",
        "    print('#%d: %s' % (idx + 1, element))"
      ],
      "execution_count": null,
      "outputs": []
    },
    {
      "cell_type": "markdown",
      "metadata": {
        "id": "9ppeX-e_GvDO"
      },
      "source": [
        "When programming frequently, we want to transform one type of data into another. As a simple example, consider the following code that computes square numbers:"
      ]
    },
    {
      "cell_type": "code",
      "metadata": {
        "id": "REsL3fI3GvDP"
      },
      "source": [
        "nums = [0, 1, 2, 3, 4]\n",
        "squares = []\n",
        "for x in nums:\n",
        "    squares.append(x ** 2)\n",
        "print(squares)"
      ],
      "execution_count": null,
      "outputs": []
    },
    {
      "cell_type": "markdown",
      "metadata": {
        "id": "JoveFy0-GvDP"
      },
      "source": [
        "You can make this code simpler using a list comprehension:"
      ]
    },
    {
      "cell_type": "code",
      "metadata": {
        "id": "fqYKUdkaGvDP"
      },
      "source": [
        "nums = [0, 1, 2, 3, 4]\n",
        "squares = [x ** 2 for x in nums]\n",
        "print(squares)"
      ],
      "execution_count": null,
      "outputs": []
    },
    {
      "cell_type": "markdown",
      "metadata": {
        "id": "bndv9ql6GvDQ"
      },
      "source": [
        "List comprehensions can also contain conditions:"
      ]
    },
    {
      "cell_type": "code",
      "metadata": {
        "id": "etkCUKCCGvDQ"
      },
      "source": [
        "nums = [0, 1, 2, 3, 4]\n",
        "even_squares = [x ** 2 for x in nums if x % 2 == 0]\n",
        "print(even_squares)"
      ],
      "execution_count": null,
      "outputs": []
    },
    {
      "cell_type": "markdown",
      "metadata": {
        "id": "3QELAP53GvDQ"
      },
      "source": [
        "#### 4.1.2. The \"For\"-Loop and Dictionaries"
      ]
    },
    {
      "cell_type": "markdown",
      "metadata": {
        "id": "LibhEmLjGvDQ"
      },
      "source": [
        "Similarly, it is easy to iterate over the keys in a dictionary:"
      ]
    },
    {
      "cell_type": "code",
      "metadata": {
        "id": "ULZsnHHQGvDQ"
      },
      "source": [
        "d = {'pumpkin': 0, 'cat': 4, 'spider': 8}\n",
        "for animal in d:\n",
        "    legs = d[animal]\n",
        "    print('A %s has %d legs' % (animal, legs))"
      ],
      "execution_count": null,
      "outputs": []
    },
    {
      "cell_type": "markdown",
      "metadata": {
        "id": "SEqodFA1GvDR"
      },
      "source": [
        "If you want access to keys and their corresponding values, use the items method:"
      ]
    },
    {
      "cell_type": "code",
      "metadata": {
        "id": "16CKbYFuGvDR"
      },
      "source": [
        "d = {'pumpkin': 2, 'cat': 4, 'spider': 8}\n",
        "for animal, legs in d.items():\n",
        "    print('A %s has %d legs' % (animal, legs))"
      ],
      "execution_count": null,
      "outputs": []
    },
    {
      "cell_type": "markdown",
      "metadata": {
        "id": "Q3TdjSrKGvDR"
      },
      "source": [
        "### Exercises:"
      ]
    },
    {
      "cell_type": "markdown",
      "metadata": {
        "id": "7WdAq087GvDR"
      },
      "source": [
        "We recommend you to try the following exercises as part of the lab:\n",
        "\n",
        "**1. Write a Python loop that multiplies all elements of a list with 10.**\n",
        "\n",
        "> Write a Python loop that multiplies all elements of a list with `66`. The input list is given by `range(0, 10)` and its output should result in a list as denoted by: `[0, 66, 132, 198, 264, 330, 396, 462, 528, 594]`."
      ]
    },
    {
      "cell_type": "code",
      "metadata": {
        "id": "Lo1x1oSUGvDR"
      },
      "source": [
        "# ***************************************************\n",
        "# INSERT YOUR SOLUTION CODE HERE\n",
        "# ***************************************************"
      ],
      "execution_count": null,
      "outputs": []
    },
    {
      "cell_type": "markdown",
      "metadata": {
        "id": "VajeUYmxGvDS"
      },
      "source": [
        "**2. Write a Python loop that prints the numbers 1 to 10 backwards.**\n",
        "\n",
        "> Write a Python loop that prints the numbers 0 to 10 backwards. The output of the loop should print the following: `10, 9, 8, 7, 6, 5, 4, 3, 2, 1, 0`."
      ]
    },
    {
      "cell_type": "code",
      "metadata": {
        "id": "eb_FwJI8GvDS"
      },
      "source": [
        "# ***************************************************\n",
        "# INSERT YOUR SOLUTION CODE HERE\n",
        "# ***************************************************"
      ],
      "execution_count": null,
      "outputs": []
    },
    {
      "cell_type": "markdown",
      "metadata": {
        "id": "59nYdnn3GvDS"
      },
      "source": [
        "#### 4.2 Python Decision Structures"
      ]
    },
    {
      "cell_type": "markdown",
      "metadata": {
        "id": "5ck6ZPV3GvDS"
      },
      "source": [
        "Decision structures evaluate multiple expressions which produce **True** or **False** as an outcome. When solving a data science task, you often need to determine which action to take and which statements to execute if an outcome is **True** or **False** otherwise."
      ]
    },
    {
      "cell_type": "markdown",
      "metadata": {
        "id": "fN3mvxXyGvDS"
      },
      "source": [
        "<img align=\"center\" style=\"max-width: 600px; height: auto\" src=\"https://github.com/GitiHubi/courseML/blob/master/lab_02/python_decision_structures.png?raw=1\">"
      ]
    },
    {
      "cell_type": "markdown",
      "metadata": {
        "id": "VEZFvjynGvDT"
      },
      "source": [
        "Let's briefly recap Python's use of logical or mathematical conditions:"
      ]
    },
    {
      "cell_type": "code",
      "metadata": {
        "id": "rIDqi7kRGvDT"
      },
      "source": [
        "# init sample variables\n",
        "a = 4\n",
        "b = 7"
      ],
      "execution_count": null,
      "outputs": []
    },
    {
      "cell_type": "code",
      "metadata": {
        "id": "DgUQJUm6GvDT"
      },
      "source": [
        "print(a == b)  # equals\n",
        "print(a != b)  # not equals\n",
        "print(a < b)   # less than\n",
        "print(a <= b)  # less than or equal to \n",
        "print(a > b)   # greater than\n",
        "print(a >= b)  # greater than or equal to"
      ],
      "execution_count": null,
      "outputs": []
    },
    {
      "cell_type": "markdown",
      "metadata": {
        "id": "GhHv2TzwGvDU"
      },
      "source": [
        "The mathematical conditions outlined above can be used in several ways, most commonly in if-statements. An if-statement is written by using the `if` keyword. Let's have a look at an example:"
      ]
    },
    {
      "cell_type": "code",
      "metadata": {
        "id": "UoSXI1FzGvDU"
      },
      "source": [
        "# init sample variables\n",
        "a = 4\n",
        "b = 7\n",
        "\n",
        "# test condition\n",
        "if b > a:\n",
        "    print(\"b is greater than a\")"
      ],
      "execution_count": null,
      "outputs": []
    },
    {
      "cell_type": "markdown",
      "metadata": {
        "id": "X7KOtYjNGvDU"
      },
      "source": [
        "In the example above we used two variables, `a` and `b`, which are used as part of the if-statement to test whether `b` is greater than `a`. As a is 4, and b is 7, we know that 7 is greater than 4, and so we print that \"b is greater than a\"."
      ]
    },
    {
      "cell_type": "markdown",
      "metadata": {
        "id": "AktonhoUGvDU"
      },
      "source": [
        "We can easily enhance the if-statement above by additional conditions by the `elif` keyword. The `elif` keyword is pythons way of saying \"if the previous conditions were not true, then try this condition\":"
      ]
    },
    {
      "cell_type": "code",
      "metadata": {
        "id": "SyNG0dNvGvDV"
      },
      "source": [
        "a = 4\n",
        "b = 4\n",
        "\n",
        "# test condition 1\n",
        "if b > a:\n",
        "  print(\"b is greater than a\")\n",
        "\n",
        "# test condition 2\n",
        "elif a == b:\n",
        "  print(\"a and b are equal\")\n",
        "\n",
        "elif a != b:\n",
        "    print(\"test check and so on... \")"
      ],
      "execution_count": null,
      "outputs": []
    },
    {
      "cell_type": "markdown",
      "metadata": {
        "id": "8SaTapZAGvDV"
      },
      "source": [
        "Finally, we can use the `else` keyword to catch any case which isn't found by the preceding conditions:"
      ]
    },
    {
      "cell_type": "code",
      "metadata": {
        "id": "ylubut5uGvDV"
      },
      "source": [
        "a = 8\n",
        "b = 4\n",
        "\n",
        "# test condition 1\n",
        "if b > a:\n",
        "  print(\"b is greater than a\")\n",
        "\n",
        "# test condition 2\n",
        "elif a == b:\n",
        "  print(\"a and b are equal\")\n",
        "\n",
        "# all other cases\n",
        "else:\n",
        "  print(\"a is greater than b\")"
      ],
      "execution_count": null,
      "outputs": []
    },
    {
      "cell_type": "markdown",
      "metadata": {
        "id": "cEjj32z-GvDV"
      },
      "source": [
        "In the example above the value assigned to a variable `a` is greater than the value assigned to `b`, so the first `if` condition is not true. Also, the `elif` condition is not true, so we ultimately go to the `else` condition and print that \"a is greater than b\"."
      ]
    },
    {
      "cell_type": "markdown",
      "metadata": {
        "id": "LivPUC6IGvDV"
      },
      "source": [
        "### Exercises:"
      ]
    },
    {
      "cell_type": "markdown",
      "metadata": {
        "id": "D2g63fUmGvDV"
      },
      "source": [
        "We recommend you to try the following exercises as part of the lab:\n",
        "\n",
        "**1. Write a Python decision structure that prints all the numbers from 0 to 6 except 4 and 7.**\n",
        "\n",
        "> Write a Python decision structure that prints a number if it doesn't equal to 4 and 7. If the number equals 4 or 7 it should print 'forbidden number'."
      ]
    },
    {
      "cell_type": "code",
      "metadata": {
        "id": "Fm10ikrWGvDW"
      },
      "source": [
        "# ***************************************************\n",
        "# INSERT YOUR SOLUTION CODE HERE\n",
        "# ***************************************************"
      ],
      "execution_count": null,
      "outputs": []
    },
    {
      "cell_type": "markdown",
      "metadata": {
        "id": "ecly2v58GvDW"
      },
      "source": [
        "**2. Write a Python decision structure that evaluates if a number is a multiple of 5 and 7.**\n",
        "\n",
        "> Write a Python decision structure that evaluates if a number is a multiple of 5 and 7. Hint: You may want to use Python's percentage `%` operator as part of your case evaluation."
      ]
    },
    {
      "cell_type": "code",
      "metadata": {
        "id": "43P5G1NjGvDW"
      },
      "source": [
        "# ***************************************************\n",
        "# INSERT YOUR SOLUTION CODE HERE\n",
        "# ***************************************************"
      ],
      "execution_count": null,
      "outputs": []
    },
    {
      "cell_type": "markdown",
      "metadata": {
        "id": "YAllurTOGvDW"
      },
      "source": [
        "Dictionary comprehensions: These are similar to list comprehensions, but allow you to easily construct dictionaries. For example:"
      ]
    },
    {
      "cell_type": "code",
      "metadata": {
        "id": "VvXVLTpYGvDW"
      },
      "source": [
        "nums = [0, 1, 2, 3, 4]\n",
        "even_num_to_square = {x: x ** 2 for x in nums if x % 2 == 0}\n",
        "print(even_num_to_square)"
      ],
      "execution_count": null,
      "outputs": []
    },
    {
      "cell_type": "markdown",
      "metadata": {
        "id": "W3IrfNkxGvDW"
      },
      "source": [
        "#### 4.3 Python Functions "
      ]
    },
    {
      "cell_type": "markdown",
      "metadata": {
        "id": "BYS5FX1UGvDW"
      },
      "source": [
        "A function is a block of organized, reusable code that is used to perform a single, related action. Functions provide better modularity for your application and allow for a high degree of reusable code. As you already saw, Python provides you with many built-in functions such as `print()`, etc. but you can also create your functions. These functions are called **user-defined functions**.\n",
        "\n",
        "A function is a block of code which only runs when it is called. You can pass data, known as parameters, into a function. A function can return data as a result. Python functions are defined using the `def` keyword."
      ]
    },
    {
      "cell_type": "markdown",
      "metadata": {
        "id": "x1ftlT0LGvDX"
      },
      "source": [
        "<img align=\"mid\" style=\"width: 400px; height: auto\" src=\"https://github.com/GitiHubi/courseML/blob/master/lab_02/function.png?raw=1\">"
      ]
    },
    {
      "cell_type": "markdown",
      "metadata": {
        "id": "xk293L3sGvDX"
      },
      "source": [
        "(Source: https://swcarpentry.github.io/python-novice-inflammation/06-func/index.html.) \n",
        "\n",
        "Let's define our first function that takes a string as input parameter and prints it:"
      ]
    },
    {
      "cell_type": "code",
      "metadata": {
        "id": "iVaf8UfCGvDX"
      },
      "source": [
        "# defines a printme function\n",
        "def print_me(characters):\n",
        "    \n",
        "   # this prints a passed string into this function\n",
        "   print(characters)"
      ],
      "execution_count": null,
      "outputs": []
    },
    {
      "cell_type": "markdown",
      "metadata": {
        "id": "Gnqaugu9GvDX"
      },
      "source": [
        "Now, we can call our newly defined function using the function name followed by the arguments that we aim to pass in parenthesis:"
      ]
    },
    {
      "cell_type": "code",
      "metadata": {
        "id": "9avHoWKOGvDX"
      },
      "source": [
        "print_me(characters=\"I'm first call to user defined function!\")\n",
        "print_me(characters=\"Again second call to the same function\")"
      ],
      "execution_count": null,
      "outputs": []
    },
    {
      "cell_type": "markdown",
      "metadata": {
        "id": "QMSLlvLgGvDX"
      },
      "source": [
        "Isn't that fantastic? "
      ]
    },
    {
      "cell_type": "markdown",
      "metadata": {
        "id": "-rv-OG6nGvDY"
      },
      "source": [
        "Now that we understood the syntax to create customized functions, we can create even more complex functions. Let's implement a function that determines if a given integer number is positive, negative or zero using a decision structure and prints the result accordingly:"
      ]
    },
    {
      "cell_type": "code",
      "metadata": {
        "id": "1W-3LZ4-GvDY"
      },
      "source": [
        "# defines a sign evaluation function\n",
        "def sign(x):\n",
        "    \n",
        "    # case: positive value\n",
        "    if x > 0:\n",
        "        \n",
        "        # return the string 'positive'\n",
        "        return 'positive'\n",
        "    \n",
        "    # case: negative value\n",
        "    elif x < 0:\n",
        "        \n",
        "        # return the string 'negative'\n",
        "        return 'negative'\n",
        "    \n",
        "    # else: other value\n",
        "    else:\n",
        "        \n",
        "        # return the string 'zero'\n",
        "        return 'zero'"
      ],
      "execution_count": null,
      "outputs": []
    },
    {
      "cell_type": "markdown",
      "metadata": {
        "id": "ipMV0sLOGvDY"
      },
      "source": [
        "Now we call our function and print the result of sign evaluation for distinct values:"
      ]
    },
    {
      "cell_type": "code",
      "metadata": {
        "id": "2AWIN885GvDY"
      },
      "source": [
        "print(sign(x=-1))\n",
        "print(sign(x=0))\n",
        "print(sign(x=1))"
      ],
      "execution_count": null,
      "outputs": []
    },
    {
      "cell_type": "markdown",
      "metadata": {
        "id": "Ahfn4JdHGvDY"
      },
      "source": [
        "We will often define functions to take optional keyword arguments. An optional argument is an argument that assumes a default value if a value is not provided in the function call for that argument. The following example provides an idea on default arguments, it prints the characters given in upper case if not specified differently, like this:"
      ]
    },
    {
      "cell_type": "code",
      "metadata": {
        "id": "98EdGCnyGvDY"
      },
      "source": [
        "def hello(characters, loud=1633):\n",
        "    \n",
        "    # case: default - loud print enabled\n",
        "    if loud:\n",
        "        print('HELLO, %s' % characters.upper())\n",
        "        \n",
        "    # case: non-loud print enabled\n",
        "    else:\n",
        "        print('Hello, %s!' % characters)"
      ],
      "execution_count": null,
      "outputs": []
    },
    {
      "cell_type": "code",
      "metadata": {
        "id": "E-KM1xe-GvDZ"
      },
      "source": [
        "hello(characters='Helloween', loud=1000)"
      ],
      "execution_count": null,
      "outputs": []
    },
    {
      "cell_type": "code",
      "metadata": {
        "id": "oRotstV3GvDZ"
      },
      "source": [
        "hello(characters='Helloween', loud=False)"
      ],
      "execution_count": null,
      "outputs": []
    },
    {
      "cell_type": "markdown",
      "metadata": {
        "id": "letlU1WyGvDZ"
      },
      "source": [
        "### Exercises:"
      ]
    },
    {
      "cell_type": "markdown",
      "metadata": {
        "id": "qdP0wgOMGvDZ"
      },
      "source": [
        "We recommend you to try the following exercises as part of the lab:\n",
        "\n",
        "**1. Write a Python function to calculate the length of a string.**\n",
        "\n",
        ">Write a Python function named **\"string_length\"** to calculate the length of an arbitrary string. The function should take an arbitrary string as input and count the number of its characters. Test your function accordingly using various string values and print the results, e.g., input: 'Halloween', expected result: 9."
      ]
    },
    {
      "cell_type": "code",
      "metadata": {
        "id": "auE61FsCGvDZ"
      },
      "source": [
        "# ***************************************************\n",
        "# INSERT YOUR SOLUTION CODE HERE\n",
        "# ***************************************************"
      ],
      "execution_count": null,
      "outputs": []
    },
    {
      "cell_type": "markdown",
      "metadata": {
        "id": "JXULrl5gGvDZ"
      },
      "source": [
        "**2. Write a Python program to get the largest number from a list.**\n",
        "\n",
        ">Write a Python function named **\"max_num_in_list\"** to get the largest number from a list. The function should take an arbitrary list of integer values as an input and should return the integer that corresponds to the highest value. Test your function accordingly using various string values and print the results, e.g., input: [1, 5, 8, 3], expected result: 8."
      ]
    },
    {
      "cell_type": "code",
      "metadata": {
        "id": "sQhVaqZfGvDb"
      },
      "source": [
        "# ***************************************************\n",
        "# INSERT YOUR SOLUTION CODE HERE\n",
        "# ***************************************************"
      ],
      "execution_count": null,
      "outputs": []
    },
    {
      "cell_type": "markdown",
      "metadata": {
        "id": "1no9ifRUGvDb"
      },
      "source": [
        "**3. Write a Python program to count the number of characters (character frequency) in a string.**\n",
        "\n",
        ">Write a Python function named **\"char_frequency\"** to count the number of distinct characters occurring in it. The function should take an arbitrary string as an input and should return the count of occurence each individual character. Test your function accordingly using various string values and print the results, e.g., input: 'Happy Halllllloweeeeeen!', expected result: {'a': 2, ' ': 1, 'e': 6, 'H': 2, 'l': 6, 'o': 1, 'n': 1, 'p': 2, '!': 1, 'w': 1, 'y': 1}."
      ]
    },
    {
      "cell_type": "code",
      "metadata": {
        "id": "rR8UiLshGvDc"
      },
      "source": [
        "# ***************************************************\n",
        "# INSERT YOUR SOLUTION CODE HERE\n",
        "# ***************************************************"
      ],
      "execution_count": null,
      "outputs": []
    },
    {
      "cell_type": "markdown",
      "metadata": {
        "id": "Hcf_HehiGvDc"
      },
      "source": [
        "**Bonus: Write a Python function that takes a list of words and returns the one exhibiting the most characters.**\n",
        "\n",
        ">Write a Python function named **find_longest_word** that takes a list of words and returns the length of the longest word in the list. The function should take an arbitrary list of string values (words) as an input and should return the word that exhibits the most characters. Test your function accordingly using various lists of string values and print the results, e.g., input: ['Happy', 'Halloween', '2018'], expected result: 'Halloween'."
      ]
    },
    {
      "cell_type": "code",
      "metadata": {
        "id": "Agsv2m4vGvDd"
      },
      "source": [
        "# ***************************************************\n",
        "# INSERT YOUR SOLUTION CODE HERE\n",
        "# ***************************************************"
      ],
      "execution_count": null,
      "outputs": []
    },
    {
      "cell_type": "markdown",
      "metadata": {
        "id": "90wbc4p9GvDd"
      },
      "source": [
        "### [BONUS] 5. Basic Python Image Manipulations"
      ]
    },
    {
      "cell_type": "markdown",
      "metadata": {
        "id": "XwXVR32sGvDd"
      },
      "source": [
        "The **\"Python Imaging Library (Pillow)\"** by Alex Clark and contributors (abbreviated as PIL, in newer versions known as Pillow), is a free library for the Python programming language that adds support for opening, manipulating, and saving many different image file formats (https://pillow.readthedocs.io/en/stable/). Using the PIL library in combination with the Numpy library allows for a great deal image analysis and manipulation. \n",
        "\n",
        "To make an arbitrary image interpretable for a computer images are usually represented by 3D tensors as shown below:"
      ]
    },
    {
      "cell_type": "markdown",
      "metadata": {
        "id": "jm9M4GJzGvDd"
      },
      "source": [
        "<img align=\"center\" style=\"max-width: 1000px; height: auto\" src=\"https://github.com/GitiHubi/courseML/blob/master/lab_02/python_image_processing.png?raw=1\">"
      ]
    },
    {
      "cell_type": "markdown",
      "metadata": {
        "id": "nXZP1ybnGvDe"
      },
      "source": [
        "(Source: **\"Learning Perceptual Organization with Minimal Human Supervision\"**, Stella Yu, UC Berkeley, 2019.) "
      ]
    },
    {
      "cell_type": "markdown",
      "metadata": {
        "id": "56c-XcVTGvDe"
      },
      "source": [
        "Pls. note, that prior to using PIL you need to install the Python Image package. A brief installation instruction can be obtained from: https://pillow.readthedocs.io/en/5.3.x/installation.html. The package can installed via the following command:"
      ]
    },
    {
      "cell_type": "code",
      "metadata": {
        "id": "tzbCp6XRGvDe"
      },
      "source": [
        "!pip install pillow\n",
        "!pip install scikit-image"
      ],
      "execution_count": null,
      "outputs": []
    },
    {
      "cell_type": "markdown",
      "metadata": {
        "id": "MRY6fZhsGvDe"
      },
      "source": [
        "Upon successful installation we can now import the `PIL` and `Scikit-Image` libraries:"
      ]
    },
    {
      "cell_type": "code",
      "metadata": {
        "id": "69hbnJd2GvDe"
      },
      "source": [
        "# use this statement to show plots inside your notebook\n",
        "%matplotlib inline\n",
        "\n",
        "# import the pil, numpy and the matplotlib libraries\n",
        "from PIL import Image\n",
        "import numpy as np\n",
        "import matplotlib.pyplot as plt\n",
        "\n",
        "# import the scikit image library\n",
        "from skimage import io"
      ],
      "execution_count": null,
      "outputs": []
    },
    {
      "cell_type": "markdown",
      "metadata": {
        "id": "5AxqzJp7GvDf"
      },
      "source": [
        "The `PIL` library supports a wide variety of image file formats. To read files from disk, use the image read `imread` function of the `Scikit-Image` library. You don’t have to know the file format to open a file. The library automatically determines the format based on the contents of the file."
      ]
    },
    {
      "cell_type": "markdown",
      "metadata": {
        "id": "Z-QQRafdGvDf"
      },
      "source": [
        "#### 5.1. Image Loading and Plotting"
      ]
    },
    {
      "cell_type": "markdown",
      "metadata": {
        "id": "ooF7FwQ9GvDg"
      },
      "source": [
        "Let's open and plot the `halloween.jpg` image file:"
      ]
    },
    {
      "cell_type": "code",
      "metadata": {
        "id": "IA3-aq3NGvDg"
      },
      "source": [
        "image = io.imread(\"https://raw.githubusercontent.com/gitihubi/courseAIML/master/lab_02/halloween.jpg\")\n",
        "plt.imshow(image, vmin=0, vmax=255)"
      ],
      "execution_count": null,
      "outputs": []
    },
    {
      "cell_type": "markdown",
      "metadata": {
        "id": "xQeMGB_DGvDg"
      },
      "source": [
        "Let's have a look at the exact shape of the image:"
      ]
    },
    {
      "cell_type": "code",
      "metadata": {
        "id": "NHqh0ZXXGvDg"
      },
      "source": [
        "h, w, c = image.shape\n",
        "\n",
        "print(h)   # prints the image height\n",
        "print(w)   # prints the image width\n",
        "print(c)   # prints the number of image color channels = 3 for red, green, blue (rgb)"
      ],
      "execution_count": null,
      "outputs": []
    },
    {
      "cell_type": "markdown",
      "metadata": {
        "id": "_Jp3K71AGvDg"
      },
      "source": [
        "#### 5.2. Image Cropping"
      ]
    },
    {
      "cell_type": "markdown",
      "metadata": {
        "id": "uboAldCMGvDh"
      },
      "source": [
        "Use PIL to extract the upper pumpkin of the image:"
      ]
    },
    {
      "cell_type": "code",
      "metadata": {
        "id": "ghVAWgOhGvDh"
      },
      "source": [
        "upper_pumpkin = image[20:250, 20:300, :]\n",
        "plt.imshow(upper_pumpkin, vmin=0, vmax=255)"
      ],
      "execution_count": null,
      "outputs": []
    },
    {
      "cell_type": "code",
      "metadata": {
        "id": "irDyLWhaGvDh"
      },
      "source": [
        "upper_pumpkin.shape"
      ],
      "execution_count": null,
      "outputs": []
    },
    {
      "cell_type": "markdown",
      "metadata": {
        "id": "nJrZ1Y4rGvDh"
      },
      "source": [
        "#### 5.3. Image Channel Extraction"
      ]
    },
    {
      "cell_type": "markdown",
      "metadata": {
        "id": "raG2zBIIGvDh"
      },
      "source": [
        "Let's extract the distinct (RGB) colour channels of the image:"
      ]
    },
    {
      "cell_type": "code",
      "metadata": {
        "id": "egNOxSlAGvDh"
      },
      "source": [
        "# extraction of the red colour channel\n",
        "red_channel = np.zeros(upper_pumpkin.shape, dtype='uint8')\n",
        "red_channel[:,:,0] = upper_pumpkin[:,:,0]\n",
        "\n",
        "plt.imshow(red_channel)"
      ],
      "execution_count": null,
      "outputs": []
    },
    {
      "cell_type": "code",
      "metadata": {
        "id": "2KI08prVGvDi"
      },
      "source": [
        "# extraction of the green colour channel\n",
        "green_channel = np.zeros(upper_pumpkin.shape, dtype='uint8')\n",
        "green_channel[:,:,1] = upper_pumpkin[:,:,1]\n",
        "\n",
        "plt.imshow(green_channel)"
      ],
      "execution_count": null,
      "outputs": []
    },
    {
      "cell_type": "code",
      "metadata": {
        "id": "DrGgxT9FGvDi"
      },
      "source": [
        "# extraction of a blue colour channel\n",
        "blue_channel = np.zeros(upper_pumpkin.shape, dtype='uint8')\n",
        "blue_channel[:,:,2] = upper_pumpkin[:,:,2]\n",
        "\n",
        "plt.imshow(blue_channel)"
      ],
      "execution_count": null,
      "outputs": []
    },
    {
      "cell_type": "markdown",
      "metadata": {
        "id": "Ej0_gYpJGvDi"
      },
      "source": [
        "#### 5.4. Image Manipulation"
      ]
    },
    {
      "cell_type": "markdown",
      "metadata": {
        "id": "ab6VKy4wGvDi"
      },
      "source": [
        "Greyscale the image by setting the third image channel to mean of all colour values:"
      ]
    },
    {
      "cell_type": "code",
      "metadata": {
        "id": "fxAwnxL-GvDi"
      },
      "source": [
        "gray = upper_pumpkin.mean(axis=2)\n",
        "plot = plt.imshow(gray, cmap=plt.cm.gray, vmin=0, vmax=255)"
      ],
      "execution_count": null,
      "outputs": []
    },
    {
      "cell_type": "markdown",
      "metadata": {
        "id": "nqjmIpMwGvDi"
      },
      "source": [
        "To learn more about PIL and its capabilites visit: https://pillow.readthedocs.io."
      ]
    },
    {
      "cell_type": "markdown",
      "metadata": {
        "id": "SRtTMkxtGvDi"
      },
      "source": [
        "### Lab Summary:"
      ]
    },
    {
      "cell_type": "markdown",
      "metadata": {
        "id": "a2aIzGfpGvDj"
      },
      "source": [
        "In this second lab, the basic data types and containers of the Python programming language are presented. The code and exercises presented in this lab may serve as a starting point for more complex and tailored analytics. "
      ]
    },
    {
      "cell_type": "markdown",
      "metadata": {
        "id": "1Fmhdv5QGvDj"
      },
      "source": [
        "You may want to execute the content of your lab outside of the Jupyter notebook environment, e.g. on a compute node or a server. The cell below converts the lab notebook into a standalone and executable python script. Pls. note, that to convert the notebook you need to install Python's **nbconvert** library and its extensions:"
      ]
    },
    {
      "cell_type": "code",
      "metadata": {
        "id": "fpiKk7AgGvDj"
      },
      "source": [
        "# installing the nbconvert library\n",
        "!pip install nbconvert\n",
        "!pip install jupyter_contrib_nbextensions"
      ],
      "execution_count": null,
      "outputs": []
    },
    {
      "cell_type": "markdown",
      "metadata": {
        "id": "9lSm0wrAGvDj"
      },
      "source": [
        "Convert the Jupyter notebook into a plain Python script:"
      ]
    },
    {
      "cell_type": "code",
      "metadata": {
        "id": "yuuLSXbzGvDj"
      },
      "source": [
        "!jupyter nbconvert --to script ml_colab_02.ipynb"
      ],
      "execution_count": null,
      "outputs": []
    }
  ]
}